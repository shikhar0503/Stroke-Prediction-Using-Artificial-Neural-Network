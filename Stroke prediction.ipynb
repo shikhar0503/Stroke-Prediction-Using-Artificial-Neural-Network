{
 "cells": [
  {
   "cell_type": "markdown",
   "id": "32a5744d",
   "metadata": {},
   "source": [
    "# Prediciton of Strokes using Artificial Neural Networks"
   ]
  },
  {
   "cell_type": "code",
   "execution_count": 1,
   "id": "6fbc5974",
   "metadata": {},
   "outputs": [],
   "source": [
    "import numpy as np\n",
    "import pandas as pd\n",
    "import matplotlib.pyplot as plt\n",
    "import seaborn as sns\n",
    "\n",
    "import tensorflow as tf\n",
    "\n",
    "import warnings\n",
    "warnings.filterwarnings('ignore')"
   ]
  },
  {
   "cell_type": "markdown",
   "id": "c5ffed1d",
   "metadata": {},
   "source": [
    "### Importing the dataset and checking the data"
   ]
  },
  {
   "cell_type": "code",
   "execution_count": 2,
   "id": "aa13fbab",
   "metadata": {},
   "outputs": [
    {
     "data": {
      "text/html": [
       "<div>\n",
       "<style scoped>\n",
       "    .dataframe tbody tr th:only-of-type {\n",
       "        vertical-align: middle;\n",
       "    }\n",
       "\n",
       "    .dataframe tbody tr th {\n",
       "        vertical-align: top;\n",
       "    }\n",
       "\n",
       "    .dataframe thead th {\n",
       "        text-align: right;\n",
       "    }\n",
       "</style>\n",
       "<table border=\"1\" class=\"dataframe\">\n",
       "  <thead>\n",
       "    <tr style=\"text-align: right;\">\n",
       "      <th></th>\n",
       "      <th>id</th>\n",
       "      <th>gender</th>\n",
       "      <th>age</th>\n",
       "      <th>hypertension</th>\n",
       "      <th>heart_disease</th>\n",
       "      <th>ever_married</th>\n",
       "      <th>work_type</th>\n",
       "      <th>Residence_type</th>\n",
       "      <th>avg_glucose_level</th>\n",
       "      <th>bmi</th>\n",
       "      <th>smoking_status</th>\n",
       "      <th>stroke</th>\n",
       "    </tr>\n",
       "  </thead>\n",
       "  <tbody>\n",
       "    <tr>\n",
       "      <th>0</th>\n",
       "      <td>9046</td>\n",
       "      <td>Male</td>\n",
       "      <td>67.0</td>\n",
       "      <td>0</td>\n",
       "      <td>1</td>\n",
       "      <td>Yes</td>\n",
       "      <td>Private</td>\n",
       "      <td>Urban</td>\n",
       "      <td>228.69</td>\n",
       "      <td>36.6</td>\n",
       "      <td>formerly smoked</td>\n",
       "      <td>1</td>\n",
       "    </tr>\n",
       "    <tr>\n",
       "      <th>1</th>\n",
       "      <td>51676</td>\n",
       "      <td>Female</td>\n",
       "      <td>61.0</td>\n",
       "      <td>0</td>\n",
       "      <td>0</td>\n",
       "      <td>Yes</td>\n",
       "      <td>Self-employed</td>\n",
       "      <td>Rural</td>\n",
       "      <td>202.21</td>\n",
       "      <td>NaN</td>\n",
       "      <td>never smoked</td>\n",
       "      <td>1</td>\n",
       "    </tr>\n",
       "    <tr>\n",
       "      <th>2</th>\n",
       "      <td>31112</td>\n",
       "      <td>Male</td>\n",
       "      <td>80.0</td>\n",
       "      <td>0</td>\n",
       "      <td>1</td>\n",
       "      <td>Yes</td>\n",
       "      <td>Private</td>\n",
       "      <td>Rural</td>\n",
       "      <td>105.92</td>\n",
       "      <td>32.5</td>\n",
       "      <td>never smoked</td>\n",
       "      <td>1</td>\n",
       "    </tr>\n",
       "    <tr>\n",
       "      <th>3</th>\n",
       "      <td>60182</td>\n",
       "      <td>Female</td>\n",
       "      <td>49.0</td>\n",
       "      <td>0</td>\n",
       "      <td>0</td>\n",
       "      <td>Yes</td>\n",
       "      <td>Private</td>\n",
       "      <td>Urban</td>\n",
       "      <td>171.23</td>\n",
       "      <td>34.4</td>\n",
       "      <td>smokes</td>\n",
       "      <td>1</td>\n",
       "    </tr>\n",
       "    <tr>\n",
       "      <th>4</th>\n",
       "      <td>1665</td>\n",
       "      <td>Female</td>\n",
       "      <td>79.0</td>\n",
       "      <td>1</td>\n",
       "      <td>0</td>\n",
       "      <td>Yes</td>\n",
       "      <td>Self-employed</td>\n",
       "      <td>Rural</td>\n",
       "      <td>174.12</td>\n",
       "      <td>24.0</td>\n",
       "      <td>never smoked</td>\n",
       "      <td>1</td>\n",
       "    </tr>\n",
       "  </tbody>\n",
       "</table>\n",
       "</div>"
      ],
      "text/plain": [
       "      id  gender   age  hypertension  heart_disease ever_married  \\\n",
       "0   9046    Male  67.0             0              1          Yes   \n",
       "1  51676  Female  61.0             0              0          Yes   \n",
       "2  31112    Male  80.0             0              1          Yes   \n",
       "3  60182  Female  49.0             0              0          Yes   \n",
       "4   1665  Female  79.0             1              0          Yes   \n",
       "\n",
       "       work_type Residence_type  avg_glucose_level   bmi   smoking_status  \\\n",
       "0        Private          Urban             228.69  36.6  formerly smoked   \n",
       "1  Self-employed          Rural             202.21   NaN     never smoked   \n",
       "2        Private          Rural             105.92  32.5     never smoked   \n",
       "3        Private          Urban             171.23  34.4           smokes   \n",
       "4  Self-employed          Rural             174.12  24.0     never smoked   \n",
       "\n",
       "   stroke  \n",
       "0       1  \n",
       "1       1  \n",
       "2       1  \n",
       "3       1  \n",
       "4       1  "
      ]
     },
     "execution_count": 2,
     "metadata": {},
     "output_type": "execute_result"
    }
   ],
   "source": [
    "strokes_df = pd.read_csv(\"healthcare-dataset-stroke-data.csv\")\n",
    "strokes_df.head()"
   ]
  },
  {
   "cell_type": "code",
   "execution_count": 3,
   "id": "f81aa4a8",
   "metadata": {},
   "outputs": [
    {
     "data": {
      "text/html": [
       "<div>\n",
       "<style scoped>\n",
       "    .dataframe tbody tr th:only-of-type {\n",
       "        vertical-align: middle;\n",
       "    }\n",
       "\n",
       "    .dataframe tbody tr th {\n",
       "        vertical-align: top;\n",
       "    }\n",
       "\n",
       "    .dataframe thead th {\n",
       "        text-align: right;\n",
       "    }\n",
       "</style>\n",
       "<table border=\"1\" class=\"dataframe\">\n",
       "  <thead>\n",
       "    <tr style=\"text-align: right;\">\n",
       "      <th></th>\n",
       "      <th>id</th>\n",
       "      <th>gender</th>\n",
       "      <th>age</th>\n",
       "      <th>hypertension</th>\n",
       "      <th>heart_disease</th>\n",
       "      <th>ever_married</th>\n",
       "      <th>work_type</th>\n",
       "      <th>Residence_type</th>\n",
       "      <th>avg_glucose_level</th>\n",
       "      <th>bmi</th>\n",
       "      <th>smoking_status</th>\n",
       "      <th>stroke</th>\n",
       "    </tr>\n",
       "  </thead>\n",
       "  <tbody>\n",
       "    <tr>\n",
       "      <th>5105</th>\n",
       "      <td>18234</td>\n",
       "      <td>Female</td>\n",
       "      <td>80.0</td>\n",
       "      <td>1</td>\n",
       "      <td>0</td>\n",
       "      <td>Yes</td>\n",
       "      <td>Private</td>\n",
       "      <td>Urban</td>\n",
       "      <td>83.75</td>\n",
       "      <td>NaN</td>\n",
       "      <td>never smoked</td>\n",
       "      <td>0</td>\n",
       "    </tr>\n",
       "    <tr>\n",
       "      <th>5106</th>\n",
       "      <td>44873</td>\n",
       "      <td>Female</td>\n",
       "      <td>81.0</td>\n",
       "      <td>0</td>\n",
       "      <td>0</td>\n",
       "      <td>Yes</td>\n",
       "      <td>Self-employed</td>\n",
       "      <td>Urban</td>\n",
       "      <td>125.20</td>\n",
       "      <td>40.0</td>\n",
       "      <td>never smoked</td>\n",
       "      <td>0</td>\n",
       "    </tr>\n",
       "    <tr>\n",
       "      <th>5107</th>\n",
       "      <td>19723</td>\n",
       "      <td>Female</td>\n",
       "      <td>35.0</td>\n",
       "      <td>0</td>\n",
       "      <td>0</td>\n",
       "      <td>Yes</td>\n",
       "      <td>Self-employed</td>\n",
       "      <td>Rural</td>\n",
       "      <td>82.99</td>\n",
       "      <td>30.6</td>\n",
       "      <td>never smoked</td>\n",
       "      <td>0</td>\n",
       "    </tr>\n",
       "    <tr>\n",
       "      <th>5108</th>\n",
       "      <td>37544</td>\n",
       "      <td>Male</td>\n",
       "      <td>51.0</td>\n",
       "      <td>0</td>\n",
       "      <td>0</td>\n",
       "      <td>Yes</td>\n",
       "      <td>Private</td>\n",
       "      <td>Rural</td>\n",
       "      <td>166.29</td>\n",
       "      <td>25.6</td>\n",
       "      <td>formerly smoked</td>\n",
       "      <td>0</td>\n",
       "    </tr>\n",
       "    <tr>\n",
       "      <th>5109</th>\n",
       "      <td>44679</td>\n",
       "      <td>Female</td>\n",
       "      <td>44.0</td>\n",
       "      <td>0</td>\n",
       "      <td>0</td>\n",
       "      <td>Yes</td>\n",
       "      <td>Govt_job</td>\n",
       "      <td>Urban</td>\n",
       "      <td>85.28</td>\n",
       "      <td>26.2</td>\n",
       "      <td>Unknown</td>\n",
       "      <td>0</td>\n",
       "    </tr>\n",
       "  </tbody>\n",
       "</table>\n",
       "</div>"
      ],
      "text/plain": [
       "         id  gender   age  hypertension  heart_disease ever_married  \\\n",
       "5105  18234  Female  80.0             1              0          Yes   \n",
       "5106  44873  Female  81.0             0              0          Yes   \n",
       "5107  19723  Female  35.0             0              0          Yes   \n",
       "5108  37544    Male  51.0             0              0          Yes   \n",
       "5109  44679  Female  44.0             0              0          Yes   \n",
       "\n",
       "          work_type Residence_type  avg_glucose_level   bmi   smoking_status  \\\n",
       "5105        Private          Urban              83.75   NaN     never smoked   \n",
       "5106  Self-employed          Urban             125.20  40.0     never smoked   \n",
       "5107  Self-employed          Rural              82.99  30.6     never smoked   \n",
       "5108        Private          Rural             166.29  25.6  formerly smoked   \n",
       "5109       Govt_job          Urban              85.28  26.2          Unknown   \n",
       "\n",
       "      stroke  \n",
       "5105       0  \n",
       "5106       0  \n",
       "5107       0  \n",
       "5108       0  \n",
       "5109       0  "
      ]
     },
     "execution_count": 3,
     "metadata": {},
     "output_type": "execute_result"
    }
   ],
   "source": [
    "strokes_df.tail()"
   ]
  },
  {
   "cell_type": "code",
   "execution_count": 4,
   "id": "09a6db56",
   "metadata": {},
   "outputs": [
    {
     "name": "stdout",
     "output_type": "stream",
     "text": [
      "<class 'pandas.core.frame.DataFrame'>\n",
      "RangeIndex: 5110 entries, 0 to 5109\n",
      "Data columns (total 12 columns):\n",
      " #   Column             Non-Null Count  Dtype  \n",
      "---  ------             --------------  -----  \n",
      " 0   id                 5110 non-null   int64  \n",
      " 1   gender             5110 non-null   object \n",
      " 2   age                5110 non-null   float64\n",
      " 3   hypertension       5110 non-null   int64  \n",
      " 4   heart_disease      5110 non-null   int64  \n",
      " 5   ever_married       5110 non-null   object \n",
      " 6   work_type          5110 non-null   object \n",
      " 7   Residence_type     5110 non-null   object \n",
      " 8   avg_glucose_level  5110 non-null   float64\n",
      " 9   bmi                4909 non-null   float64\n",
      " 10  smoking_status     5110 non-null   object \n",
      " 11  stroke             5110 non-null   int64  \n",
      "dtypes: float64(3), int64(4), object(5)\n",
      "memory usage: 479.2+ KB\n"
     ]
    }
   ],
   "source": [
    "strokes_df.info()"
   ]
  },
  {
   "cell_type": "code",
   "execution_count": 5,
   "id": "f8538278",
   "metadata": {},
   "outputs": [
    {
     "data": {
      "text/html": [
       "<div>\n",
       "<style scoped>\n",
       "    .dataframe tbody tr th:only-of-type {\n",
       "        vertical-align: middle;\n",
       "    }\n",
       "\n",
       "    .dataframe tbody tr th {\n",
       "        vertical-align: top;\n",
       "    }\n",
       "\n",
       "    .dataframe thead th {\n",
       "        text-align: right;\n",
       "    }\n",
       "</style>\n",
       "<table border=\"1\" class=\"dataframe\">\n",
       "  <thead>\n",
       "    <tr style=\"text-align: right;\">\n",
       "      <th></th>\n",
       "      <th>id</th>\n",
       "      <th>age</th>\n",
       "      <th>hypertension</th>\n",
       "      <th>heart_disease</th>\n",
       "      <th>avg_glucose_level</th>\n",
       "      <th>bmi</th>\n",
       "      <th>stroke</th>\n",
       "    </tr>\n",
       "  </thead>\n",
       "  <tbody>\n",
       "    <tr>\n",
       "      <th>count</th>\n",
       "      <td>5110.000000</td>\n",
       "      <td>5110.000000</td>\n",
       "      <td>5110.000000</td>\n",
       "      <td>5110.000000</td>\n",
       "      <td>5110.000000</td>\n",
       "      <td>4909.000000</td>\n",
       "      <td>5110.000000</td>\n",
       "    </tr>\n",
       "    <tr>\n",
       "      <th>mean</th>\n",
       "      <td>36517.829354</td>\n",
       "      <td>43.226614</td>\n",
       "      <td>0.097456</td>\n",
       "      <td>0.054012</td>\n",
       "      <td>106.147677</td>\n",
       "      <td>28.893237</td>\n",
       "      <td>0.048728</td>\n",
       "    </tr>\n",
       "    <tr>\n",
       "      <th>std</th>\n",
       "      <td>21161.721625</td>\n",
       "      <td>22.612647</td>\n",
       "      <td>0.296607</td>\n",
       "      <td>0.226063</td>\n",
       "      <td>45.283560</td>\n",
       "      <td>7.854067</td>\n",
       "      <td>0.215320</td>\n",
       "    </tr>\n",
       "    <tr>\n",
       "      <th>min</th>\n",
       "      <td>67.000000</td>\n",
       "      <td>0.080000</td>\n",
       "      <td>0.000000</td>\n",
       "      <td>0.000000</td>\n",
       "      <td>55.120000</td>\n",
       "      <td>10.300000</td>\n",
       "      <td>0.000000</td>\n",
       "    </tr>\n",
       "    <tr>\n",
       "      <th>25%</th>\n",
       "      <td>17741.250000</td>\n",
       "      <td>25.000000</td>\n",
       "      <td>0.000000</td>\n",
       "      <td>0.000000</td>\n",
       "      <td>77.245000</td>\n",
       "      <td>23.500000</td>\n",
       "      <td>0.000000</td>\n",
       "    </tr>\n",
       "    <tr>\n",
       "      <th>50%</th>\n",
       "      <td>36932.000000</td>\n",
       "      <td>45.000000</td>\n",
       "      <td>0.000000</td>\n",
       "      <td>0.000000</td>\n",
       "      <td>91.885000</td>\n",
       "      <td>28.100000</td>\n",
       "      <td>0.000000</td>\n",
       "    </tr>\n",
       "    <tr>\n",
       "      <th>75%</th>\n",
       "      <td>54682.000000</td>\n",
       "      <td>61.000000</td>\n",
       "      <td>0.000000</td>\n",
       "      <td>0.000000</td>\n",
       "      <td>114.090000</td>\n",
       "      <td>33.100000</td>\n",
       "      <td>0.000000</td>\n",
       "    </tr>\n",
       "    <tr>\n",
       "      <th>max</th>\n",
       "      <td>72940.000000</td>\n",
       "      <td>82.000000</td>\n",
       "      <td>1.000000</td>\n",
       "      <td>1.000000</td>\n",
       "      <td>271.740000</td>\n",
       "      <td>97.600000</td>\n",
       "      <td>1.000000</td>\n",
       "    </tr>\n",
       "  </tbody>\n",
       "</table>\n",
       "</div>"
      ],
      "text/plain": [
       "                 id          age  hypertension  heart_disease  \\\n",
       "count   5110.000000  5110.000000   5110.000000    5110.000000   \n",
       "mean   36517.829354    43.226614      0.097456       0.054012   \n",
       "std    21161.721625    22.612647      0.296607       0.226063   \n",
       "min       67.000000     0.080000      0.000000       0.000000   \n",
       "25%    17741.250000    25.000000      0.000000       0.000000   \n",
       "50%    36932.000000    45.000000      0.000000       0.000000   \n",
       "75%    54682.000000    61.000000      0.000000       0.000000   \n",
       "max    72940.000000    82.000000      1.000000       1.000000   \n",
       "\n",
       "       avg_glucose_level          bmi       stroke  \n",
       "count        5110.000000  4909.000000  5110.000000  \n",
       "mean          106.147677    28.893237     0.048728  \n",
       "std            45.283560     7.854067     0.215320  \n",
       "min            55.120000    10.300000     0.000000  \n",
       "25%            77.245000    23.500000     0.000000  \n",
       "50%            91.885000    28.100000     0.000000  \n",
       "75%           114.090000    33.100000     0.000000  \n",
       "max           271.740000    97.600000     1.000000  "
      ]
     },
     "execution_count": 5,
     "metadata": {},
     "output_type": "execute_result"
    }
   ],
   "source": [
    "strokes_df.describe()"
   ]
  },
  {
   "cell_type": "code",
   "execution_count": 6,
   "id": "b3545c84",
   "metadata": {},
   "outputs": [
    {
     "data": {
      "text/plain": [
       "id                     0\n",
       "gender                 0\n",
       "age                    0\n",
       "hypertension           0\n",
       "heart_disease          0\n",
       "ever_married           0\n",
       "work_type              0\n",
       "Residence_type         0\n",
       "avg_glucose_level      0\n",
       "bmi                  201\n",
       "smoking_status         0\n",
       "stroke                 0\n",
       "dtype: int64"
      ]
     },
     "execution_count": 6,
     "metadata": {},
     "output_type": "execute_result"
    }
   ],
   "source": [
    "strokes_df.isnull().sum()"
   ]
  },
  {
   "cell_type": "code",
   "execution_count": 7,
   "id": "d01ca60f",
   "metadata": {},
   "outputs": [
    {
     "data": {
      "text/plain": [
       "Index(['id', 'gender', 'age', 'hypertension', 'heart_disease', 'ever_married',\n",
       "       'work_type', 'Residence_type', 'avg_glucose_level', 'bmi',\n",
       "       'smoking_status', 'stroke'],\n",
       "      dtype='object')"
      ]
     },
     "execution_count": 7,
     "metadata": {},
     "output_type": "execute_result"
    }
   ],
   "source": [
    "strokes_df.columns"
   ]
  },
  {
   "cell_type": "code",
   "execution_count": 8,
   "id": "53ae3416",
   "metadata": {},
   "outputs": [],
   "source": [
    "cols = ['gender', 'age', 'hypertension', 'heart_disease', 'ever_married',\n",
    "       'work_type', 'Residence_type', 'avg_glucose_level', 'bmi',\n",
    "       'smoking_status', 'stroke']"
   ]
  },
  {
   "cell_type": "code",
   "execution_count": 9,
   "id": "b1edb354",
   "metadata": {},
   "outputs": [],
   "source": [
    "strokes_df = strokes_df[cols]"
   ]
  },
  {
   "cell_type": "code",
   "execution_count": 10,
   "id": "1c01aef6",
   "metadata": {},
   "outputs": [
    {
     "data": {
      "text/html": [
       "<div>\n",
       "<style scoped>\n",
       "    .dataframe tbody tr th:only-of-type {\n",
       "        vertical-align: middle;\n",
       "    }\n",
       "\n",
       "    .dataframe tbody tr th {\n",
       "        vertical-align: top;\n",
       "    }\n",
       "\n",
       "    .dataframe thead th {\n",
       "        text-align: right;\n",
       "    }\n",
       "</style>\n",
       "<table border=\"1\" class=\"dataframe\">\n",
       "  <thead>\n",
       "    <tr style=\"text-align: right;\">\n",
       "      <th></th>\n",
       "      <th>gender</th>\n",
       "      <th>age</th>\n",
       "      <th>hypertension</th>\n",
       "      <th>heart_disease</th>\n",
       "      <th>ever_married</th>\n",
       "      <th>work_type</th>\n",
       "      <th>Residence_type</th>\n",
       "      <th>avg_glucose_level</th>\n",
       "      <th>bmi</th>\n",
       "      <th>smoking_status</th>\n",
       "      <th>stroke</th>\n",
       "    </tr>\n",
       "  </thead>\n",
       "  <tbody>\n",
       "    <tr>\n",
       "      <th>0</th>\n",
       "      <td>Male</td>\n",
       "      <td>67.0</td>\n",
       "      <td>0</td>\n",
       "      <td>1</td>\n",
       "      <td>Yes</td>\n",
       "      <td>Private</td>\n",
       "      <td>Urban</td>\n",
       "      <td>228.69</td>\n",
       "      <td>36.6</td>\n",
       "      <td>formerly smoked</td>\n",
       "      <td>1</td>\n",
       "    </tr>\n",
       "    <tr>\n",
       "      <th>1</th>\n",
       "      <td>Female</td>\n",
       "      <td>61.0</td>\n",
       "      <td>0</td>\n",
       "      <td>0</td>\n",
       "      <td>Yes</td>\n",
       "      <td>Self-employed</td>\n",
       "      <td>Rural</td>\n",
       "      <td>202.21</td>\n",
       "      <td>NaN</td>\n",
       "      <td>never smoked</td>\n",
       "      <td>1</td>\n",
       "    </tr>\n",
       "    <tr>\n",
       "      <th>2</th>\n",
       "      <td>Male</td>\n",
       "      <td>80.0</td>\n",
       "      <td>0</td>\n",
       "      <td>1</td>\n",
       "      <td>Yes</td>\n",
       "      <td>Private</td>\n",
       "      <td>Rural</td>\n",
       "      <td>105.92</td>\n",
       "      <td>32.5</td>\n",
       "      <td>never smoked</td>\n",
       "      <td>1</td>\n",
       "    </tr>\n",
       "    <tr>\n",
       "      <th>3</th>\n",
       "      <td>Female</td>\n",
       "      <td>49.0</td>\n",
       "      <td>0</td>\n",
       "      <td>0</td>\n",
       "      <td>Yes</td>\n",
       "      <td>Private</td>\n",
       "      <td>Urban</td>\n",
       "      <td>171.23</td>\n",
       "      <td>34.4</td>\n",
       "      <td>smokes</td>\n",
       "      <td>1</td>\n",
       "    </tr>\n",
       "    <tr>\n",
       "      <th>4</th>\n",
       "      <td>Female</td>\n",
       "      <td>79.0</td>\n",
       "      <td>1</td>\n",
       "      <td>0</td>\n",
       "      <td>Yes</td>\n",
       "      <td>Self-employed</td>\n",
       "      <td>Rural</td>\n",
       "      <td>174.12</td>\n",
       "      <td>24.0</td>\n",
       "      <td>never smoked</td>\n",
       "      <td>1</td>\n",
       "    </tr>\n",
       "  </tbody>\n",
       "</table>\n",
       "</div>"
      ],
      "text/plain": [
       "   gender   age  hypertension  heart_disease ever_married      work_type  \\\n",
       "0    Male  67.0             0              1          Yes        Private   \n",
       "1  Female  61.0             0              0          Yes  Self-employed   \n",
       "2    Male  80.0             0              1          Yes        Private   \n",
       "3  Female  49.0             0              0          Yes        Private   \n",
       "4  Female  79.0             1              0          Yes  Self-employed   \n",
       "\n",
       "  Residence_type  avg_glucose_level   bmi   smoking_status  stroke  \n",
       "0          Urban             228.69  36.6  formerly smoked       1  \n",
       "1          Rural             202.21   NaN     never smoked       1  \n",
       "2          Rural             105.92  32.5     never smoked       1  \n",
       "3          Urban             171.23  34.4           smokes       1  \n",
       "4          Rural             174.12  24.0     never smoked       1  "
      ]
     },
     "execution_count": 10,
     "metadata": {},
     "output_type": "execute_result"
    }
   ],
   "source": [
    "strokes_df.head()"
   ]
  },
  {
   "cell_type": "markdown",
   "id": "2b9f4886",
   "metadata": {},
   "source": [
    "### Exploratory Data Analysis"
   ]
  },
  {
   "cell_type": "code",
   "execution_count": 11,
   "id": "d2245682",
   "metadata": {},
   "outputs": [
    {
     "data": {
      "text/plain": [
       "0    4861\n",
       "1     249\n",
       "Name: stroke, dtype: int64"
      ]
     },
     "execution_count": 11,
     "metadata": {},
     "output_type": "execute_result"
    }
   ],
   "source": [
    "strokes_df[\"stroke\"].value_counts()"
   ]
  },
  {
   "cell_type": "code",
   "execution_count": 12,
   "id": "16b4e236",
   "metadata": {},
   "outputs": [
    {
     "data": {
      "text/plain": [
       "Text(0, 0.5, 'Count')"
      ]
     },
     "execution_count": 12,
     "metadata": {},
     "output_type": "execute_result"
    },
    {
     "data": {
      "image/png": "[encoded data removed]",
      "text/plain": [
       "<Figure size 360x360 with 1 Axes>"
      ]
     },
     "metadata": {
      "needs_background": "light"
     },
     "output_type": "display_data"
    }
   ],
   "source": [
    "plt.figure(figsize=(5,5))\n",
    "sns.countplot(strokes_df[\"stroke\"])\n",
    "plt.title(\"Count Of the Classes (Stroke & Non-Stroke)\")\n",
    "plt.xlabel(\"Outcome\")\n",
    "plt.ylabel(\"Count\")"
   ]
  },
  {
   "cell_type": "code",
   "execution_count": 13,
   "id": "229b091c",
   "metadata": {},
   "outputs": [
    {
     "data": {
      "text/plain": [
       "Text(0, 0.5, 'Age')"
      ]
     },
     "execution_count": 13,
     "metadata": {},
     "output_type": "execute_result"
    },
    {
     "data": {
      "image/png": "[encoded data removed]",
      "text/plain": [
       "<Figure size 360x360 with 1 Axes>"
      ]
     },
     "metadata": {
      "needs_background": "light"
     },
     "output_type": "display_data"
    }
   ],
   "source": [
    "plt.figure(figsize=(5,5))\n",
    "sns.boxplot(x=\"stroke\", y=\"age\", data=strokes_df)\n",
    "plt.title(\"Relationship between Age and Stroke\")\n",
    "plt.xlabel(\"Stroke Outcome\")\n",
    "plt.ylabel(\"Age\")"
   ]
  },
  {
   "cell_type": "code",
   "execution_count": 14,
   "id": "97e6a685",
   "metadata": {},
   "outputs": [
    {
     "data": {
      "text/plain": [
       "Text(0, 0.5, 'Average Glucose Level')"
      ]
     },
     "execution_count": 14,
     "metadata": {},
     "output_type": "execute_result"
    },
    {
     "data": {
      "image/png": "[encoded data removed]",
      "text/plain": [
       "<Figure size 360x360 with 1 Axes>"
      ]
     },
     "metadata": {
      "needs_background": "light"
     },
     "output_type": "display_data"
    }
   ],
   "source": [
    "plt.figure(figsize=(5,5))\n",
    "sns.boxplot(x=\"stroke\", y=\"avg_glucose_level\", data=strokes_df)\n",
    "plt.title(\"Relationship between Average Glucose Level and Stroke\")\n",
    "plt.xlabel(\"Stroke Outcome\")\n",
    "plt.ylabel(\"Average Glucose Level\")"
   ]
  },
  {
   "cell_type": "code",
   "execution_count": 15,
   "id": "caa552ed",
   "metadata": {},
   "outputs": [
    {
     "data": {
      "text/plain": [
       "Text(0, 0.5, 'BMI')"
      ]
     },
     "execution_count": 15,
     "metadata": {},
     "output_type": "execute_result"
    },
    {
     "data": {
      "image/png": "[encoded data removed]",
      "text/plain": [
       "<Figure size 360x360 with 1 Axes>"
      ]
     },
     "metadata": {
      "needs_background": "light"
     },
     "output_type": "display_data"
    }
   ],
   "source": [
    "plt.figure(figsize=(5,5))\n",
    "sns.boxplot(x=\"stroke\", y=\"bmi\", data=strokes_df)\n",
    "plt.title(\"Relationship between BMI and Stroke\")\n",
    "plt.xlabel(\"Stroke Outcome\")\n",
    "plt.ylabel(\"BMI\")"
   ]
  },
  {
   "cell_type": "code",
   "execution_count": 16,
   "id": "5daa064d",
   "metadata": {},
   "outputs": [
    {
     "data": {
      "text/plain": [
       "Text(0, 0.5, 'Count')"
      ]
     },
     "execution_count": 16,
     "metadata": {},
     "output_type": "execute_result"
    },
    {
     "data": {
      "image/png": "[encoded data removed]",
      "text/plain": [
       "<Figure size 360x360 with 1 Axes>"
      ]
     },
     "metadata": {
      "needs_background": "light"
     },
     "output_type": "display_data"
    }
   ],
   "source": [
    "plt.figure(figsize=(5,5))\n",
    "sns.countplot(x=\"hypertension\", data=strokes_df, hue=\"stroke\")\n",
    "plt.title(\"Relationship between Hypertension and Stroke\")\n",
    "plt.xlabel(\"Hypertension Status\")\n",
    "plt.ylabel(\"Count\")"
   ]
  },
  {
   "cell_type": "code",
   "execution_count": 17,
   "id": "06b5aa81",
   "metadata": {},
   "outputs": [
    {
     "data": {
      "text/plain": [
       "Text(0, 0.5, 'Count')"
      ]
     },
     "execution_count": 17,
     "metadata": {},
     "output_type": "execute_result"
    },
    {
     "data": {
      "image/png": "[encoded data removed]",
      "text/plain": [
       "<Figure size 360x360 with 1 Axes>"
      ]
     },
     "metadata": {
      "needs_background": "light"
     },
     "output_type": "display_data"
    }
   ],
   "source": [
    "plt.figure(figsize=(5,5))\n",
    "sns.countplot(x=\"heart_disease\", data=strokes_df, hue=\"stroke\")\n",
    "plt.title(\"Relationship between Heart Disease and Stroke\")\n",
    "plt.xlabel(\"Heart Disease Status\")\n",
    "plt.ylabel(\"Count\")"
   ]
  },
  {
   "cell_type": "code",
   "execution_count": 18,
   "id": "c696ace4",
   "metadata": {},
   "outputs": [
    {
     "data": {
      "text/plain": [
       "Text(0, 0.5, 'Count')"
      ]
     },
     "execution_count": 18,
     "metadata": {},
     "output_type": "execute_result"
    },
    {
     "data": {
      "image/png": "[encoded data removed]",
      "text/plain": [
       "<Figure size 360x360 with 1 Axes>"
      ]
     },
     "metadata": {
      "needs_background": "light"
     },
     "output_type": "display_data"
    }
   ],
   "source": [
    "plt.figure(figsize=(5,5))\n",
    "sns.countplot(x=\"ever_married\", data=strokes_df, hue=\"stroke\")\n",
    "plt.title(\"Relationship between Marital Status and Stroke\")\n",
    "plt.xlabel(\"Marital Status\")\n",
    "plt.ylabel(\"Count\")"
   ]
  },
  {
   "cell_type": "code",
   "execution_count": 19,
   "id": "15712c6a",
   "metadata": {},
   "outputs": [
    {
     "data": {
      "text/plain": [
       "Text(0, 0.5, 'Count')"
      ]
     },
     "execution_count": 19,
     "metadata": {},
     "output_type": "execute_result"
    },
    {
     "data": {
      "image/png": "[encoded data removed]",
      "text/plain": [
       "<Figure size 360x360 with 1 Axes>"
      ]
     },
     "metadata": {
      "needs_background": "light"
     },
     "output_type": "display_data"
    }
   ],
   "source": [
    "plt.figure(figsize=(5,5))\n",
    "sns.countplot(x=\"work_type\", data=strokes_df, hue=\"stroke\")\n",
    "plt.title(\"Relationship between Work Type and Stroke\")\n",
    "plt.xlabel(\"Work Type\")\n",
    "plt.ylabel(\"Count\")"
   ]
  },
  {
   "cell_type": "code",
   "execution_count": 20,
   "id": "a86562b8",
   "metadata": {},
   "outputs": [
    {
     "data": {
      "text/plain": [
       "Text(0, 0.5, 'Count')"
      ]
     },
     "execution_count": 20,
     "metadata": {},
     "output_type": "execute_result"
    },
    {
     "data": {
      "image/png": "[encoded data removed]",
      "text/plain": [
       "<Figure size 360x360 with 1 Axes>"
      ]
     },
     "metadata": {
      "needs_background": "light"
     },
     "output_type": "display_data"
    }
   ],
   "source": [
    "plt.figure(figsize=(5,5))\n",
    "sns.countplot(x=\"Residence_type\", data=strokes_df, hue=\"stroke\")\n",
    "plt.title(\"Relationship between Residence Type and Stroke\")\n",
    "plt.xlabel(\"Residence Type\")\n",
    "plt.ylabel(\"Count\")"
   ]
  },
  {
   "cell_type": "code",
   "execution_count": 21,
   "id": "e91c907b",
   "metadata": {},
   "outputs": [
    {
     "data": {
      "text/plain": [
       "Text(0, 0.5, 'Count')"
      ]
     },
     "execution_count": 21,
     "metadata": {},
     "output_type": "execute_result"
    },
    {
     "data": {
      "image/png": "[encoded data removed]",
      "text/plain": [
       "<Figure size 360x360 with 1 Axes>"
      ]
     },
     "metadata": {
      "needs_background": "light"
     },
     "output_type": "display_data"
    }
   ],
   "source": [
    "plt.figure(figsize=(5,5))\n",
    "sns.countplot(x=\"smoking_status\", data=strokes_df, hue=\"stroke\")\n",
    "plt.title(\"Relationship between Smoking Status and Stroke\")\n",
    "plt.xlabel(\"Smoking Status\")\n",
    "plt.ylabel(\"Count\")"
   ]
  },
  {
   "cell_type": "markdown",
   "id": "58735458",
   "metadata": {},
   "source": [
    "### Data Pre-Processing"
   ]
  },
  {
   "cell_type": "code",
   "execution_count": 22,
   "id": "bbcad58e",
   "metadata": {},
   "outputs": [
    {
     "data": {
      "text/html": [
       "<div>\n",
       "<style scoped>\n",
       "    .dataframe tbody tr th:only-of-type {\n",
       "        vertical-align: middle;\n",
       "    }\n",
       "\n",
       "    .dataframe tbody tr th {\n",
       "        vertical-align: top;\n",
       "    }\n",
       "\n",
       "    .dataframe thead th {\n",
       "        text-align: right;\n",
       "    }\n",
       "</style>\n",
       "<table border=\"1\" class=\"dataframe\">\n",
       "  <thead>\n",
       "    <tr style=\"text-align: right;\">\n",
       "      <th></th>\n",
       "      <th>gender</th>\n",
       "      <th>age</th>\n",
       "      <th>hypertension</th>\n",
       "      <th>heart_disease</th>\n",
       "      <th>ever_married</th>\n",
       "      <th>work_type</th>\n",
       "      <th>Residence_type</th>\n",
       "      <th>avg_glucose_level</th>\n",
       "      <th>bmi</th>\n",
       "      <th>smoking_status</th>\n",
       "      <th>stroke</th>\n",
       "    </tr>\n",
       "  </thead>\n",
       "  <tbody>\n",
       "    <tr>\n",
       "      <th>0</th>\n",
       "      <td>Male</td>\n",
       "      <td>67.0</td>\n",
       "      <td>0</td>\n",
       "      <td>1</td>\n",
       "      <td>Yes</td>\n",
       "      <td>Private</td>\n",
       "      <td>Urban</td>\n",
       "      <td>228.69</td>\n",
       "      <td>36.6</td>\n",
       "      <td>formerly smoked</td>\n",
       "      <td>1</td>\n",
       "    </tr>\n",
       "    <tr>\n",
       "      <th>1</th>\n",
       "      <td>Female</td>\n",
       "      <td>61.0</td>\n",
       "      <td>0</td>\n",
       "      <td>0</td>\n",
       "      <td>Yes</td>\n",
       "      <td>Self-employed</td>\n",
       "      <td>Rural</td>\n",
       "      <td>202.21</td>\n",
       "      <td>NaN</td>\n",
       "      <td>never smoked</td>\n",
       "      <td>1</td>\n",
       "    </tr>\n",
       "    <tr>\n",
       "      <th>2</th>\n",
       "      <td>Male</td>\n",
       "      <td>80.0</td>\n",
       "      <td>0</td>\n",
       "      <td>1</td>\n",
       "      <td>Yes</td>\n",
       "      <td>Private</td>\n",
       "      <td>Rural</td>\n",
       "      <td>105.92</td>\n",
       "      <td>32.5</td>\n",
       "      <td>never smoked</td>\n",
       "      <td>1</td>\n",
       "    </tr>\n",
       "    <tr>\n",
       "      <th>3</th>\n",
       "      <td>Female</td>\n",
       "      <td>49.0</td>\n",
       "      <td>0</td>\n",
       "      <td>0</td>\n",
       "      <td>Yes</td>\n",
       "      <td>Private</td>\n",
       "      <td>Urban</td>\n",
       "      <td>171.23</td>\n",
       "      <td>34.4</td>\n",
       "      <td>smokes</td>\n",
       "      <td>1</td>\n",
       "    </tr>\n",
       "    <tr>\n",
       "      <th>4</th>\n",
       "      <td>Female</td>\n",
       "      <td>79.0</td>\n",
       "      <td>1</td>\n",
       "      <td>0</td>\n",
       "      <td>Yes</td>\n",
       "      <td>Self-employed</td>\n",
       "      <td>Rural</td>\n",
       "      <td>174.12</td>\n",
       "      <td>24.0</td>\n",
       "      <td>never smoked</td>\n",
       "      <td>1</td>\n",
       "    </tr>\n",
       "  </tbody>\n",
       "</table>\n",
       "</div>"
      ],
      "text/plain": [
       "   gender   age  hypertension  heart_disease ever_married      work_type  \\\n",
       "0    Male  67.0             0              1          Yes        Private   \n",
       "1  Female  61.0             0              0          Yes  Self-employed   \n",
       "2    Male  80.0             0              1          Yes        Private   \n",
       "3  Female  49.0             0              0          Yes        Private   \n",
       "4  Female  79.0             1              0          Yes  Self-employed   \n",
       "\n",
       "  Residence_type  avg_glucose_level   bmi   smoking_status  stroke  \n",
       "0          Urban             228.69  36.6  formerly smoked       1  \n",
       "1          Rural             202.21   NaN     never smoked       1  \n",
       "2          Rural             105.92  32.5     never smoked       1  \n",
       "3          Urban             171.23  34.4           smokes       1  \n",
       "4          Rural             174.12  24.0     never smoked       1  "
      ]
     },
     "execution_count": 22,
     "metadata": {},
     "output_type": "execute_result"
    }
   ],
   "source": [
    "strokes_df.head()"
   ]
  },
  {
   "cell_type": "code",
   "execution_count": 23,
   "id": "7bf9444a",
   "metadata": {},
   "outputs": [],
   "source": [
    "gender_dummies = pd.get_dummies(strokes_df[\"gender\"])\n",
    "married_dummies = pd.get_dummies(strokes_df[\"ever_married\"])\n",
    "work_dummies = pd.get_dummies(strokes_df[\"work_type\"])\n",
    "residence_dummies = pd.get_dummies(strokes_df[\"Residence_type\"])\n",
    "smoking_dummies = pd.get_dummies(strokes_df[\"smoking_status\"])"
   ]
  },
  {
   "cell_type": "code",
   "execution_count": 24,
   "id": "49a1f437",
   "metadata": {},
   "outputs": [
    {
     "data": {
      "text/plain": [
       "Index(['gender', 'age', 'hypertension', 'heart_disease', 'ever_married',\n",
       "       'work_type', 'Residence_type', 'avg_glucose_level', 'bmi',\n",
       "       'smoking_status', 'stroke'],\n",
       "      dtype='object')"
      ]
     },
     "execution_count": 24,
     "metadata": {},
     "output_type": "execute_result"
    }
   ],
   "source": [
    "strokes_df.columns"
   ]
  },
  {
   "cell_type": "code",
   "execution_count": 25,
   "id": "a1f5e8f9",
   "metadata": {},
   "outputs": [],
   "source": [
    "strokes_df = strokes_df[['age', 'hypertension', 'heart_disease', 'avg_glucose_level', 'bmi','stroke']]"
   ]
  },
  {
   "cell_type": "code",
   "execution_count": 26,
   "id": "805e05cc",
   "metadata": {},
   "outputs": [],
   "source": [
    "df = pd.concat([strokes_df, gender_dummies, married_dummies, work_dummies, residence_dummies, smoking_dummies], axis=\"columns\")"
   ]
  },
  {
   "cell_type": "code",
   "execution_count": 27,
   "id": "d340c131",
   "metadata": {},
   "outputs": [
    {
     "data": {
      "text/plain": [
       "Index(['age', 'hypertension', 'heart_disease', 'avg_glucose_level', 'bmi',\n",
       "       'stroke', 'Female', 'Male', 'Other', 'No', 'Yes', 'Govt_job',\n",
       "       'Never_worked', 'Private', 'Self-employed', 'children', 'Rural',\n",
       "       'Urban', 'Unknown', 'formerly smoked', 'never smoked', 'smokes'],\n",
       "      dtype='object')"
      ]
     },
     "execution_count": 27,
     "metadata": {},
     "output_type": "execute_result"
    }
   ],
   "source": [
    "df.columns"
   ]
  },
  {
   "cell_type": "code",
   "execution_count": 28,
   "id": "e13d8cdf",
   "metadata": {},
   "outputs": [],
   "source": [
    "df = df[['age', 'hypertension', 'heart_disease', 'avg_glucose_level', 'bmi',\n",
    "       'stroke', 'Female', 'Male', 'No','Govt_job',\n",
    "       'Never_worked', 'Private', 'Self-employed', 'Rural', 'formerly smoked', 'never smoked', 'smokes']]"
   ]
  },
  {
   "cell_type": "code",
   "execution_count": 29,
   "id": "c528b40e",
   "metadata": {},
   "outputs": [
    {
     "data": {
      "text/html": [
       "<div>\n",
       "<style scoped>\n",
       "    .dataframe tbody tr th:only-of-type {\n",
       "        vertical-align: middle;\n",
       "    }\n",
       "\n",
       "    .dataframe tbody tr th {\n",
       "        vertical-align: top;\n",
       "    }\n",
       "\n",
       "    .dataframe thead th {\n",
       "        text-align: right;\n",
       "    }\n",
       "</style>\n",
       "<table border=\"1\" class=\"dataframe\">\n",
       "  <thead>\n",
       "    <tr style=\"text-align: right;\">\n",
       "      <th></th>\n",
       "      <th>age</th>\n",
       "      <th>hypertension</th>\n",
       "      <th>heart_disease</th>\n",
       "      <th>avg_glucose_level</th>\n",
       "      <th>bmi</th>\n",
       "      <th>stroke</th>\n",
       "      <th>Female</th>\n",
       "      <th>Male</th>\n",
       "      <th>No</th>\n",
       "      <th>Govt_job</th>\n",
       "      <th>Never_worked</th>\n",
       "      <th>Private</th>\n",
       "      <th>Self-employed</th>\n",
       "      <th>Rural</th>\n",
       "      <th>formerly smoked</th>\n",
       "      <th>never smoked</th>\n",
       "      <th>smokes</th>\n",
       "    </tr>\n",
       "  </thead>\n",
       "  <tbody>\n",
       "    <tr>\n",
       "      <th>0</th>\n",
       "      <td>67.0</td>\n",
       "      <td>0</td>\n",
       "      <td>1</td>\n",
       "      <td>228.69</td>\n",
       "      <td>36.6</td>\n",
       "      <td>1</td>\n",
       "      <td>0</td>\n",
       "      <td>1</td>\n",
       "      <td>0</td>\n",
       "      <td>0</td>\n",
       "      <td>0</td>\n",
       "      <td>1</td>\n",
       "      <td>0</td>\n",
       "      <td>0</td>\n",
       "      <td>1</td>\n",
       "      <td>0</td>\n",
       "      <td>0</td>\n",
       "    </tr>\n",
       "    <tr>\n",
       "      <th>1</th>\n",
       "      <td>61.0</td>\n",
       "      <td>0</td>\n",
       "      <td>0</td>\n",
       "      <td>202.21</td>\n",
       "      <td>NaN</td>\n",
       "      <td>1</td>\n",
       "      <td>1</td>\n",
       "      <td>0</td>\n",
       "      <td>0</td>\n",
       "      <td>0</td>\n",
       "      <td>0</td>\n",
       "      <td>0</td>\n",
       "      <td>1</td>\n",
       "      <td>1</td>\n",
       "      <td>0</td>\n",
       "      <td>1</td>\n",
       "      <td>0</td>\n",
       "    </tr>\n",
       "    <tr>\n",
       "      <th>2</th>\n",
       "      <td>80.0</td>\n",
       "      <td>0</td>\n",
       "      <td>1</td>\n",
       "      <td>105.92</td>\n",
       "      <td>32.5</td>\n",
       "      <td>1</td>\n",
       "      <td>0</td>\n",
       "      <td>1</td>\n",
       "      <td>0</td>\n",
       "      <td>0</td>\n",
       "      <td>0</td>\n",
       "      <td>1</td>\n",
       "      <td>0</td>\n",
       "      <td>1</td>\n",
       "      <td>0</td>\n",
       "      <td>1</td>\n",
       "      <td>0</td>\n",
       "    </tr>\n",
       "    <tr>\n",
       "      <th>3</th>\n",
       "      <td>49.0</td>\n",
       "      <td>0</td>\n",
       "      <td>0</td>\n",
       "      <td>171.23</td>\n",
       "      <td>34.4</td>\n",
       "      <td>1</td>\n",
       "      <td>1</td>\n",
       "      <td>0</td>\n",
       "      <td>0</td>\n",
       "      <td>0</td>\n",
       "      <td>0</td>\n",
       "      <td>1</td>\n",
       "      <td>0</td>\n",
       "      <td>0</td>\n",
       "      <td>0</td>\n",
       "      <td>0</td>\n",
       "      <td>1</td>\n",
       "    </tr>\n",
       "    <tr>\n",
       "      <th>4</th>\n",
       "      <td>79.0</td>\n",
       "      <td>1</td>\n",
       "      <td>0</td>\n",
       "      <td>174.12</td>\n",
       "      <td>24.0</td>\n",
       "      <td>1</td>\n",
       "      <td>1</td>\n",
       "      <td>0</td>\n",
       "      <td>0</td>\n",
       "      <td>0</td>\n",
       "      <td>0</td>\n",
       "      <td>0</td>\n",
       "      <td>1</td>\n",
       "      <td>1</td>\n",
       "      <td>0</td>\n",
       "      <td>1</td>\n",
       "      <td>0</td>\n",
       "    </tr>\n",
       "  </tbody>\n",
       "</table>\n",
       "</div>"
      ],
      "text/plain": [
       "    age  hypertension  heart_disease  avg_glucose_level   bmi  stroke  Female  \\\n",
       "0  67.0             0              1             228.69  36.6       1       0   \n",
       "1  61.0             0              0             202.21   NaN       1       1   \n",
       "2  80.0             0              1             105.92  32.5       1       0   \n",
       "3  49.0             0              0             171.23  34.4       1       1   \n",
       "4  79.0             1              0             174.12  24.0       1       1   \n",
       "\n",
       "   Male  No  Govt_job  Never_worked  Private  Self-employed  Rural  \\\n",
       "0     1   0         0             0        1              0      0   \n",
       "1     0   0         0             0        0              1      1   \n",
       "2     1   0         0             0        1              0      1   \n",
       "3     0   0         0             0        1              0      0   \n",
       "4     0   0         0             0        0              1      1   \n",
       "\n",
       "   formerly smoked  never smoked  smokes  \n",
       "0                1             0       0  \n",
       "1                0             1       0  \n",
       "2                0             1       0  \n",
       "3                0             0       1  \n",
       "4                0             1       0  "
      ]
     },
     "execution_count": 29,
     "metadata": {},
     "output_type": "execute_result"
    }
   ],
   "source": [
    "df.head()"
   ]
  },
  {
   "cell_type": "code",
   "execution_count": 30,
   "id": "4a4c17dd",
   "metadata": {},
   "outputs": [
    {
     "data": {
      "text/plain": [
       "age                    0\n",
       "hypertension           0\n",
       "heart_disease          0\n",
       "avg_glucose_level      0\n",
       "bmi                  201\n",
       "stroke                 0\n",
       "Female                 0\n",
       "Male                   0\n",
       "No                     0\n",
       "Govt_job               0\n",
       "Never_worked           0\n",
       "Private                0\n",
       "Self-employed          0\n",
       "Rural                  0\n",
       "formerly smoked        0\n",
       "never smoked           0\n",
       "smokes                 0\n",
       "dtype: int64"
      ]
     },
     "execution_count": 30,
     "metadata": {},
     "output_type": "execute_result"
    }
   ],
   "source": [
    "df.isnull().sum()"
   ]
  },
  {
   "cell_type": "code",
   "execution_count": 31,
   "id": "1d8c3518",
   "metadata": {},
   "outputs": [
    {
     "name": "stdout",
     "output_type": "stream",
     "text": [
      "28.1\n"
     ]
    }
   ],
   "source": [
    "bmiMedianValue = df[\"bmi\"].median() \n",
    "print(bmiMedianValue)"
   ]
  },
  {
   "cell_type": "code",
   "execution_count": 32,
   "id": "dd4e1f0f",
   "metadata": {},
   "outputs": [],
   "source": [
    "df[\"bmi\"].fillna(bmiMedianValue,inplace=True)"
   ]
  },
  {
   "cell_type": "code",
   "execution_count": 33,
   "id": "324de66d",
   "metadata": {},
   "outputs": [
    {
     "data": {
      "text/plain": [
       "age                  0\n",
       "hypertension         0\n",
       "heart_disease        0\n",
       "avg_glucose_level    0\n",
       "bmi                  0\n",
       "stroke               0\n",
       "Female               0\n",
       "Male                 0\n",
       "No                   0\n",
       "Govt_job             0\n",
       "Never_worked         0\n",
       "Private              0\n",
       "Self-employed        0\n",
       "Rural                0\n",
       "formerly smoked      0\n",
       "never smoked         0\n",
       "smokes               0\n",
       "dtype: int64"
      ]
     },
     "execution_count": 33,
     "metadata": {},
     "output_type": "execute_result"
    }
   ],
   "source": [
    "df.isnull().sum()"
   ]
  },
  {
   "cell_type": "code",
   "execution_count": 34,
   "id": "5e896067",
   "metadata": {},
   "outputs": [
    {
     "data": {
      "text/plain": [
       "count    5110.000000\n",
       "mean       28.862035\n",
       "std         7.699562\n",
       "min        10.300000\n",
       "25%        23.800000\n",
       "50%        28.100000\n",
       "75%        32.800000\n",
       "max        97.600000\n",
       "Name: bmi, dtype: float64"
      ]
     },
     "execution_count": 34,
     "metadata": {},
     "output_type": "execute_result"
    }
   ],
   "source": [
    "df[\"bmi\"].describe()"
   ]
  },
  {
   "cell_type": "code",
   "execution_count": 35,
   "id": "ec49f72d",
   "metadata": {},
   "outputs": [
    {
     "data": {
      "text/plain": [
       "Text(0.5, 1.0, 'Correlation Heatmap')"
      ]
     },
     "execution_count": 35,
     "metadata": {},
     "output_type": "execute_result"
    },
    {
     "data": {
      "image/png": "[encoded data removed]",
      "text/plain": [
       "<Figure size 1440x576 with 2 Axes>"
      ]
     },
     "metadata": {
      "needs_background": "light"
     },
     "output_type": "display_data"
    }
   ],
   "source": [
    "plt.figure(figsize=(20, 8))\n",
    "heatmap = sns.heatmap(df.corr(), vmin=-1, vmax=1, annot=True, cmap='BrBG')\n",
    "heatmap.set_title('Correlation Heatmap', fontdict={'fontsize':18}, pad=12)"
   ]
  },
  {
   "cell_type": "markdown",
   "id": "7cf01521",
   "metadata": {},
   "source": [
    "### Feature Selection"
   ]
  },
  {
   "cell_type": "code",
   "execution_count": 36,
   "id": "1430f459",
   "metadata": {},
   "outputs": [],
   "source": [
    "from sklearn.feature_selection import SelectKBest, chi2"
   ]
  },
  {
   "cell_type": "code",
   "execution_count": 37,
   "id": "8de4a9fd",
   "metadata": {},
   "outputs": [],
   "source": [
    "X = df.drop(\"stroke\", axis=1)\n",
    "y = df[\"stroke\"]"
   ]
  },
  {
   "cell_type": "code",
   "execution_count": 38,
   "id": "c52612e8",
   "metadata": {},
   "outputs": [],
   "source": [
    "bestFeatures = SelectKBest(score_func=chi2, k=10)\n",
    "fit = bestFeatures.fit(X,y)"
   ]
  },
  {
   "cell_type": "code",
   "execution_count": 39,
   "id": "1d2144a8",
   "metadata": {},
   "outputs": [],
   "source": [
    "scores = pd.DataFrame(fit.scores_)\n",
    "cols = pd.DataFrame(X.columns)"
   ]
  },
  {
   "cell_type": "code",
   "execution_count": 40,
   "id": "24eacc56",
   "metadata": {},
   "outputs": [
    {
     "name": "stdout",
     "output_type": "stream",
     "text": [
      "             Features        Score\n",
      "0                 age  3635.226911\n",
      "1        hypertension    75.449498\n",
      "2       heart_disease    87.987436\n",
      "3   avg_glucose_level  1718.285446\n",
      "4                 bmi    13.683435\n",
      "5              Female     0.172411\n",
      "6                Male     0.248952\n",
      "7                  No    39.355836\n",
      "8            Govt_job     0.031905\n",
      "9        Never_worked     1.126929\n",
      "10            Private     0.308806\n",
      "11      Self-employed    16.584252\n",
      "12              Rural     0.620311\n",
      "13    formerly smoked    17.607359\n",
      "14       never smoked     0.054854\n",
      "15             smokes     0.345288\n"
     ]
    }
   ],
   "source": [
    "bestFeaturesDf = pd.concat([cols, scores], axis=1)\n",
    "bestFeaturesDf.columns = ['Features', 'Score']\n",
    "print(bestFeaturesDf)"
   ]
  },
  {
   "cell_type": "code",
   "execution_count": 41,
   "id": "33aeac07",
   "metadata": {},
   "outputs": [
    {
     "name": "stdout",
     "output_type": "stream",
     "text": [
      "             Features        Score\n",
      "0                 age  3635.226911\n",
      "3   avg_glucose_level  1718.285446\n",
      "2       heart_disease    87.987436\n",
      "1        hypertension    75.449498\n",
      "7                  No    39.355836\n",
      "13    formerly smoked    17.607359\n",
      "11      Self-employed    16.584252\n",
      "4                 bmi    13.683435\n"
     ]
    }
   ],
   "source": [
    "print(bestFeaturesDf.nlargest(8, \"Score\"))"
   ]
  },
  {
   "cell_type": "code",
   "execution_count": 42,
   "id": "1b6a79bb",
   "metadata": {},
   "outputs": [],
   "source": [
    "bestOnes = ['age', 'avg_glucose_level', 'bmi', 'heart_disease', 'hypertension', 'No', 'formerly smoked', 'Self-employed']"
   ]
  },
  {
   "cell_type": "code",
   "execution_count": 43,
   "id": "719d3733",
   "metadata": {},
   "outputs": [
    {
     "data": {
      "text/html": [
       "<div>\n",
       "<style scoped>\n",
       "    .dataframe tbody tr th:only-of-type {\n",
       "        vertical-align: middle;\n",
       "    }\n",
       "\n",
       "    .dataframe tbody tr th {\n",
       "        vertical-align: top;\n",
       "    }\n",
       "\n",
       "    .dataframe thead th {\n",
       "        text-align: right;\n",
       "    }\n",
       "</style>\n",
       "<table border=\"1\" class=\"dataframe\">\n",
       "  <thead>\n",
       "    <tr style=\"text-align: right;\">\n",
       "      <th></th>\n",
       "      <th>age</th>\n",
       "      <th>avg_glucose_level</th>\n",
       "      <th>bmi</th>\n",
       "      <th>heart_disease</th>\n",
       "      <th>hypertension</th>\n",
       "      <th>No</th>\n",
       "      <th>formerly smoked</th>\n",
       "      <th>Self-employed</th>\n",
       "    </tr>\n",
       "  </thead>\n",
       "  <tbody>\n",
       "    <tr>\n",
       "      <th>count</th>\n",
       "      <td>5110.000000</td>\n",
       "      <td>5110.000000</td>\n",
       "      <td>5110.000000</td>\n",
       "      <td>5110.000000</td>\n",
       "      <td>5110.000000</td>\n",
       "      <td>5110.000000</td>\n",
       "      <td>5110.000000</td>\n",
       "      <td>5110.000000</td>\n",
       "    </tr>\n",
       "    <tr>\n",
       "      <th>mean</th>\n",
       "      <td>43.226614</td>\n",
       "      <td>106.147677</td>\n",
       "      <td>28.862035</td>\n",
       "      <td>0.054012</td>\n",
       "      <td>0.097456</td>\n",
       "      <td>0.343836</td>\n",
       "      <td>0.173190</td>\n",
       "      <td>0.160274</td>\n",
       "    </tr>\n",
       "    <tr>\n",
       "      <th>std</th>\n",
       "      <td>22.612647</td>\n",
       "      <td>45.283560</td>\n",
       "      <td>7.699562</td>\n",
       "      <td>0.226063</td>\n",
       "      <td>0.296607</td>\n",
       "      <td>0.475034</td>\n",
       "      <td>0.378448</td>\n",
       "      <td>0.366896</td>\n",
       "    </tr>\n",
       "    <tr>\n",
       "      <th>min</th>\n",
       "      <td>0.080000</td>\n",
       "      <td>55.120000</td>\n",
       "      <td>10.300000</td>\n",
       "      <td>0.000000</td>\n",
       "      <td>0.000000</td>\n",
       "      <td>0.000000</td>\n",
       "      <td>0.000000</td>\n",
       "      <td>0.000000</td>\n",
       "    </tr>\n",
       "    <tr>\n",
       "      <th>25%</th>\n",
       "      <td>25.000000</td>\n",
       "      <td>77.245000</td>\n",
       "      <td>23.800000</td>\n",
       "      <td>0.000000</td>\n",
       "      <td>0.000000</td>\n",
       "      <td>0.000000</td>\n",
       "      <td>0.000000</td>\n",
       "      <td>0.000000</td>\n",
       "    </tr>\n",
       "    <tr>\n",
       "      <th>50%</th>\n",
       "      <td>45.000000</td>\n",
       "      <td>91.885000</td>\n",
       "      <td>28.100000</td>\n",
       "      <td>0.000000</td>\n",
       "      <td>0.000000</td>\n",
       "      <td>0.000000</td>\n",
       "      <td>0.000000</td>\n",
       "      <td>0.000000</td>\n",
       "    </tr>\n",
       "    <tr>\n",
       "      <th>75%</th>\n",
       "      <td>61.000000</td>\n",
       "      <td>114.090000</td>\n",
       "      <td>32.800000</td>\n",
       "      <td>0.000000</td>\n",
       "      <td>0.000000</td>\n",
       "      <td>1.000000</td>\n",
       "      <td>0.000000</td>\n",
       "      <td>0.000000</td>\n",
       "    </tr>\n",
       "    <tr>\n",
       "      <th>max</th>\n",
       "      <td>82.000000</td>\n",
       "      <td>271.740000</td>\n",
       "      <td>97.600000</td>\n",
       "      <td>1.000000</td>\n",
       "      <td>1.000000</td>\n",
       "      <td>1.000000</td>\n",
       "      <td>1.000000</td>\n",
       "      <td>1.000000</td>\n",
       "    </tr>\n",
       "  </tbody>\n",
       "</table>\n",
       "</div>"
      ],
      "text/plain": [
       "               age  avg_glucose_level          bmi  heart_disease  \\\n",
       "count  5110.000000        5110.000000  5110.000000    5110.000000   \n",
       "mean     43.226614         106.147677    28.862035       0.054012   \n",
       "std      22.612647          45.283560     7.699562       0.226063   \n",
       "min       0.080000          55.120000    10.300000       0.000000   \n",
       "25%      25.000000          77.245000    23.800000       0.000000   \n",
       "50%      45.000000          91.885000    28.100000       0.000000   \n",
       "75%      61.000000         114.090000    32.800000       0.000000   \n",
       "max      82.000000         271.740000    97.600000       1.000000   \n",
       "\n",
       "       hypertension           No  formerly smoked  Self-employed  \n",
       "count   5110.000000  5110.000000      5110.000000    5110.000000  \n",
       "mean       0.097456     0.343836         0.173190       0.160274  \n",
       "std        0.296607     0.475034         0.378448       0.366896  \n",
       "min        0.000000     0.000000         0.000000       0.000000  \n",
       "25%        0.000000     0.000000         0.000000       0.000000  \n",
       "50%        0.000000     0.000000         0.000000       0.000000  \n",
       "75%        0.000000     1.000000         0.000000       0.000000  \n",
       "max        1.000000     1.000000         1.000000       1.000000  "
      ]
     },
     "execution_count": 43,
     "metadata": {},
     "output_type": "execute_result"
    }
   ],
   "source": [
    "df[bestOnes].describe()"
   ]
  },
  {
   "cell_type": "code",
   "execution_count": 44,
   "id": "ef118050",
   "metadata": {},
   "outputs": [],
   "source": [
    "X = df[bestOnes]\n",
    "y = df[\"stroke\"]"
   ]
  },
  {
   "cell_type": "code",
   "execution_count": 45,
   "id": "662748c8",
   "metadata": {},
   "outputs": [
    {
     "name": "stdout",
     "output_type": "stream",
     "text": [
      "(5110, 8) (5110,)\n"
     ]
    }
   ],
   "source": [
    "print(X.shape, y.shape)"
   ]
  },
  {
   "cell_type": "code",
   "execution_count": 46,
   "id": "32f9047c",
   "metadata": {},
   "outputs": [
    {
     "data": {
      "text/html": [
       "<div>\n",
       "<style scoped>\n",
       "    .dataframe tbody tr th:only-of-type {\n",
       "        vertical-align: middle;\n",
       "    }\n",
       "\n",
       "    .dataframe tbody tr th {\n",
       "        vertical-align: top;\n",
       "    }\n",
       "\n",
       "    .dataframe thead th {\n",
       "        text-align: right;\n",
       "    }\n",
       "</style>\n",
       "<table border=\"1\" class=\"dataframe\">\n",
       "  <thead>\n",
       "    <tr style=\"text-align: right;\">\n",
       "      <th></th>\n",
       "      <th>age</th>\n",
       "      <th>avg_glucose_level</th>\n",
       "      <th>bmi</th>\n",
       "      <th>heart_disease</th>\n",
       "      <th>hypertension</th>\n",
       "      <th>No</th>\n",
       "      <th>formerly smoked</th>\n",
       "      <th>Self-employed</th>\n",
       "    </tr>\n",
       "  </thead>\n",
       "  <tbody>\n",
       "    <tr>\n",
       "      <th>0</th>\n",
       "      <td>67.0</td>\n",
       "      <td>228.69</td>\n",
       "      <td>36.6</td>\n",
       "      <td>1</td>\n",
       "      <td>0</td>\n",
       "      <td>0</td>\n",
       "      <td>1</td>\n",
       "      <td>0</td>\n",
       "    </tr>\n",
       "    <tr>\n",
       "      <th>1</th>\n",
       "      <td>61.0</td>\n",
       "      <td>202.21</td>\n",
       "      <td>28.1</td>\n",
       "      <td>0</td>\n",
       "      <td>0</td>\n",
       "      <td>0</td>\n",
       "      <td>0</td>\n",
       "      <td>1</td>\n",
       "    </tr>\n",
       "    <tr>\n",
       "      <th>2</th>\n",
       "      <td>80.0</td>\n",
       "      <td>105.92</td>\n",
       "      <td>32.5</td>\n",
       "      <td>1</td>\n",
       "      <td>0</td>\n",
       "      <td>0</td>\n",
       "      <td>0</td>\n",
       "      <td>0</td>\n",
       "    </tr>\n",
       "    <tr>\n",
       "      <th>3</th>\n",
       "      <td>49.0</td>\n",
       "      <td>171.23</td>\n",
       "      <td>34.4</td>\n",
       "      <td>0</td>\n",
       "      <td>0</td>\n",
       "      <td>0</td>\n",
       "      <td>0</td>\n",
       "      <td>0</td>\n",
       "    </tr>\n",
       "    <tr>\n",
       "      <th>4</th>\n",
       "      <td>79.0</td>\n",
       "      <td>174.12</td>\n",
       "      <td>24.0</td>\n",
       "      <td>0</td>\n",
       "      <td>1</td>\n",
       "      <td>0</td>\n",
       "      <td>0</td>\n",
       "      <td>1</td>\n",
       "    </tr>\n",
       "  </tbody>\n",
       "</table>\n",
       "</div>"
      ],
      "text/plain": [
       "    age  avg_glucose_level   bmi  heart_disease  hypertension  No  \\\n",
       "0  67.0             228.69  36.6              1             0   0   \n",
       "1  61.0             202.21  28.1              0             0   0   \n",
       "2  80.0             105.92  32.5              1             0   0   \n",
       "3  49.0             171.23  34.4              0             0   0   \n",
       "4  79.0             174.12  24.0              0             1   0   \n",
       "\n",
       "   formerly smoked  Self-employed  \n",
       "0                1              0  \n",
       "1                0              1  \n",
       "2                0              0  \n",
       "3                0              0  \n",
       "4                0              1  "
      ]
     },
     "execution_count": 46,
     "metadata": {},
     "output_type": "execute_result"
    }
   ],
   "source": [
    "X.head()"
   ]
  },
  {
   "cell_type": "markdown",
   "id": "521f4bb9",
   "metadata": {},
   "source": [
    "### Working on the Imbalanced Data"
   ]
  },
  {
   "cell_type": "code",
   "execution_count": 47,
   "id": "8313ed82",
   "metadata": {},
   "outputs": [
    {
     "name": "stdout",
     "output_type": "stream",
     "text": [
      "Requirement already satisfied: imblearn in c:\\users\\nehak\\anaconda3\\lib\\site-packages (0.0)\n",
      "Requirement already satisfied: imbalanced-learn in c:\\users\\nehak\\anaconda3\\lib\\site-packages (from imblearn) (0.10.0.dev0)\n",
      "Requirement already satisfied: numpy>=1.17.3 in c:\\users\\nehak\\anaconda3\\lib\\site-packages (from imbalanced-learn->imblearn) (1.21.5)\n",
      "Requirement already satisfied: scipy>=1.3.2 in c:\\users\\nehak\\anaconda3\\lib\\site-packages (from imbalanced-learn->imblearn) (1.7.3)\n",
      "Requirement already satisfied: threadpoolctl>=2.0.0 in c:\\users\\nehak\\anaconda3\\lib\\site-packages (from imbalanced-learn->imblearn) (2.2.0)\n",
      "Requirement already satisfied: joblib>=1.0.0 in c:\\users\\nehak\\anaconda3\\lib\\site-packages (from imbalanced-learn->imblearn) (1.1.0)\n",
      "Requirement already satisfied: scikit-learn>=1.1.0 in c:\\users\\nehak\\anaconda3\\lib\\site-packages (from imbalanced-learn->imblearn) (1.1.1)\n",
      "Note: you may need to restart the kernel to use updated packages.\n"
     ]
    }
   ],
   "source": [
    "pip install imblearn"
   ]
  },
  {
   "cell_type": "code",
   "execution_count": 48,
   "id": "0d523c6d",
   "metadata": {},
   "outputs": [],
   "source": [
    "from imblearn.over_sampling import SMOTE"
   ]
  },
  {
   "cell_type": "code",
   "execution_count": 49,
   "id": "01cbb9d7",
   "metadata": {},
   "outputs": [],
   "source": [
    "from imblearn.combine import SMOTETomek "
   ]
  },
  {
   "cell_type": "code",
   "execution_count": 50,
   "id": "5c23950e",
   "metadata": {},
   "outputs": [],
   "source": [
    "from collections import Counter"
   ]
  },
  {
   "cell_type": "code",
   "execution_count": 51,
   "id": "e50fe37a",
   "metadata": {},
   "outputs": [
    {
     "data": {
      "text/plain": [
       "Text(0, 0.5, 'Count')"
      ]
     },
     "execution_count": 51,
     "metadata": {},
     "output_type": "execute_result"
    },
    {
     "data": {
      "image/png": "[encoded data removed]",
      "text/plain": [
       "<Figure size 360x360 with 1 Axes>"
      ]
     },
     "metadata": {
      "needs_background": "light"
     },
     "output_type": "display_data"
    }
   ],
   "source": [
    "plt.figure(figsize=(5,5))\n",
    "sns.countplot(strokes_df[\"stroke\"])\n",
    "plt.title(\"Classes Count\")\n",
    "plt.xlabel(\"Outcome\")\n",
    "plt.ylabel(\"Count\")"
   ]
  },
  {
   "cell_type": "code",
   "execution_count": 52,
   "id": "8cd9e07c",
   "metadata": {},
   "outputs": [],
   "source": [
    "yes_stroke = df[df[\"stroke\"] == 1]\n",
    "no_stroke = df[df[\"stroke\"] == 0]"
   ]
  },
  {
   "cell_type": "code",
   "execution_count": 53,
   "id": "16595983",
   "metadata": {},
   "outputs": [
    {
     "name": "stdout",
     "output_type": "stream",
     "text": [
      "(249, 17) (4861, 17)\n"
     ]
    }
   ],
   "source": [
    "print(yes_stroke.shape, no_stroke.shape)"
   ]
  },
  {
   "cell_type": "code",
   "execution_count": 54,
   "id": "06cddb74",
   "metadata": {},
   "outputs": [],
   "source": [
    "sm = SMOTE(random_state=123)"
   ]
  },
  {
   "cell_type": "code",
   "execution_count": 55,
   "id": "b61736eb",
   "metadata": {},
   "outputs": [],
   "source": [
    "X_res, y_res = sm.fit_resample(X, y)"
   ]
  },
  {
   "cell_type": "code",
   "execution_count": 56,
   "id": "784eed86",
   "metadata": {},
   "outputs": [
    {
     "name": "stdout",
     "output_type": "stream",
     "text": [
      "(9722, 8) (9722,)\n"
     ]
    }
   ],
   "source": [
    "print(X_res.shape, y_res.shape)"
   ]
  },
  {
   "cell_type": "code",
   "execution_count": 57,
   "id": "e75998d3",
   "metadata": {},
   "outputs": [],
   "source": [
    "#smote = SMOTETomek(random_state=123)"
   ]
  },
  {
   "cell_type": "code",
   "execution_count": 58,
   "id": "0d54c700",
   "metadata": {},
   "outputs": [],
   "source": [
    "#X_res, y_res = smote.fit_resample(X, y)"
   ]
  },
  {
   "cell_type": "code",
   "execution_count": 59,
   "id": "a0fadd5e",
   "metadata": {},
   "outputs": [],
   "source": [
    "#print(X_res.shape, y_res.shape)"
   ]
  },
  {
   "cell_type": "code",
   "execution_count": 60,
   "id": "b791f242",
   "metadata": {},
   "outputs": [
    {
     "name": "stdout",
     "output_type": "stream",
     "text": [
      "Original dataset shape Counter({0: 4861, 1: 249})\n",
      "Resampled dataset shape Counter({1: 4861, 0: 4861})\n"
     ]
    }
   ],
   "source": [
    "print(\"Original dataset shape {}\".format(Counter(y)))\n",
    "print(\"Resampled dataset shape {}\".format(Counter(y_res)))"
   ]
  },
  {
   "cell_type": "code",
   "execution_count": 61,
   "id": "f2ebe27e",
   "metadata": {},
   "outputs": [
    {
     "data": {
      "text/plain": [
       "1    4861\n",
       "0    4861\n",
       "Name: stroke, dtype: int64"
      ]
     },
     "execution_count": 61,
     "metadata": {},
     "output_type": "execute_result"
    }
   ],
   "source": [
    "y_res.value_counts()"
   ]
  },
  {
   "cell_type": "code",
   "execution_count": 62,
   "id": "42ec28c0",
   "metadata": {},
   "outputs": [],
   "source": [
    "from sklearn.preprocessing import MinMaxScaler\n",
    "from sklearn.model_selection import train_test_split"
   ]
  },
  {
   "cell_type": "code",
   "execution_count": 63,
   "id": "b12fb7d4",
   "metadata": {},
   "outputs": [],
   "source": [
    "X_train, X_test, y_train, y_test = train_test_split(X, y, test_size=0.3, random_state=42)"
   ]
  },
  {
   "cell_type": "code",
   "execution_count": 64,
   "id": "83ea4bfc",
   "metadata": {},
   "outputs": [],
   "source": [
    "scaler = MinMaxScaler()"
   ]
  },
  {
   "cell_type": "code",
   "execution_count": 65,
   "id": "f0c29434",
   "metadata": {},
   "outputs": [],
   "source": [
    "X_res = scaler.fit_transform(X_res)\n",
    "X_test = scaler.fit_transform(X_test)"
   ]
  },
  {
   "cell_type": "code",
   "execution_count": 66,
   "id": "839445cc",
   "metadata": {},
   "outputs": [
    {
     "name": "stdout",
     "output_type": "stream",
     "text": [
      "(9722, 8) (1533, 8)\n"
     ]
    }
   ],
   "source": [
    "print(X_res.shape, X_test.shape)"
   ]
  },
  {
   "cell_type": "markdown",
   "id": "97558133",
   "metadata": {},
   "source": [
    "### ANN Model"
   ]
  },
  {
   "cell_type": "markdown",
   "id": "1b339916",
   "metadata": {},
   "source": [
    "#### 1. Model with Nadam Optimizer"
   ]
  },
  {
   "cell_type": "code",
   "execution_count": 67,
   "id": "2f1cedb8",
   "metadata": {},
   "outputs": [],
   "source": [
    "model_1 = tf.keras.models.Sequential()"
   ]
  },
  {
   "cell_type": "code",
   "execution_count": 68,
   "id": "7b9c0b04",
   "metadata": {},
   "outputs": [],
   "source": [
    "model_1.add(tf.keras.layers.Dense(units=128, activation='relu', input_shape=(8,)))"
   ]
  },
  {
   "cell_type": "code",
   "execution_count": 69,
   "id": "a6e835b5",
   "metadata": {},
   "outputs": [],
   "source": [
    "model_1.add(tf.keras.layers.Dense(units=64, activation='relu'))"
   ]
  },
  {
   "cell_type": "code",
   "execution_count": 70,
   "id": "f89be505",
   "metadata": {},
   "outputs": [],
   "source": [
    "model_1.add(tf.keras.layers.Dense(units=32, activation='relu'))"
   ]
  },
  {
   "cell_type": "code",
   "execution_count": 71,
   "id": "2ecf8a0e",
   "metadata": {},
   "outputs": [],
   "source": [
    "model_1.add(tf.keras.layers.Dense(units=1, activation = 'sigmoid'))"
   ]
  },
  {
   "cell_type": "code",
   "execution_count": 72,
   "id": "551845d6",
   "metadata": {},
   "outputs": [],
   "source": [
    "model_1.compile(optimizer = tf.keras.optimizers.Nadam(learning_rate=0.1), \n",
    "                loss = 'binary_crossentropy', \n",
    "                metrics = ['accuracy'])"
   ]
  },
  {
   "cell_type": "code",
   "execution_count": 73,
   "id": "54403222",
   "metadata": {},
   "outputs": [
    {
     "name": "stdout",
     "output_type": "stream",
     "text": [
      "Model: \"sequential\"\n",
      "_________________________________________________________________\n",
      " Layer (type)                Output Shape              Param #   \n",
      "=================================================================\n",
      " dense (Dense)               (None, 128)               1152      \n",
      "                                                                 \n",
      " dense_1 (Dense)             (None, 64)                8256      \n",
      "                                                                 \n",
      " dense_2 (Dense)             (None, 32)                2080      \n",
      "                                                                 \n",
      " dense_3 (Dense)             (None, 1)                 33        \n",
      "                                                                 \n",
      "=================================================================\n",
      "Total params: 11,521\n",
      "Trainable params: 11,521\n",
      "Non-trainable params: 0\n",
      "_________________________________________________________________\n"
     ]
    }
   ],
   "source": [
    "model_1.summary()"
   ]
  },
  {
   "cell_type": "code",
   "execution_count": 74,
   "id": "ab601005",
   "metadata": {},
   "outputs": [
    {
     "name": "stdout",
     "output_type": "stream",
     "text": [
      "Epoch 1/150\n",
      "304/304 [==============================] - 1s 1ms/step - loss: 0.6811 - accuracy: 0.7207\n",
      "Epoch 2/150\n",
      "304/304 [==============================] - 0s 1ms/step - loss: 0.4753 - accuracy: 0.7783\n",
      "Epoch 3/150\n",
      "304/304 [==============================] - 0s 1ms/step - loss: 0.4534 - accuracy: 0.7834\n",
      "Epoch 4/150\n",
      "304/304 [==============================] - 0s 1ms/step - loss: 0.4469 - accuracy: 0.7830\n",
      "Epoch 5/150\n",
      "304/304 [==============================] - 0s 1ms/step - loss: 0.4566 - accuracy: 0.7779\n",
      "Epoch 6/150\n",
      "304/304 [==============================] - 0s 1ms/step - loss: 0.4987 - accuracy: 0.7777\n",
      "Epoch 7/150\n",
      "304/304 [==============================] - 0s 1ms/step - loss: 0.4747 - accuracy: 0.7810\n",
      "Epoch 8/150\n",
      "304/304 [==============================] - 0s 1ms/step - loss: 0.4490 - accuracy: 0.7869\n",
      "Epoch 9/150\n",
      "304/304 [==============================] - 0s 1ms/step - loss: 0.4468 - accuracy: 0.7900\n",
      "Epoch 10/150\n",
      "304/304 [==============================] - 1s 2ms/step - loss: 0.4440 - accuracy: 0.7954\n",
      "Epoch 11/150\n",
      "304/304 [==============================] - 0s 1ms/step - loss: 0.4392 - accuracy: 0.7945\n",
      "Epoch 12/150\n",
      "304/304 [==============================] - 0s 1ms/step - loss: 0.4316 - accuracy: 0.7953\n",
      "Epoch 13/150\n",
      "304/304 [==============================] - 0s 1ms/step - loss: 0.4319 - accuracy: 0.7964\n",
      "Epoch 14/150\n",
      "304/304 [==============================] - 0s 1ms/step - loss: 0.4285 - accuracy: 0.7941\n",
      "Epoch 15/150\n",
      "304/304 [==============================] - 0s 1ms/step - loss: 0.4254 - accuracy: 0.7995\n",
      "Epoch 16/150\n",
      "304/304 [==============================] - 1s 2ms/step - loss: 0.4259 - accuracy: 0.8010\n",
      "Epoch 17/150\n",
      "304/304 [==============================] - 1s 2ms/step - loss: 0.4243 - accuracy: 0.8028\n",
      "Epoch 18/150\n",
      "304/304 [==============================] - 1s 3ms/step - loss: 0.4223 - accuracy: 0.8032\n",
      "Epoch 19/150\n",
      "304/304 [==============================] - 1s 2ms/step - loss: 0.4233 - accuracy: 0.8064\n",
      "Epoch 20/150\n",
      "304/304 [==============================] - 1s 2ms/step - loss: 0.4222 - accuracy: 0.8070\n",
      "Epoch 21/150\n",
      "304/304 [==============================] - 1s 2ms/step - loss: 0.4192 - accuracy: 0.8090\n",
      "Epoch 22/150\n",
      "304/304 [==============================] - 0s 2ms/step - loss: 0.4200 - accuracy: 0.8080\n",
      "Epoch 23/150\n",
      "304/304 [==============================] - 1s 2ms/step - loss: 0.4217 - accuracy: 0.8064\n",
      "Epoch 24/150\n",
      "304/304 [==============================] - 1s 2ms/step - loss: 0.4219 - accuracy: 0.8080\n",
      "Epoch 25/150\n",
      "304/304 [==============================] - 0s 2ms/step - loss: 0.4228 - accuracy: 0.8055\n",
      "Epoch 26/150\n",
      "304/304 [==============================] - 0s 1ms/step - loss: 0.4218 - accuracy: 0.8072\n",
      "Epoch 27/150\n",
      "304/304 [==============================] - 0s 1ms/step - loss: 0.4216 - accuracy: 0.8075\n",
      "Epoch 28/150\n",
      "304/304 [==============================] - 0s 1ms/step - loss: 0.4197 - accuracy: 0.8092\n",
      "Epoch 29/150\n",
      "304/304 [==============================] - 0s 1ms/step - loss: 0.4224 - accuracy: 0.8074\n",
      "Epoch 30/150\n",
      "304/304 [==============================] - 0s 1ms/step - loss: 0.4220 - accuracy: 0.8085\n",
      "Epoch 31/150\n",
      "304/304 [==============================] - 0s 1ms/step - loss: 0.4205 - accuracy: 0.8093\n",
      "Epoch 32/150\n",
      "304/304 [==============================] - 0s 1ms/step - loss: 0.4220 - accuracy: 0.8092\n",
      "Epoch 33/150\n",
      "304/304 [==============================] - 0s 2ms/step - loss: 0.4202 - accuracy: 0.8095\n",
      "Epoch 34/150\n",
      "304/304 [==============================] - 0s 1ms/step - loss: 0.4225 - accuracy: 0.8087\n",
      "Epoch 35/150\n",
      "304/304 [==============================] - 1s 2ms/step - loss: 0.4201 - accuracy: 0.8098\n",
      "Epoch 36/150\n",
      "304/304 [==============================] - 0s 1ms/step - loss: 0.4232 - accuracy: 0.8075\n",
      "Epoch 37/150\n",
      "304/304 [==============================] - 0s 1ms/step - loss: 0.4207 - accuracy: 0.8094\n",
      "Epoch 38/150\n",
      "304/304 [==============================] - 0s 1ms/step - loss: 0.4238 - accuracy: 0.8051\n",
      "Epoch 39/150\n",
      "304/304 [==============================] - 0s 1ms/step - loss: 0.4255 - accuracy: 0.8065\n",
      "Epoch 40/150\n",
      "304/304 [==============================] - 0s 1ms/step - loss: 0.4270 - accuracy: 0.8032\n",
      "Epoch 41/150\n",
      "304/304 [==============================] - 0s 1ms/step - loss: 0.4223 - accuracy: 0.8085\n",
      "Epoch 42/150\n",
      "304/304 [==============================] - 0s 1ms/step - loss: 0.4202 - accuracy: 0.8048\n",
      "Epoch 43/150\n",
      "304/304 [==============================] - 0s 1ms/step - loss: 0.4216 - accuracy: 0.8081\n",
      "Epoch 44/150\n",
      "304/304 [==============================] - 0s 1ms/step - loss: 0.4233 - accuracy: 0.8036\n",
      "Epoch 45/150\n",
      "304/304 [==============================] - 0s 1ms/step - loss: 0.4205 - accuracy: 0.8086\n",
      "Epoch 46/150\n",
      "304/304 [==============================] - 1s 2ms/step - loss: 0.4195 - accuracy: 0.8087\n",
      "Epoch 47/150\n",
      "304/304 [==============================] - 1s 2ms/step - loss: 0.4207 - accuracy: 0.8055\n",
      "Epoch 48/150\n",
      "304/304 [==============================] - 0s 1ms/step - loss: 0.4226 - accuracy: 0.8030\n",
      "Epoch 49/150\n",
      "304/304 [==============================] - 0s 1ms/step - loss: 0.4213 - accuracy: 0.8067\n",
      "Epoch 50/150\n",
      "304/304 [==============================] - 0s 1ms/step - loss: 0.4187 - accuracy: 0.8091\n",
      "Epoch 51/150\n",
      "304/304 [==============================] - 0s 2ms/step - loss: 0.4208 - accuracy: 0.8089\n",
      "Epoch 52/150\n",
      "304/304 [==============================] - 1s 2ms/step - loss: 0.4208 - accuracy: 0.8082\n",
      "Epoch 53/150\n",
      "304/304 [==============================] - 0s 1ms/step - loss: 0.4237 - accuracy: 0.8053\n",
      "Epoch 54/150\n",
      "304/304 [==============================] - 0s 1ms/step - loss: 0.4220 - accuracy: 0.8022\n",
      "Epoch 55/150\n",
      "304/304 [==============================] - 0s 1ms/step - loss: 0.4199 - accuracy: 0.8080\n",
      "Epoch 56/150\n",
      "304/304 [==============================] - 0s 2ms/step - loss: 0.4177 - accuracy: 0.8085\n",
      "Epoch 57/150\n",
      "304/304 [==============================] - 0s 1ms/step - loss: 0.4203 - accuracy: 0.8050\n",
      "Epoch 58/150\n",
      "304/304 [==============================] - 1s 2ms/step - loss: 0.4209 - accuracy: 0.8054\n",
      "Epoch 59/150\n",
      "304/304 [==============================] - 1s 2ms/step - loss: 0.4176 - accuracy: 0.8060\n",
      "Epoch 60/150\n",
      "304/304 [==============================] - 1s 2ms/step - loss: 0.4191 - accuracy: 0.8037\n",
      "Epoch 61/150\n",
      "304/304 [==============================] - 0s 1ms/step - loss: 0.4235 - accuracy: 0.8046\n",
      "Epoch 62/150\n",
      "304/304 [==============================] - 0s 1ms/step - loss: 0.4216 - accuracy: 0.8053\n",
      "Epoch 63/150\n",
      "304/304 [==============================] - 1s 2ms/step - loss: 0.4205 - accuracy: 0.8048\n",
      "Epoch 64/150\n",
      "304/304 [==============================] - 1s 2ms/step - loss: 0.4217 - accuracy: 0.8083\n",
      "Epoch 65/150\n",
      "304/304 [==============================] - 0s 1ms/step - loss: 0.4195 - accuracy: 0.8085\n",
      "Epoch 66/150\n",
      "304/304 [==============================] - 0s 1ms/step - loss: 0.4199 - accuracy: 0.8065\n",
      "Epoch 67/150\n",
      "304/304 [==============================] - 0s 2ms/step - loss: 0.4204 - accuracy: 0.8091\n",
      "Epoch 68/150\n",
      "304/304 [==============================] - 0s 1ms/step - loss: 0.4211 - accuracy: 0.8029\n",
      "Epoch 69/150\n",
      "304/304 [==============================] - 1s 2ms/step - loss: 0.4220 - accuracy: 0.8045\n",
      "Epoch 70/150\n",
      "304/304 [==============================] - 1s 2ms/step - loss: 0.4208 - accuracy: 0.8070\n",
      "Epoch 71/150\n",
      "304/304 [==============================] - 1s 2ms/step - loss: 0.4195 - accuracy: 0.8046\n",
      "Epoch 72/150\n",
      "304/304 [==============================] - 1s 2ms/step - loss: 0.4186 - accuracy: 0.8081\n",
      "Epoch 73/150\n",
      "304/304 [==============================] - 0s 1ms/step - loss: 0.4217 - accuracy: 0.8060\n",
      "Epoch 74/150\n",
      "304/304 [==============================] - 0s 1ms/step - loss: 0.4208 - accuracy: 0.8085\n",
      "Epoch 75/150\n",
      "304/304 [==============================] - 0s 1ms/step - loss: 0.4190 - accuracy: 0.8098\n",
      "Epoch 76/150\n",
      "304/304 [==============================] - 0s 1ms/step - loss: 0.4207 - accuracy: 0.8077\n",
      "Epoch 77/150\n",
      "304/304 [==============================] - 0s 1ms/step - loss: 0.4195 - accuracy: 0.8042\n",
      "Epoch 78/150\n",
      "304/304 [==============================] - 0s 1ms/step - loss: 0.4214 - accuracy: 0.8041\n",
      "Epoch 79/150\n",
      "304/304 [==============================] - 0s 1ms/step - loss: 0.4199 - accuracy: 0.8061\n",
      "Epoch 80/150\n",
      "304/304 [==============================] - 0s 1ms/step - loss: 0.4203 - accuracy: 0.8087\n",
      "Epoch 81/150\n",
      "304/304 [==============================] - 0s 1ms/step - loss: 0.4196 - accuracy: 0.8064\n",
      "Epoch 82/150\n",
      "304/304 [==============================] - 0s 1ms/step - loss: 0.4212 - accuracy: 0.8069\n",
      "Epoch 83/150\n",
      "304/304 [==============================] - 0s 1ms/step - loss: 0.4189 - accuracy: 0.8104\n",
      "Epoch 84/150\n",
      "304/304 [==============================] - 0s 1ms/step - loss: 0.4221 - accuracy: 0.8054\n",
      "Epoch 85/150\n",
      "304/304 [==============================] - 0s 1ms/step - loss: 0.4220 - accuracy: 0.8053\n",
      "Epoch 86/150\n",
      "304/304 [==============================] - 0s 1ms/step - loss: 0.4217 - accuracy: 0.8054\n",
      "Epoch 87/150\n",
      "304/304 [==============================] - 1s 2ms/step - loss: 0.4215 - accuracy: 0.8092\n",
      "Epoch 88/150\n",
      "304/304 [==============================] - 0s 1ms/step - loss: 0.4218 - accuracy: 0.8039\n",
      "Epoch 89/150\n",
      "304/304 [==============================] - 0s 1ms/step - loss: 0.4200 - accuracy: 0.8045\n",
      "Epoch 90/150\n",
      "304/304 [==============================] - 0s 1ms/step - loss: 0.4225 - accuracy: 0.8028\n",
      "Epoch 91/150\n",
      "304/304 [==============================] - 0s 1ms/step - loss: 0.4213 - accuracy: 0.8062\n",
      "Epoch 92/150\n",
      "304/304 [==============================] - 0s 1ms/step - loss: 0.4195 - accuracy: 0.8077\n",
      "Epoch 93/150\n",
      "304/304 [==============================] - 0s 2ms/step - loss: 0.4196 - accuracy: 0.8070\n",
      "Epoch 94/150\n",
      "304/304 [==============================] - 0s 2ms/step - loss: 0.4202 - accuracy: 0.8066\n",
      "Epoch 95/150\n",
      "304/304 [==============================] - 0s 1ms/step - loss: 0.4211 - accuracy: 0.8078\n",
      "Epoch 96/150\n",
      "304/304 [==============================] - 0s 1ms/step - loss: 0.4205 - accuracy: 0.8064\n",
      "Epoch 97/150\n",
      "304/304 [==============================] - 0s 1ms/step - loss: 0.4203 - accuracy: 0.8072\n",
      "Epoch 98/150\n",
      "304/304 [==============================] - 0s 1ms/step - loss: 0.4199 - accuracy: 0.8046\n",
      "Epoch 99/150\n",
      "304/304 [==============================] - 0s 1ms/step - loss: 0.4225 - accuracy: 0.8027\n",
      "Epoch 100/150\n",
      "304/304 [==============================] - 0s 1ms/step - loss: 0.4197 - accuracy: 0.8070\n",
      "Epoch 101/150\n",
      "304/304 [==============================] - 0s 1ms/step - loss: 0.4216 - accuracy: 0.8055\n",
      "Epoch 102/150\n",
      "304/304 [==============================] - 0s 1ms/step - loss: 0.4248 - accuracy: 0.8065\n",
      "Epoch 103/150\n",
      "304/304 [==============================] - 0s 1ms/step - loss: 0.4233 - accuracy: 0.8068\n",
      "Epoch 104/150\n",
      "304/304 [==============================] - 0s 1ms/step - loss: 0.4211 - accuracy: 0.8057\n",
      "Epoch 105/150\n",
      "304/304 [==============================] - 0s 1ms/step - loss: 0.4207 - accuracy: 0.8082\n",
      "Epoch 106/150\n",
      "304/304 [==============================] - 0s 1ms/step - loss: 0.4214 - accuracy: 0.8066\n",
      "Epoch 107/150\n",
      "304/304 [==============================] - 0s 1ms/step - loss: 0.4200 - accuracy: 0.8065\n",
      "Epoch 108/150\n",
      "304/304 [==============================] - 0s 1ms/step - loss: 0.4208 - accuracy: 0.8070\n",
      "Epoch 109/150\n",
      "304/304 [==============================] - 0s 1ms/step - loss: 0.4216 - accuracy: 0.8086\n",
      "Epoch 110/150\n",
      "304/304 [==============================] - 0s 1ms/step - loss: 0.4221 - accuracy: 0.8054\n",
      "Epoch 111/150\n",
      "304/304 [==============================] - 0s 1ms/step - loss: 0.4203 - accuracy: 0.8074\n",
      "Epoch 112/150\n",
      "304/304 [==============================] - 0s 1ms/step - loss: 0.4188 - accuracy: 0.8072\n",
      "Epoch 113/150\n",
      "304/304 [==============================] - 0s 1ms/step - loss: 0.4206 - accuracy: 0.8051\n",
      "Epoch 114/150\n",
      "304/304 [==============================] - 0s 1ms/step - loss: 0.4207 - accuracy: 0.8052\n",
      "Epoch 115/150\n",
      "304/304 [==============================] - 0s 1ms/step - loss: 0.4229 - accuracy: 0.8019\n",
      "Epoch 116/150\n",
      "304/304 [==============================] - 0s 1ms/step - loss: 0.4220 - accuracy: 0.8102\n",
      "Epoch 117/150\n",
      "304/304 [==============================] - 0s 1ms/step - loss: 0.4205 - accuracy: 0.8033\n",
      "Epoch 118/150\n",
      "304/304 [==============================] - 0s 1ms/step - loss: 0.4212 - accuracy: 0.8082\n",
      "Epoch 119/150\n",
      "304/304 [==============================] - 0s 1ms/step - loss: 0.4203 - accuracy: 0.8088\n",
      "Epoch 120/150\n",
      "304/304 [==============================] - 0s 1ms/step - loss: 0.4213 - accuracy: 0.8095\n",
      "Epoch 121/150\n",
      "304/304 [==============================] - 0s 1ms/step - loss: 0.4213 - accuracy: 0.8058\n",
      "Epoch 122/150\n",
      "304/304 [==============================] - 0s 1ms/step - loss: 0.4207 - accuracy: 0.8060\n",
      "Epoch 123/150\n",
      "304/304 [==============================] - 0s 1ms/step - loss: 0.4213 - accuracy: 0.8051\n",
      "Epoch 124/150\n",
      "304/304 [==============================] - 0s 1ms/step - loss: 0.4216 - accuracy: 0.8028\n",
      "Epoch 125/150\n",
      "304/304 [==============================] - 0s 1ms/step - loss: 0.4211 - accuracy: 0.8070\n",
      "Epoch 126/150\n",
      "304/304 [==============================] - 0s 1ms/step - loss: 0.4207 - accuracy: 0.8081\n",
      "Epoch 127/150\n",
      "304/304 [==============================] - 0s 1ms/step - loss: 0.4220 - accuracy: 0.8051\n",
      "Epoch 128/150\n",
      "304/304 [==============================] - 0s 1ms/step - loss: 0.4187 - accuracy: 0.8070\n",
      "Epoch 129/150\n",
      "304/304 [==============================] - 0s 1ms/step - loss: 0.4217 - accuracy: 0.8060\n",
      "Epoch 130/150\n",
      "304/304 [==============================] - 0s 1ms/step - loss: 0.4209 - accuracy: 0.8066\n",
      "Epoch 131/150\n",
      "304/304 [==============================] - 0s 1ms/step - loss: 0.4213 - accuracy: 0.8068\n",
      "Epoch 132/150\n",
      "304/304 [==============================] - 0s 1ms/step - loss: 0.4210 - accuracy: 0.8042\n",
      "Epoch 133/150\n",
      "304/304 [==============================] - 0s 1ms/step - loss: 0.4229 - accuracy: 0.8052\n",
      "Epoch 134/150\n",
      "304/304 [==============================] - 0s 1ms/step - loss: 0.4220 - accuracy: 0.8090\n",
      "Epoch 135/150\n",
      "304/304 [==============================] - 0s 1ms/step - loss: 0.4222 - accuracy: 0.8081\n",
      "Epoch 136/150\n",
      "304/304 [==============================] - 0s 1ms/step - loss: 0.4211 - accuracy: 0.8067\n",
      "Epoch 137/150\n",
      "304/304 [==============================] - 0s 1ms/step - loss: 0.4205 - accuracy: 0.8063\n",
      "Epoch 138/150\n",
      "304/304 [==============================] - 0s 1ms/step - loss: 0.4214 - accuracy: 0.8071\n",
      "Epoch 139/150\n",
      "304/304 [==============================] - 0s 1ms/step - loss: 0.4195 - accuracy: 0.8086\n",
      "Epoch 140/150\n",
      "304/304 [==============================] - 0s 1ms/step - loss: 0.4253 - accuracy: 0.8026\n",
      "Epoch 141/150\n",
      "304/304 [==============================] - 0s 1ms/step - loss: 0.4220 - accuracy: 0.8086\n",
      "Epoch 142/150\n",
      "304/304 [==============================] - 0s 1ms/step - loss: 0.4209 - accuracy: 0.8079\n",
      "Epoch 143/150\n",
      "304/304 [==============================] - 0s 1ms/step - loss: 0.4209 - accuracy: 0.8066\n",
      "Epoch 144/150\n",
      "304/304 [==============================] - 0s 1ms/step - loss: 0.4229 - accuracy: 0.8071\n",
      "Epoch 145/150\n",
      "304/304 [==============================] - 0s 1ms/step - loss: 0.4213 - accuracy: 0.8071\n",
      "Epoch 146/150\n",
      "304/304 [==============================] - 0s 1ms/step - loss: 0.4203 - accuracy: 0.8105\n",
      "Epoch 147/150\n",
      "304/304 [==============================] - 0s 1ms/step - loss: 0.4222 - accuracy: 0.8066\n",
      "Epoch 148/150\n",
      "304/304 [==============================] - 0s 1ms/step - loss: 0.4200 - accuracy: 0.8070\n",
      "Epoch 149/150\n",
      "304/304 [==============================] - 0s 1ms/step - loss: 0.4217 - accuracy: 0.8063\n",
      "Epoch 150/150\n",
      "304/304 [==============================] - 0s 1ms/step - loss: 0.4204 - accuracy: 0.8045\n"
     ]
    },
    {
     "data": {
      "text/plain": [
       "<keras.callbacks.History at 0x2b84b4cb340>"
      ]
     },
     "execution_count": 74,
     "metadata": {},
     "output_type": "execute_result"
    }
   ],
   "source": [
    "model_1.fit(x= X_res, y= y_res, epochs=150)"
   ]
  },
  {
   "cell_type": "markdown",
   "id": "a8d0c057",
   "metadata": {},
   "source": [
    "#### 2. Model with Adamax Optimizer"
   ]
  },
  {
   "cell_type": "code",
   "execution_count": 75,
   "id": "37396406",
   "metadata": {},
   "outputs": [],
   "source": [
    "model_2 = tf.keras.models.Sequential()"
   ]
  },
  {
   "cell_type": "code",
   "execution_count": 76,
   "id": "711e36e0",
   "metadata": {},
   "outputs": [],
   "source": [
    "model_2.add(tf.keras.layers.Dense(units=128, activation='relu', input_shape=(8,)))"
   ]
  },
  {
   "cell_type": "code",
   "execution_count": 77,
   "id": "fb15edee",
   "metadata": {},
   "outputs": [],
   "source": [
    "model_2.add(tf.keras.layers.Dense(units=64, activation='relu'))"
   ]
  },
  {
   "cell_type": "code",
   "execution_count": 78,
   "id": "f5e6d3d2",
   "metadata": {},
   "outputs": [],
   "source": [
    "model_2.add(tf.keras.layers.Dense(units=32, activation='relu'))"
   ]
  },
  {
   "cell_type": "code",
   "execution_count": 79,
   "id": "eb4a12c9",
   "metadata": {},
   "outputs": [],
   "source": [
    "model_2.add(tf.keras.layers.Dense(units=1, activation = 'sigmoid'))"
   ]
  },
  {
   "cell_type": "code",
   "execution_count": 80,
   "id": "cb0f496d",
   "metadata": {},
   "outputs": [],
   "source": [
    "model_2.compile(optimizer = tf.keras.optimizers.Adamax(learning_rate=0.1), \n",
    "                loss = 'binary_crossentropy', \n",
    "                metrics = ['accuracy'])"
   ]
  },
  {
   "cell_type": "code",
   "execution_count": 81,
   "id": "7b4f92ac",
   "metadata": {},
   "outputs": [
    {
     "name": "stdout",
     "output_type": "stream",
     "text": [
      "Model: \"sequential_1\"\n",
      "_________________________________________________________________\n",
      " Layer (type)                Output Shape              Param #   \n",
      "=================================================================\n",
      " dense_4 (Dense)             (None, 128)               1152      \n",
      "                                                                 \n",
      " dense_5 (Dense)             (None, 64)                8256      \n",
      "                                                                 \n",
      " dense_6 (Dense)             (None, 32)                2080      \n",
      "                                                                 \n",
      " dense_7 (Dense)             (None, 1)                 33        \n",
      "                                                                 \n",
      "=================================================================\n",
      "Total params: 11,521\n",
      "Trainable params: 11,521\n",
      "Non-trainable params: 0\n",
      "_________________________________________________________________\n"
     ]
    }
   ],
   "source": [
    "model_2.summary()"
   ]
  },
  {
   "cell_type": "code",
   "execution_count": 82,
   "id": "c2ff6013",
   "metadata": {},
   "outputs": [
    {
     "name": "stdout",
     "output_type": "stream",
     "text": [
      "Epoch 1/150\n",
      "304/304 [==============================] - 1s 1ms/step - loss: 0.4630 - accuracy: 0.7771\n",
      "Epoch 2/150\n",
      "304/304 [==============================] - 0s 1ms/step - loss: 0.4198 - accuracy: 0.8098\n",
      "Epoch 3/150\n",
      "304/304 [==============================] - 0s 1ms/step - loss: 0.4145 - accuracy: 0.8150\n",
      "Epoch 4/150\n",
      "304/304 [==============================] - 0s 1ms/step - loss: 0.4181 - accuracy: 0.8105\n",
      "Epoch 5/150\n",
      "304/304 [==============================] - 0s 1ms/step - loss: 0.4087 - accuracy: 0.8154\n",
      "Epoch 6/150\n",
      "304/304 [==============================] - 0s 1ms/step - loss: 0.4050 - accuracy: 0.8187\n",
      "Epoch 7/150\n",
      "304/304 [==============================] - 0s 1ms/step - loss: 0.4070 - accuracy: 0.8114\n",
      "Epoch 8/150\n",
      "304/304 [==============================] - 0s 1ms/step - loss: 0.4002 - accuracy: 0.8211\n",
      "Epoch 9/150\n",
      "304/304 [==============================] - 0s 1ms/step - loss: 0.3986 - accuracy: 0.8207\n",
      "Epoch 10/150\n",
      "304/304 [==============================] - 0s 1ms/step - loss: 0.3930 - accuracy: 0.8226\n",
      "Epoch 11/150\n",
      "304/304 [==============================] - 0s 1ms/step - loss: 0.3913 - accuracy: 0.8242\n",
      "Epoch 12/150\n",
      "304/304 [==============================] - 0s 1ms/step - loss: 0.3856 - accuracy: 0.8251\n",
      "Epoch 13/150\n",
      "304/304 [==============================] - 0s 1ms/step - loss: 0.3850 - accuracy: 0.8252\n",
      "Epoch 14/150\n",
      "304/304 [==============================] - 0s 1ms/step - loss: 0.3817 - accuracy: 0.8297\n",
      "Epoch 15/150\n",
      "304/304 [==============================] - 0s 1ms/step - loss: 0.3784 - accuracy: 0.8288\n",
      "Epoch 16/150\n",
      "304/304 [==============================] - 0s 1ms/step - loss: 0.3795 - accuracy: 0.8279\n",
      "Epoch 17/150\n",
      "304/304 [==============================] - 0s 1ms/step - loss: 0.3746 - accuracy: 0.8335\n",
      "Epoch 18/150\n",
      "304/304 [==============================] - 0s 1ms/step - loss: 0.3741 - accuracy: 0.8323\n",
      "Epoch 19/150\n",
      "304/304 [==============================] - 0s 1ms/step - loss: 0.3697 - accuracy: 0.8322\n",
      "Epoch 20/150\n",
      "304/304 [==============================] - 0s 1ms/step - loss: 0.3637 - accuracy: 0.8387\n",
      "Epoch 21/150\n",
      "304/304 [==============================] - 0s 1ms/step - loss: 0.3692 - accuracy: 0.8370\n",
      "Epoch 22/150\n",
      "304/304 [==============================] - 0s 1ms/step - loss: 0.3636 - accuracy: 0.8381\n",
      "Epoch 23/150\n",
      "304/304 [==============================] - 0s 1ms/step - loss: 0.3642 - accuracy: 0.8358\n",
      "Epoch 24/150\n",
      "304/304 [==============================] - 0s 1ms/step - loss: 0.3636 - accuracy: 0.8368\n",
      "Epoch 25/150\n",
      "304/304 [==============================] - 0s 1ms/step - loss: 0.3590 - accuracy: 0.8405\n",
      "Epoch 26/150\n",
      "304/304 [==============================] - 0s 1ms/step - loss: 0.3603 - accuracy: 0.8393\n",
      "Epoch 27/150\n",
      "304/304 [==============================] - 0s 1ms/step - loss: 0.3625 - accuracy: 0.8358\n",
      "Epoch 28/150\n",
      "304/304 [==============================] - 0s 1ms/step - loss: 0.3632 - accuracy: 0.8394\n",
      "Epoch 29/150\n",
      "304/304 [==============================] - 0s 1ms/step - loss: 0.3577 - accuracy: 0.8405\n",
      "Epoch 30/150\n",
      "304/304 [==============================] - 0s 1ms/step - loss: 0.3577 - accuracy: 0.8402\n",
      "Epoch 31/150\n",
      "304/304 [==============================] - 0s 1ms/step - loss: 0.3537 - accuracy: 0.8428\n",
      "Epoch 32/150\n",
      "304/304 [==============================] - 0s 1ms/step - loss: 0.3559 - accuracy: 0.8409\n",
      "Epoch 33/150\n",
      "304/304 [==============================] - 0s 1ms/step - loss: 0.3507 - accuracy: 0.8448\n",
      "Epoch 34/150\n",
      "304/304 [==============================] - 0s 1ms/step - loss: 0.3554 - accuracy: 0.8415\n",
      "Epoch 35/150\n",
      "304/304 [==============================] - 0s 1ms/step - loss: 0.3466 - accuracy: 0.8473\n",
      "Epoch 36/150\n",
      "304/304 [==============================] - 0s 1ms/step - loss: 0.3468 - accuracy: 0.8446\n",
      "Epoch 37/150\n",
      "304/304 [==============================] - 0s 1ms/step - loss: 0.3477 - accuracy: 0.8449\n",
      "Epoch 38/150\n",
      "304/304 [==============================] - 0s 1ms/step - loss: 0.3470 - accuracy: 0.8458\n",
      "Epoch 39/150\n",
      "304/304 [==============================] - 0s 1ms/step - loss: 0.3466 - accuracy: 0.8466\n",
      "Epoch 40/150\n",
      "304/304 [==============================] - 0s 1ms/step - loss: 0.3477 - accuracy: 0.8429\n",
      "Epoch 41/150\n",
      "304/304 [==============================] - 0s 1ms/step - loss: 0.3407 - accuracy: 0.8484\n",
      "Epoch 42/150\n",
      "304/304 [==============================] - 0s 1ms/step - loss: 0.3426 - accuracy: 0.8483\n",
      "Epoch 43/150\n",
      "304/304 [==============================] - 0s 1ms/step - loss: 0.3467 - accuracy: 0.8467\n",
      "Epoch 44/150\n",
      "304/304 [==============================] - 0s 1ms/step - loss: 0.3417 - accuracy: 0.8500\n",
      "Epoch 45/150\n",
      "304/304 [==============================] - 0s 1ms/step - loss: 0.3443 - accuracy: 0.8476\n",
      "Epoch 46/150\n",
      "304/304 [==============================] - 0s 1ms/step - loss: 0.3471 - accuracy: 0.8455\n",
      "Epoch 47/150\n",
      "304/304 [==============================] - 0s 1ms/step - loss: 0.3435 - accuracy: 0.8462\n",
      "Epoch 48/150\n",
      "304/304 [==============================] - 0s 1ms/step - loss: 0.3386 - accuracy: 0.8530\n",
      "Epoch 49/150\n",
      "304/304 [==============================] - 0s 1ms/step - loss: 0.3357 - accuracy: 0.8542\n",
      "Epoch 50/150\n",
      "304/304 [==============================] - 0s 1ms/step - loss: 0.3380 - accuracy: 0.8539\n",
      "Epoch 51/150\n",
      "304/304 [==============================] - 0s 1ms/step - loss: 0.3393 - accuracy: 0.8523\n",
      "Epoch 52/150\n",
      "304/304 [==============================] - 0s 1ms/step - loss: 0.3362 - accuracy: 0.8513\n",
      "Epoch 53/150\n",
      "304/304 [==============================] - 0s 1ms/step - loss: 0.3339 - accuracy: 0.8526\n",
      "Epoch 54/150\n",
      "304/304 [==============================] - 0s 1ms/step - loss: 0.3359 - accuracy: 0.8549\n",
      "Epoch 55/150\n",
      "304/304 [==============================] - 0s 1ms/step - loss: 0.3345 - accuracy: 0.8534\n",
      "Epoch 56/150\n",
      "304/304 [==============================] - 0s 1ms/step - loss: 0.3330 - accuracy: 0.8567\n",
      "Epoch 57/150\n",
      "304/304 [==============================] - 0s 1ms/step - loss: 0.3298 - accuracy: 0.8576\n",
      "Epoch 58/150\n",
      "304/304 [==============================] - 0s 1ms/step - loss: 0.3300 - accuracy: 0.8550\n",
      "Epoch 59/150\n",
      "304/304 [==============================] - 0s 1ms/step - loss: 0.3356 - accuracy: 0.8524\n",
      "Epoch 60/150\n",
      "304/304 [==============================] - 0s 1ms/step - loss: 0.3291 - accuracy: 0.8546\n",
      "Epoch 61/150\n",
      "304/304 [==============================] - 0s 1ms/step - loss: 0.3312 - accuracy: 0.8540\n",
      "Epoch 62/150\n",
      "304/304 [==============================] - 0s 1ms/step - loss: 0.3291 - accuracy: 0.8580\n",
      "Epoch 63/150\n",
      "304/304 [==============================] - 0s 1ms/step - loss: 0.3242 - accuracy: 0.8588\n",
      "Epoch 64/150\n",
      "304/304 [==============================] - 0s 1ms/step - loss: 0.3276 - accuracy: 0.8533\n",
      "Epoch 65/150\n",
      "304/304 [==============================] - 0s 1ms/step - loss: 0.3313 - accuracy: 0.8539\n",
      "Epoch 66/150\n",
      "304/304 [==============================] - 0s 1ms/step - loss: 0.3310 - accuracy: 0.8542\n",
      "Epoch 67/150\n",
      "304/304 [==============================] - 0s 1ms/step - loss: 0.3255 - accuracy: 0.8573\n",
      "Epoch 68/150\n",
      "304/304 [==============================] - 0s 1ms/step - loss: 0.3246 - accuracy: 0.8584\n",
      "Epoch 69/150\n",
      "304/304 [==============================] - 0s 1ms/step - loss: 0.3245 - accuracy: 0.8598\n",
      "Epoch 70/150\n",
      "304/304 [==============================] - 0s 1ms/step - loss: 0.3247 - accuracy: 0.8569\n",
      "Epoch 71/150\n",
      "304/304 [==============================] - 0s 1ms/step - loss: 0.3219 - accuracy: 0.8596\n",
      "Epoch 72/150\n",
      "304/304 [==============================] - 0s 1ms/step - loss: 0.3271 - accuracy: 0.8558\n",
      "Epoch 73/150\n",
      "304/304 [==============================] - 0s 1ms/step - loss: 0.3232 - accuracy: 0.8575\n",
      "Epoch 74/150\n",
      "304/304 [==============================] - 0s 1ms/step - loss: 0.3253 - accuracy: 0.8582\n",
      "Epoch 75/150\n",
      "304/304 [==============================] - 0s 1ms/step - loss: 0.3210 - accuracy: 0.8605\n",
      "Epoch 76/150\n",
      "304/304 [==============================] - 0s 1ms/step - loss: 0.3220 - accuracy: 0.8555\n",
      "Epoch 77/150\n",
      "304/304 [==============================] - 0s 1ms/step - loss: 0.3205 - accuracy: 0.8603\n",
      "Epoch 78/150\n",
      "304/304 [==============================] - 0s 1ms/step - loss: 0.3248 - accuracy: 0.8577\n",
      "Epoch 79/150\n",
      "304/304 [==============================] - 0s 1ms/step - loss: 0.3196 - accuracy: 0.8594\n",
      "Epoch 80/150\n",
      "304/304 [==============================] - 0s 1ms/step - loss: 0.3203 - accuracy: 0.8608\n",
      "Epoch 81/150\n",
      "304/304 [==============================] - 0s 1ms/step - loss: 0.3210 - accuracy: 0.8591\n",
      "Epoch 82/150\n",
      "304/304 [==============================] - 0s 1ms/step - loss: 0.3209 - accuracy: 0.8619\n",
      "Epoch 83/150\n",
      "304/304 [==============================] - 0s 1ms/step - loss: 0.3195 - accuracy: 0.8609\n",
      "Epoch 84/150\n",
      "304/304 [==============================] - 0s 1ms/step - loss: 0.3138 - accuracy: 0.8618\n",
      "Epoch 85/150\n",
      "304/304 [==============================] - 0s 1ms/step - loss: 0.3132 - accuracy: 0.8652\n",
      "Epoch 86/150\n",
      "304/304 [==============================] - 0s 1ms/step - loss: 0.3109 - accuracy: 0.8659\n",
      "Epoch 87/150\n",
      "304/304 [==============================] - 0s 1ms/step - loss: 0.3165 - accuracy: 0.8607\n",
      "Epoch 88/150\n",
      "304/304 [==============================] - 0s 1ms/step - loss: 0.3187 - accuracy: 0.8598\n",
      "Epoch 89/150\n",
      "304/304 [==============================] - 0s 1ms/step - loss: 0.3177 - accuracy: 0.8603\n",
      "Epoch 90/150\n",
      "304/304 [==============================] - 0s 1ms/step - loss: 0.3124 - accuracy: 0.8635\n",
      "Epoch 91/150\n",
      "304/304 [==============================] - 0s 1ms/step - loss: 0.3189 - accuracy: 0.8609\n",
      "Epoch 92/150\n",
      "304/304 [==============================] - 0s 1ms/step - loss: 0.3167 - accuracy: 0.8608\n",
      "Epoch 93/150\n",
      "304/304 [==============================] - 0s 1ms/step - loss: 0.3113 - accuracy: 0.8637\n",
      "Epoch 94/150\n",
      "304/304 [==============================] - 0s 1ms/step - loss: 0.3129 - accuracy: 0.8632\n",
      "Epoch 95/150\n",
      "304/304 [==============================] - 0s 1ms/step - loss: 0.3131 - accuracy: 0.8642\n",
      "Epoch 96/150\n",
      "304/304 [==============================] - 0s 1ms/step - loss: 0.3115 - accuracy: 0.8660\n",
      "Epoch 97/150\n",
      "304/304 [==============================] - 0s 1ms/step - loss: 0.3122 - accuracy: 0.8648\n",
      "Epoch 98/150\n",
      "304/304 [==============================] - 0s 1ms/step - loss: 0.3130 - accuracy: 0.8645\n",
      "Epoch 99/150\n",
      "304/304 [==============================] - 0s 1ms/step - loss: 0.3155 - accuracy: 0.8636\n",
      "Epoch 100/150\n",
      "304/304 [==============================] - 0s 1ms/step - loss: 0.3142 - accuracy: 0.8655\n",
      "Epoch 101/150\n",
      "304/304 [==============================] - 0s 1ms/step - loss: 0.3121 - accuracy: 0.8671\n",
      "Epoch 102/150\n",
      "304/304 [==============================] - 0s 1ms/step - loss: 0.3103 - accuracy: 0.8629\n",
      "Epoch 103/150\n",
      "304/304 [==============================] - 0s 1ms/step - loss: 0.3095 - accuracy: 0.8698\n",
      "Epoch 104/150\n",
      "304/304 [==============================] - 0s 1ms/step - loss: 0.3039 - accuracy: 0.8684\n",
      "Epoch 105/150\n",
      "304/304 [==============================] - 0s 1ms/step - loss: 0.3057 - accuracy: 0.8716\n",
      "Epoch 106/150\n",
      "304/304 [==============================] - 0s 1ms/step - loss: 0.3068 - accuracy: 0.8692\n",
      "Epoch 107/150\n",
      "304/304 [==============================] - 0s 1ms/step - loss: 0.3053 - accuracy: 0.8696\n",
      "Epoch 108/150\n",
      "304/304 [==============================] - 0s 1ms/step - loss: 0.3072 - accuracy: 0.8703\n",
      "Epoch 109/150\n",
      "304/304 [==============================] - 0s 1ms/step - loss: 0.3080 - accuracy: 0.8709\n",
      "Epoch 110/150\n",
      "304/304 [==============================] - 0s 1ms/step - loss: 0.3050 - accuracy: 0.8707\n",
      "Epoch 111/150\n",
      "304/304 [==============================] - 0s 1ms/step - loss: 0.3077 - accuracy: 0.8676\n",
      "Epoch 112/150\n",
      "304/304 [==============================] - 0s 1ms/step - loss: 0.3070 - accuracy: 0.8733\n",
      "Epoch 113/150\n",
      "304/304 [==============================] - 0s 1ms/step - loss: 0.3061 - accuracy: 0.8714\n",
      "Epoch 114/150\n",
      "304/304 [==============================] - 0s 1ms/step - loss: 0.3068 - accuracy: 0.8713\n",
      "Epoch 115/150\n",
      "304/304 [==============================] - 0s 1ms/step - loss: 0.3000 - accuracy: 0.8727\n",
      "Epoch 116/150\n",
      "304/304 [==============================] - 0s 1ms/step - loss: 0.3073 - accuracy: 0.8685\n",
      "Epoch 117/150\n",
      "304/304 [==============================] - 0s 1ms/step - loss: 0.3089 - accuracy: 0.8676\n",
      "Epoch 118/150\n",
      "304/304 [==============================] - 0s 1ms/step - loss: 0.3063 - accuracy: 0.8707\n",
      "Epoch 119/150\n",
      "304/304 [==============================] - 0s 1ms/step - loss: 0.3025 - accuracy: 0.8720\n",
      "Epoch 120/150\n",
      "304/304 [==============================] - 0s 1ms/step - loss: 0.3061 - accuracy: 0.8711\n",
      "Epoch 121/150\n",
      "304/304 [==============================] - 0s 1ms/step - loss: 0.3063 - accuracy: 0.8743\n",
      "Epoch 122/150\n",
      "304/304 [==============================] - 0s 1ms/step - loss: 0.3045 - accuracy: 0.8711\n",
      "Epoch 123/150\n",
      "304/304 [==============================] - 0s 1ms/step - loss: 0.3042 - accuracy: 0.8735\n",
      "Epoch 124/150\n",
      "304/304 [==============================] - 0s 2ms/step - loss: 0.3060 - accuracy: 0.8713\n",
      "Epoch 125/150\n",
      "304/304 [==============================] - 0s 1ms/step - loss: 0.3027 - accuracy: 0.8713\n",
      "Epoch 126/150\n",
      "304/304 [==============================] - 1s 2ms/step - loss: 0.3026 - accuracy: 0.8735\n",
      "Epoch 127/150\n",
      "304/304 [==============================] - 1s 3ms/step - loss: 0.3027 - accuracy: 0.8724\n",
      "Epoch 128/150\n",
      "304/304 [==============================] - 1s 2ms/step - loss: 0.2968 - accuracy: 0.8748\n",
      "Epoch 129/150\n",
      "304/304 [==============================] - 0s 2ms/step - loss: 0.3003 - accuracy: 0.8752\n",
      "Epoch 130/150\n",
      "304/304 [==============================] - 1s 2ms/step - loss: 0.2970 - accuracy: 0.8752\n",
      "Epoch 131/150\n",
      "304/304 [==============================] - 0s 2ms/step - loss: 0.3011 - accuracy: 0.8741\n",
      "Epoch 132/150\n",
      "304/304 [==============================] - 0s 1ms/step - loss: 0.3028 - accuracy: 0.8744\n",
      "Epoch 133/150\n",
      "304/304 [==============================] - 1s 2ms/step - loss: 0.2960 - accuracy: 0.8757\n",
      "Epoch 134/150\n",
      "304/304 [==============================] - 1s 2ms/step - loss: 0.2995 - accuracy: 0.8753\n",
      "Epoch 135/150\n",
      "304/304 [==============================] - 1s 2ms/step - loss: 0.2941 - accuracy: 0.8758\n",
      "Epoch 136/150\n",
      "304/304 [==============================] - 1s 2ms/step - loss: 0.3023 - accuracy: 0.8726\n",
      "Epoch 137/150\n",
      "304/304 [==============================] - 0s 1ms/step - loss: 0.3036 - accuracy: 0.8703\n",
      "Epoch 138/150\n",
      "304/304 [==============================] - 0s 1ms/step - loss: 0.2974 - accuracy: 0.8767\n",
      "Epoch 139/150\n",
      "304/304 [==============================] - 1s 2ms/step - loss: 0.2995 - accuracy: 0.8756\n",
      "Epoch 140/150\n",
      "304/304 [==============================] - 1s 2ms/step - loss: 0.2998 - accuracy: 0.8755\n",
      "Epoch 141/150\n",
      "304/304 [==============================] - 1s 2ms/step - loss: 0.2964 - accuracy: 0.8753\n",
      "Epoch 142/150\n",
      "304/304 [==============================] - 1s 2ms/step - loss: 0.2932 - accuracy: 0.8797\n",
      "Epoch 143/150\n",
      "304/304 [==============================] - 0s 2ms/step - loss: 0.3024 - accuracy: 0.8746\n",
      "Epoch 144/150\n",
      "304/304 [==============================] - 0s 2ms/step - loss: 0.2964 - accuracy: 0.8774\n",
      "Epoch 145/150\n",
      "304/304 [==============================] - 0s 2ms/step - loss: 0.2920 - accuracy: 0.8767\n",
      "Epoch 146/150\n",
      "304/304 [==============================] - 0s 1ms/step - loss: 0.2939 - accuracy: 0.8769\n",
      "Epoch 147/150\n",
      "304/304 [==============================] - 1s 2ms/step - loss: 0.2937 - accuracy: 0.8770\n",
      "Epoch 148/150\n",
      "304/304 [==============================] - 0s 1ms/step - loss: 0.2955 - accuracy: 0.8771\n",
      "Epoch 149/150\n",
      "304/304 [==============================] - 0s 2ms/step - loss: 0.2961 - accuracy: 0.8767\n",
      "Epoch 150/150\n",
      "304/304 [==============================] - 1s 2ms/step - loss: 0.2926 - accuracy: 0.8780\n"
     ]
    },
    {
     "data": {
      "text/plain": [
       "<keras.callbacks.History at 0x2b848f0e820>"
      ]
     },
     "execution_count": 82,
     "metadata": {},
     "output_type": "execute_result"
    }
   ],
   "source": [
    "model_2.fit(x= X_res, y= y_res, epochs=150)"
   ]
  },
  {
   "cell_type": "markdown",
   "id": "a32b0c9b",
   "metadata": {},
   "source": [
    "#### 3. Model with Adam Optimizer"
   ]
  },
  {
   "cell_type": "code",
   "execution_count": 83,
   "id": "6d028a94",
   "metadata": {},
   "outputs": [],
   "source": [
    "model_3 = tf.keras.models.Sequential()"
   ]
  },
  {
   "cell_type": "code",
   "execution_count": 84,
   "id": "c3c8a08c",
   "metadata": {},
   "outputs": [],
   "source": [
    "model_3.add(tf.keras.layers.Dense(units=128, activation='relu', input_shape=(8,)))"
   ]
  },
  {
   "cell_type": "code",
   "execution_count": 85,
   "id": "0575ba33",
   "metadata": {},
   "outputs": [],
   "source": [
    "model_3.add(tf.keras.layers.Dense(units=64, activation='relu'))"
   ]
  },
  {
   "cell_type": "code",
   "execution_count": 86,
   "id": "81aa5437",
   "metadata": {},
   "outputs": [],
   "source": [
    "model_3.add(tf.keras.layers.Dense(units=32, activation='relu'))"
   ]
  },
  {
   "cell_type": "code",
   "execution_count": 87,
   "id": "81bfb27f",
   "metadata": {},
   "outputs": [],
   "source": [
    "model_3.add(tf.keras.layers.Dense(units=1, activation = 'sigmoid'))"
   ]
  },
  {
   "cell_type": "code",
   "execution_count": 88,
   "id": "02b71e5c",
   "metadata": {},
   "outputs": [],
   "source": [
    "model_3.compile(optimizer = tf.keras.optimizers.Adam(learning_rate=0.1), \n",
    "                loss = 'binary_crossentropy', \n",
    "                metrics = ['accuracy'])"
   ]
  },
  {
   "cell_type": "code",
   "execution_count": 89,
   "id": "14151749",
   "metadata": {},
   "outputs": [
    {
     "name": "stdout",
     "output_type": "stream",
     "text": [
      "Model: \"sequential_2\"\n",
      "_________________________________________________________________\n",
      " Layer (type)                Output Shape              Param #   \n",
      "=================================================================\n",
      " dense_8 (Dense)             (None, 128)               1152      \n",
      "                                                                 \n",
      " dense_9 (Dense)             (None, 64)                8256      \n",
      "                                                                 \n",
      " dense_10 (Dense)            (None, 32)                2080      \n",
      "                                                                 \n",
      " dense_11 (Dense)            (None, 1)                 33        \n",
      "                                                                 \n",
      "=================================================================\n",
      "Total params: 11,521\n",
      "Trainable params: 11,521\n",
      "Non-trainable params: 0\n",
      "_________________________________________________________________\n"
     ]
    }
   ],
   "source": [
    "model_3.summary()"
   ]
  },
  {
   "cell_type": "code",
   "execution_count": 90,
   "id": "acbe622f",
   "metadata": {},
   "outputs": [
    {
     "name": "stdout",
     "output_type": "stream",
     "text": [
      "Epoch 1/150\n",
      "304/304 [==============================] - 1s 2ms/step - loss: 0.5015 - accuracy: 0.7676\n",
      "Epoch 2/150\n",
      "304/304 [==============================] - 1s 2ms/step - loss: 0.4572 - accuracy: 0.7908\n",
      "Epoch 3/150\n",
      "304/304 [==============================] - 1s 2ms/step - loss: 0.4324 - accuracy: 0.8039\n",
      "Epoch 4/150\n",
      "304/304 [==============================] - 1s 2ms/step - loss: 0.4477 - accuracy: 0.7954\n",
      "Epoch 5/150\n",
      "304/304 [==============================] - 1s 2ms/step - loss: 0.4348 - accuracy: 0.8035\n",
      "Epoch 6/150\n",
      "304/304 [==============================] - 1s 2ms/step - loss: 0.4297 - accuracy: 0.8026\n",
      "Epoch 7/150\n",
      "304/304 [==============================] - 0s 1ms/step - loss: 0.4319 - accuracy: 0.8038\n",
      "Epoch 8/150\n",
      "304/304 [==============================] - 0s 1ms/step - loss: 0.4295 - accuracy: 0.8033\n",
      "Epoch 9/150\n",
      "304/304 [==============================] - 0s 1ms/step - loss: 0.4405 - accuracy: 0.7992\n",
      "Epoch 10/150\n",
      "304/304 [==============================] - 0s 1ms/step - loss: 0.4266 - accuracy: 0.8081\n",
      "Epoch 11/150\n",
      "304/304 [==============================] - 0s 2ms/step - loss: 0.4311 - accuracy: 0.7979\n",
      "Epoch 12/150\n",
      "304/304 [==============================] - 0s 1ms/step - loss: 0.4311 - accuracy: 0.7980\n",
      "Epoch 13/150\n",
      "304/304 [==============================] - 0s 1ms/step - loss: 0.4283 - accuracy: 0.8038\n",
      "Epoch 14/150\n",
      "304/304 [==============================] - 0s 1ms/step - loss: 0.4371 - accuracy: 0.8001\n",
      "Epoch 15/150\n",
      "304/304 [==============================] - 0s 1ms/step - loss: 0.4244 - accuracy: 0.8079\n",
      "Epoch 16/150\n",
      "304/304 [==============================] - 0s 1ms/step - loss: 0.4294 - accuracy: 0.8047\n",
      "Epoch 17/150\n",
      "304/304 [==============================] - 0s 1ms/step - loss: 0.4359 - accuracy: 0.7965\n",
      "Epoch 18/150\n",
      "304/304 [==============================] - 0s 1ms/step - loss: 0.4366 - accuracy: 0.8015\n",
      "Epoch 19/150\n",
      "304/304 [==============================] - 0s 1ms/step - loss: 0.4314 - accuracy: 0.8020\n",
      "Epoch 20/150\n",
      "304/304 [==============================] - 0s 1ms/step - loss: 0.4263 - accuracy: 0.8097\n",
      "Epoch 21/150\n",
      "304/304 [==============================] - 0s 1ms/step - loss: 0.4315 - accuracy: 0.8024\n",
      "Epoch 22/150\n",
      "304/304 [==============================] - 0s 1ms/step - loss: 0.4378 - accuracy: 0.7958\n",
      "Epoch 23/150\n",
      "304/304 [==============================] - 1s 2ms/step - loss: 0.4339 - accuracy: 0.8050\n",
      "Epoch 24/150\n",
      "304/304 [==============================] - 0s 1ms/step - loss: 0.4297 - accuracy: 0.8033\n",
      "Epoch 25/150\n",
      "304/304 [==============================] - 1s 2ms/step - loss: 0.4271 - accuracy: 0.7997\n",
      "Epoch 26/150\n",
      "304/304 [==============================] - 0s 1ms/step - loss: 0.4336 - accuracy: 0.7990\n",
      "Epoch 27/150\n",
      "304/304 [==============================] - 0s 1ms/step - loss: 0.4306 - accuracy: 0.8052\n",
      "Epoch 28/150\n",
      "304/304 [==============================] - 0s 1ms/step - loss: 0.4260 - accuracy: 0.8047\n",
      "Epoch 29/150\n",
      "304/304 [==============================] - 0s 1ms/step - loss: 0.4428 - accuracy: 0.7984\n",
      "Epoch 30/150\n",
      "304/304 [==============================] - 0s 1ms/step - loss: 0.4254 - accuracy: 0.8038\n",
      "Epoch 31/150\n",
      "304/304 [==============================] - 0s 1ms/step - loss: 0.4393 - accuracy: 0.7982\n",
      "Epoch 32/150\n",
      "304/304 [==============================] - 0s 1ms/step - loss: 0.4285 - accuracy: 0.8092\n",
      "Epoch 33/150\n",
      "304/304 [==============================] - 0s 1ms/step - loss: 0.4356 - accuracy: 0.8014\n",
      "Epoch 34/150\n",
      "304/304 [==============================] - 0s 1ms/step - loss: 0.4379 - accuracy: 0.8048\n",
      "Epoch 35/150\n",
      "304/304 [==============================] - 0s 2ms/step - loss: 0.4348 - accuracy: 0.7995\n",
      "Epoch 36/150\n",
      "304/304 [==============================] - 1s 3ms/step - loss: 0.4278 - accuracy: 0.8024\n",
      "Epoch 37/150\n",
      "304/304 [==============================] - 1s 2ms/step - loss: 0.4311 - accuracy: 0.7975\n",
      "Epoch 38/150\n",
      "304/304 [==============================] - 1s 2ms/step - loss: 0.4248 - accuracy: 0.8048\n",
      "Epoch 39/150\n",
      "304/304 [==============================] - 1s 2ms/step - loss: 0.4325 - accuracy: 0.8048\n",
      "Epoch 40/150\n",
      "304/304 [==============================] - 1s 2ms/step - loss: 0.4282 - accuracy: 0.8056\n",
      "Epoch 41/150\n",
      "304/304 [==============================] - 0s 2ms/step - loss: 0.4350 - accuracy: 0.8033\n",
      "Epoch 42/150\n",
      "304/304 [==============================] - 0s 1ms/step - loss: 0.4346 - accuracy: 0.8057\n",
      "Epoch 43/150\n",
      "304/304 [==============================] - 0s 1ms/step - loss: 0.4254 - accuracy: 0.8048\n",
      "Epoch 44/150\n",
      "304/304 [==============================] - 1s 2ms/step - loss: 0.4321 - accuracy: 0.8010\n",
      "Epoch 45/150\n",
      "304/304 [==============================] - 1s 2ms/step - loss: 0.4281 - accuracy: 0.8033\n",
      "Epoch 46/150\n",
      "304/304 [==============================] - 1s 2ms/step - loss: 0.4291 - accuracy: 0.8035\n",
      "Epoch 47/150\n",
      "304/304 [==============================] - 1s 2ms/step - loss: 0.4306 - accuracy: 0.8090\n",
      "Epoch 48/150\n",
      "304/304 [==============================] - 0s 1ms/step - loss: 0.4291 - accuracy: 0.8066\n",
      "Epoch 49/150\n",
      "304/304 [==============================] - 0s 1ms/step - loss: 0.4290 - accuracy: 0.8010\n",
      "Epoch 50/150\n",
      "304/304 [==============================] - 0s 1ms/step - loss: 0.4311 - accuracy: 0.8013\n",
      "Epoch 51/150\n",
      "304/304 [==============================] - 0s 1ms/step - loss: 0.4286 - accuracy: 0.8099\n",
      "Epoch 52/150\n",
      "304/304 [==============================] - 0s 1ms/step - loss: 0.4254 - accuracy: 0.8060\n",
      "Epoch 53/150\n",
      "304/304 [==============================] - 1s 2ms/step - loss: 0.4345 - accuracy: 0.8014\n",
      "Epoch 54/150\n",
      "304/304 [==============================] - 1s 2ms/step - loss: 0.4392 - accuracy: 0.7959\n",
      "Epoch 55/150\n",
      "304/304 [==============================] - 0s 1ms/step - loss: 0.4407 - accuracy: 0.8025\n",
      "Epoch 56/150\n",
      "304/304 [==============================] - 0s 1ms/step - loss: 0.4410 - accuracy: 0.8023\n",
      "Epoch 57/150\n",
      "304/304 [==============================] - 0s 1ms/step - loss: 0.4324 - accuracy: 0.8051\n",
      "Epoch 58/150\n",
      "304/304 [==============================] - 0s 1ms/step - loss: 0.4293 - accuracy: 0.8055\n",
      "Epoch 59/150\n",
      "304/304 [==============================] - 0s 2ms/step - loss: 0.4351 - accuracy: 0.8032\n",
      "Epoch 60/150\n",
      "304/304 [==============================] - 0s 1ms/step - loss: 0.4296 - accuracy: 0.8085\n",
      "Epoch 61/150\n",
      "304/304 [==============================] - 0s 1ms/step - loss: 0.4397 - accuracy: 0.8066\n",
      "Epoch 62/150\n",
      "304/304 [==============================] - 0s 2ms/step - loss: 0.4404 - accuracy: 0.8044\n",
      "Epoch 63/150\n",
      "304/304 [==============================] - 0s 1ms/step - loss: 0.4253 - accuracy: 0.7994\n",
      "Epoch 64/150\n",
      "304/304 [==============================] - 0s 1ms/step - loss: 0.4256 - accuracy: 0.8014\n",
      "Epoch 65/150\n",
      "304/304 [==============================] - 0s 2ms/step - loss: 0.4338 - accuracy: 0.8009\n",
      "Epoch 66/150\n",
      "304/304 [==============================] - 0s 1ms/step - loss: 0.4306 - accuracy: 0.8032\n",
      "Epoch 67/150\n",
      "304/304 [==============================] - 0s 1ms/step - loss: 0.4310 - accuracy: 0.8014\n",
      "Epoch 68/150\n",
      "304/304 [==============================] - 0s 1ms/step - loss: 0.4344 - accuracy: 0.8034\n",
      "Epoch 69/150\n",
      "304/304 [==============================] - 0s 1ms/step - loss: 0.4302 - accuracy: 0.8071\n",
      "Epoch 70/150\n",
      "304/304 [==============================] - 0s 1ms/step - loss: 0.4379 - accuracy: 0.8046\n",
      "Epoch 71/150\n",
      "304/304 [==============================] - 0s 1ms/step - loss: 0.4282 - accuracy: 0.8068\n",
      "Epoch 72/150\n",
      "304/304 [==============================] - 0s 1ms/step - loss: 0.4264 - accuracy: 0.8035\n",
      "Epoch 73/150\n",
      "304/304 [==============================] - 0s 1ms/step - loss: 0.4269 - accuracy: 0.8074\n",
      "Epoch 74/150\n",
      "304/304 [==============================] - 0s 1ms/step - loss: 0.4234 - accuracy: 0.8087\n",
      "Epoch 75/150\n",
      "304/304 [==============================] - 0s 1ms/step - loss: 0.4275 - accuracy: 0.8054\n",
      "Epoch 76/150\n",
      "304/304 [==============================] - 0s 1ms/step - loss: 0.4303 - accuracy: 0.8062\n",
      "Epoch 77/150\n",
      "304/304 [==============================] - 0s 1ms/step - loss: 0.4298 - accuracy: 0.8060\n",
      "Epoch 78/150\n",
      "304/304 [==============================] - 1s 2ms/step - loss: 0.4285 - accuracy: 0.8048\n",
      "Epoch 79/150\n",
      "304/304 [==============================] - 1s 5ms/step - loss: 0.4314 - accuracy: 0.8097\n",
      "Epoch 80/150\n",
      "304/304 [==============================] - 0s 2ms/step - loss: 0.4375 - accuracy: 0.8035\n",
      "Epoch 81/150\n",
      "304/304 [==============================] - 0s 1ms/step - loss: 0.4263 - accuracy: 0.8064\n",
      "Epoch 82/150\n",
      "304/304 [==============================] - 1s 2ms/step - loss: 0.4344 - accuracy: 0.8048\n",
      "Epoch 83/150\n",
      "304/304 [==============================] - 0s 1ms/step - loss: 0.4366 - accuracy: 0.8059\n",
      "Epoch 84/150\n",
      "304/304 [==============================] - 0s 1ms/step - loss: 0.4236 - accuracy: 0.8063\n",
      "Epoch 85/150\n",
      "304/304 [==============================] - 1s 2ms/step - loss: 0.4322 - accuracy: 0.8045\n",
      "Epoch 86/150\n",
      "304/304 [==============================] - 0s 1ms/step - loss: 0.4319 - accuracy: 0.8074\n",
      "Epoch 87/150\n",
      "304/304 [==============================] - 0s 1ms/step - loss: 0.4350 - accuracy: 0.8049\n",
      "Epoch 88/150\n",
      "304/304 [==============================] - 0s 2ms/step - loss: 0.4362 - accuracy: 0.8090\n",
      "Epoch 89/150\n",
      "304/304 [==============================] - 1s 3ms/step - loss: 0.4319 - accuracy: 0.8049\n",
      "Epoch 90/150\n",
      "304/304 [==============================] - 0s 1ms/step - loss: 0.4353 - accuracy: 0.8042\n",
      "Epoch 91/150\n",
      "304/304 [==============================] - 0s 1ms/step - loss: 0.4308 - accuracy: 0.8049\n",
      "Epoch 92/150\n",
      "304/304 [==============================] - 0s 1ms/step - loss: 0.4363 - accuracy: 0.8047\n",
      "Epoch 93/150\n",
      "304/304 [==============================] - 0s 1ms/step - loss: 0.4348 - accuracy: 0.8044\n",
      "Epoch 94/150\n",
      "304/304 [==============================] - 0s 1ms/step - loss: 0.4397 - accuracy: 0.7990\n",
      "Epoch 95/150\n",
      "304/304 [==============================] - 1s 2ms/step - loss: 0.4314 - accuracy: 0.8023\n",
      "Epoch 96/150\n",
      "304/304 [==============================] - 1s 2ms/step - loss: 0.4275 - accuracy: 0.8049\n",
      "Epoch 97/150\n",
      "304/304 [==============================] - 1s 2ms/step - loss: 0.4299 - accuracy: 0.8021\n",
      "Epoch 98/150\n",
      "304/304 [==============================] - 1s 2ms/step - loss: 0.4332 - accuracy: 0.8012\n",
      "Epoch 99/150\n",
      "304/304 [==============================] - 1s 2ms/step - loss: 0.4278 - accuracy: 0.8055\n",
      "Epoch 100/150\n",
      "304/304 [==============================] - 0s 1ms/step - loss: 0.4332 - accuracy: 0.8065\n",
      "Epoch 101/150\n",
      "304/304 [==============================] - 0s 1ms/step - loss: 0.4299 - accuracy: 0.8044\n",
      "Epoch 102/150\n",
      "304/304 [==============================] - 0s 1ms/step - loss: 0.4300 - accuracy: 0.7994\n",
      "Epoch 103/150\n",
      "304/304 [==============================] - 0s 2ms/step - loss: 0.4293 - accuracy: 0.8016\n",
      "Epoch 104/150\n",
      "304/304 [==============================] - 0s 1ms/step - loss: 0.4431 - accuracy: 0.7981\n",
      "Epoch 105/150\n",
      "304/304 [==============================] - 0s 1ms/step - loss: 0.4376 - accuracy: 0.8021\n",
      "Epoch 106/150\n",
      "304/304 [==============================] - 0s 1ms/step - loss: 0.4372 - accuracy: 0.7957\n",
      "Epoch 107/150\n",
      "304/304 [==============================] - 0s 1ms/step - loss: 0.4287 - accuracy: 0.8090\n",
      "Epoch 108/150\n",
      "304/304 [==============================] - 0s 1ms/step - loss: 0.4316 - accuracy: 0.8060\n",
      "Epoch 109/150\n",
      "304/304 [==============================] - 0s 1ms/step - loss: 0.4249 - accuracy: 0.8091\n",
      "Epoch 110/150\n",
      "304/304 [==============================] - 1s 2ms/step - loss: 0.4348 - accuracy: 0.8081\n",
      "Epoch 111/150\n",
      "304/304 [==============================] - 1s 2ms/step - loss: 0.4339 - accuracy: 0.7995\n",
      "Epoch 112/150\n",
      "304/304 [==============================] - 1s 2ms/step - loss: 0.4318 - accuracy: 0.8052\n",
      "Epoch 113/150\n",
      "304/304 [==============================] - 1s 2ms/step - loss: 0.4388 - accuracy: 0.7990\n",
      "Epoch 114/150\n",
      "304/304 [==============================] - 0s 1ms/step - loss: 0.4283 - accuracy: 0.8019\n",
      "Epoch 115/150\n",
      "304/304 [==============================] - 0s 1ms/step - loss: 0.4327 - accuracy: 0.8022\n",
      "Epoch 116/150\n",
      "304/304 [==============================] - 0s 1ms/step - loss: 0.4407 - accuracy: 0.8034\n",
      "Epoch 117/150\n",
      "304/304 [==============================] - 0s 1ms/step - loss: 0.4263 - accuracy: 0.8072\n",
      "Epoch 118/150\n",
      "304/304 [==============================] - 0s 1ms/step - loss: 0.4304 - accuracy: 0.8036\n",
      "Epoch 119/150\n",
      "304/304 [==============================] - 0s 1ms/step - loss: 0.4393 - accuracy: 0.7923\n",
      "Epoch 120/150\n",
      "304/304 [==============================] - 0s 1ms/step - loss: 0.4337 - accuracy: 0.8032\n",
      "Epoch 121/150\n",
      "304/304 [==============================] - 1s 2ms/step - loss: 0.4322 - accuracy: 0.8043\n",
      "Epoch 122/150\n",
      "304/304 [==============================] - 1s 2ms/step - loss: 0.4232 - accuracy: 0.8082\n",
      "Epoch 123/150\n",
      "304/304 [==============================] - 0s 2ms/step - loss: 0.4304 - accuracy: 0.8071\n",
      "Epoch 124/150\n",
      "304/304 [==============================] - 0s 1ms/step - loss: 0.4313 - accuracy: 0.8073\n",
      "Epoch 125/150\n",
      "304/304 [==============================] - 0s 1ms/step - loss: 0.4335 - accuracy: 0.8031\n",
      "Epoch 126/150\n",
      "304/304 [==============================] - 0s 2ms/step - loss: 0.4338 - accuracy: 0.8074\n",
      "Epoch 127/150\n",
      "304/304 [==============================] - 0s 1ms/step - loss: 0.4318 - accuracy: 0.8072\n",
      "Epoch 128/150\n",
      "304/304 [==============================] - 0s 2ms/step - loss: 0.4326 - accuracy: 0.8057\n",
      "Epoch 129/150\n",
      "304/304 [==============================] - 0s 1ms/step - loss: 0.4355 - accuracy: 0.8036\n",
      "Epoch 130/150\n",
      "304/304 [==============================] - 0s 1ms/step - loss: 0.4398 - accuracy: 0.8013\n",
      "Epoch 131/150\n",
      "304/304 [==============================] - 0s 1ms/step - loss: 0.4420 - accuracy: 0.7989\n",
      "Epoch 132/150\n",
      "304/304 [==============================] - 0s 1ms/step - loss: 0.4332 - accuracy: 0.8078\n",
      "Epoch 133/150\n",
      "304/304 [==============================] - 0s 1ms/step - loss: 0.4619 - accuracy: 0.7886\n",
      "Epoch 134/150\n",
      "304/304 [==============================] - 0s 1ms/step - loss: 0.4571 - accuracy: 0.8014\n",
      "Epoch 135/150\n",
      "304/304 [==============================] - 0s 1ms/step - loss: 0.4493 - accuracy: 0.8063\n",
      "Epoch 136/150\n",
      "304/304 [==============================] - 0s 1ms/step - loss: 0.4434 - accuracy: 0.7962\n",
      "Epoch 137/150\n",
      "304/304 [==============================] - 0s 1ms/step - loss: 0.4549 - accuracy: 0.8033\n",
      "Epoch 138/150\n",
      "304/304 [==============================] - 0s 1ms/step - loss: 0.4440 - accuracy: 0.7959\n",
      "Epoch 139/150\n",
      "304/304 [==============================] - 1s 2ms/step - loss: 0.4378 - accuracy: 0.8007\n",
      "Epoch 140/150\n",
      "304/304 [==============================] - 0s 2ms/step - loss: 0.4370 - accuracy: 0.8011\n",
      "Epoch 141/150\n",
      "304/304 [==============================] - 0s 1ms/step - loss: 0.4380 - accuracy: 0.8023\n",
      "Epoch 142/150\n",
      "304/304 [==============================] - 0s 1ms/step - loss: 0.4389 - accuracy: 0.7998\n",
      "Epoch 143/150\n",
      "304/304 [==============================] - 0s 1ms/step - loss: 0.4357 - accuracy: 0.8031\n",
      "Epoch 144/150\n",
      "304/304 [==============================] - 0s 1ms/step - loss: 0.4405 - accuracy: 0.7976\n",
      "Epoch 145/150\n",
      "304/304 [==============================] - 0s 2ms/step - loss: 0.4357 - accuracy: 0.8037\n",
      "Epoch 146/150\n",
      "304/304 [==============================] - 0s 1ms/step - loss: 0.4295 - accuracy: 0.8035\n",
      "Epoch 147/150\n",
      "304/304 [==============================] - 0s 1ms/step - loss: 0.4378 - accuracy: 0.8014\n",
      "Epoch 148/150\n",
      "304/304 [==============================] - 0s 1ms/step - loss: 0.4400 - accuracy: 0.8027\n",
      "Epoch 149/150\n",
      "304/304 [==============================] - 0s 1ms/step - loss: 0.4370 - accuracy: 0.8049\n",
      "Epoch 150/150\n",
      "304/304 [==============================] - 0s 1ms/step - loss: 0.4290 - accuracy: 0.8070\n"
     ]
    },
    {
     "data": {
      "text/plain": [
       "<keras.callbacks.History at 0x2b84ebffbb0>"
      ]
     },
     "execution_count": 90,
     "metadata": {},
     "output_type": "execute_result"
    }
   ],
   "source": [
    "model_3.fit(x= X_res, y= y_res, epochs=150)"
   ]
  },
  {
   "cell_type": "markdown",
   "id": "1dbef24e",
   "metadata": {},
   "source": [
    "#### 4. Model with SGD Optimizer"
   ]
  },
  {
   "cell_type": "code",
   "execution_count": 91,
   "id": "0c855157",
   "metadata": {},
   "outputs": [],
   "source": [
    "model_4 = tf.keras.models.Sequential()"
   ]
  },
  {
   "cell_type": "code",
   "execution_count": 92,
   "id": "c835595f",
   "metadata": {},
   "outputs": [],
   "source": [
    "model_4.add(tf.keras.layers.Dense(units=128, activation='relu', input_shape=(8,)))"
   ]
  },
  {
   "cell_type": "code",
   "execution_count": 93,
   "id": "27c26685",
   "metadata": {},
   "outputs": [],
   "source": [
    "model_4.add(tf.keras.layers.Dense(units=64, activation='relu'))"
   ]
  },
  {
   "cell_type": "code",
   "execution_count": 94,
   "id": "8ae50438",
   "metadata": {},
   "outputs": [],
   "source": [
    "model_4.add(tf.keras.layers.Dense(units=32, activation='relu'))"
   ]
  },
  {
   "cell_type": "code",
   "execution_count": 95,
   "id": "38b1b112",
   "metadata": {},
   "outputs": [],
   "source": [
    "model_4.add(tf.keras.layers.Dense(units=1, activation = 'sigmoid'))"
   ]
  },
  {
   "cell_type": "code",
   "execution_count": 96,
   "id": "a33c8356",
   "metadata": {},
   "outputs": [],
   "source": [
    "model_4.compile(optimizer = tf.keras.optimizers.SGD(learning_rate=0.1), \n",
    "                loss = 'binary_crossentropy', \n",
    "                metrics = ['accuracy'])"
   ]
  },
  {
   "cell_type": "code",
   "execution_count": 97,
   "id": "f6b3759b",
   "metadata": {},
   "outputs": [
    {
     "name": "stdout",
     "output_type": "stream",
     "text": [
      "Model: \"sequential_3\"\n",
      "_________________________________________________________________\n",
      " Layer (type)                Output Shape              Param #   \n",
      "=================================================================\n",
      " dense_12 (Dense)            (None, 128)               1152      \n",
      "                                                                 \n",
      " dense_13 (Dense)            (None, 64)                8256      \n",
      "                                                                 \n",
      " dense_14 (Dense)            (None, 32)                2080      \n",
      "                                                                 \n",
      " dense_15 (Dense)            (None, 1)                 33        \n",
      "                                                                 \n",
      "=================================================================\n",
      "Total params: 11,521\n",
      "Trainable params: 11,521\n",
      "Non-trainable params: 0\n",
      "_________________________________________________________________\n"
     ]
    }
   ],
   "source": [
    "model_4.summary()"
   ]
  },
  {
   "cell_type": "code",
   "execution_count": 98,
   "id": "4c438f66",
   "metadata": {},
   "outputs": [
    {
     "name": "stdout",
     "output_type": "stream",
     "text": [
      "Epoch 1/150\n",
      "304/304 [==============================] - 1s 1ms/step - loss: 0.4716 - accuracy: 0.7717\n",
      "Epoch 2/150\n",
      "304/304 [==============================] - 0s 1ms/step - loss: 0.4154 - accuracy: 0.8098\n",
      "Epoch 3/150\n",
      "304/304 [==============================] - 0s 1ms/step - loss: 0.4104 - accuracy: 0.8105\n",
      "Epoch 4/150\n",
      "304/304 [==============================] - 0s 1ms/step - loss: 0.4058 - accuracy: 0.8121\n",
      "Epoch 5/150\n",
      "304/304 [==============================] - 0s 1ms/step - loss: 0.4055 - accuracy: 0.8185\n",
      "Epoch 6/150\n",
      "304/304 [==============================] - 0s 997us/step - loss: 0.4059 - accuracy: 0.8175\n",
      "Epoch 7/150\n",
      "304/304 [==============================] - 0s 1ms/step - loss: 0.4039 - accuracy: 0.8138\n",
      "Epoch 8/150\n",
      "304/304 [==============================] - 0s 1ms/step - loss: 0.4017 - accuracy: 0.8154\n",
      "Epoch 9/150\n",
      "304/304 [==============================] - 0s 1ms/step - loss: 0.4018 - accuracy: 0.8199\n",
      "Epoch 10/150\n",
      "304/304 [==============================] - 0s 994us/step - loss: 0.4001 - accuracy: 0.8189\n",
      "Epoch 11/150\n",
      "304/304 [==============================] - 0s 1ms/step - loss: 0.3990 - accuracy: 0.8204\n",
      "Epoch 12/150\n",
      "304/304 [==============================] - 0s 1ms/step - loss: 0.3965 - accuracy: 0.8196\n",
      "Epoch 13/150\n",
      "304/304 [==============================] - 0s 1ms/step - loss: 0.3971 - accuracy: 0.8203\n",
      "Epoch 14/150\n",
      "304/304 [==============================] - 0s 1ms/step - loss: 0.3974 - accuracy: 0.8234\n",
      "Epoch 15/150\n",
      "304/304 [==============================] - 0s 1ms/step - loss: 0.3941 - accuracy: 0.8225\n",
      "Epoch 16/150\n",
      "304/304 [==============================] - 0s 1ms/step - loss: 0.3962 - accuracy: 0.8224\n",
      "Epoch 17/150\n",
      "304/304 [==============================] - 0s 1ms/step - loss: 0.3934 - accuracy: 0.8252\n",
      "Epoch 18/150\n",
      "304/304 [==============================] - 0s 1ms/step - loss: 0.3933 - accuracy: 0.8221\n",
      "Epoch 19/150\n",
      "304/304 [==============================] - 0s 1ms/step - loss: 0.3924 - accuracy: 0.8263\n",
      "Epoch 20/150\n",
      "304/304 [==============================] - 0s 1ms/step - loss: 0.3921 - accuracy: 0.8262\n",
      "Epoch 21/150\n",
      "304/304 [==============================] - 0s 1ms/step - loss: 0.3904 - accuracy: 0.8259\n",
      "Epoch 22/150\n",
      "304/304 [==============================] - 0s 1ms/step - loss: 0.3902 - accuracy: 0.8253\n",
      "Epoch 23/150\n",
      "304/304 [==============================] - 0s 1ms/step - loss: 0.3896 - accuracy: 0.8258\n",
      "Epoch 24/150\n",
      "304/304 [==============================] - 0s 1ms/step - loss: 0.3891 - accuracy: 0.8262\n",
      "Epoch 25/150\n",
      "304/304 [==============================] - 0s 1ms/step - loss: 0.3869 - accuracy: 0.8271\n",
      "Epoch 26/150\n",
      "304/304 [==============================] - 0s 1ms/step - loss: 0.3877 - accuracy: 0.8265\n",
      "Epoch 27/150\n",
      "304/304 [==============================] - 0s 1ms/step - loss: 0.3868 - accuracy: 0.8275\n",
      "Epoch 28/150\n",
      "304/304 [==============================] - 0s 974us/step - loss: 0.3863 - accuracy: 0.8292\n",
      "Epoch 29/150\n",
      "304/304 [==============================] - 0s 1ms/step - loss: 0.3850 - accuracy: 0.8309\n",
      "Epoch 30/150\n",
      "304/304 [==============================] - 0s 1ms/step - loss: 0.3834 - accuracy: 0.8304\n",
      "Epoch 31/150\n",
      "304/304 [==============================] - 0s 1ms/step - loss: 0.3822 - accuracy: 0.8295\n",
      "Epoch 32/150\n",
      "304/304 [==============================] - 0s 1ms/step - loss: 0.3842 - accuracy: 0.8284\n",
      "Epoch 33/150\n",
      "304/304 [==============================] - 0s 1ms/step - loss: 0.3815 - accuracy: 0.8295\n",
      "Epoch 34/150\n",
      "304/304 [==============================] - 0s 1ms/step - loss: 0.3806 - accuracy: 0.8298\n",
      "Epoch 35/150\n",
      "304/304 [==============================] - 0s 1ms/step - loss: 0.3791 - accuracy: 0.8315\n",
      "Epoch 36/150\n",
      "304/304 [==============================] - 0s 1ms/step - loss: 0.3783 - accuracy: 0.8328\n",
      "Epoch 37/150\n",
      "304/304 [==============================] - 0s 994us/step - loss: 0.3762 - accuracy: 0.8345\n",
      "Epoch 38/150\n",
      "304/304 [==============================] - 0s 1ms/step - loss: 0.3756 - accuracy: 0.8335\n",
      "Epoch 39/150\n",
      "304/304 [==============================] - 0s 1ms/step - loss: 0.3725 - accuracy: 0.8356\n",
      "Epoch 40/150\n",
      "304/304 [==============================] - 0s 1ms/step - loss: 0.3719 - accuracy: 0.8335\n",
      "Epoch 41/150\n",
      "304/304 [==============================] - 0s 1ms/step - loss: 0.3721 - accuracy: 0.8348\n",
      "Epoch 42/150\n",
      "304/304 [==============================] - 0s 1ms/step - loss: 0.3688 - accuracy: 0.8348\n",
      "Epoch 43/150\n",
      "304/304 [==============================] - 0s 1ms/step - loss: 0.3729 - accuracy: 0.8345\n",
      "Epoch 44/150\n",
      "304/304 [==============================] - 0s 1ms/step - loss: 0.3701 - accuracy: 0.8352\n",
      "Epoch 45/150\n",
      "304/304 [==============================] - 0s 1ms/step - loss: 0.3684 - accuracy: 0.8381\n",
      "Epoch 46/150\n",
      "304/304 [==============================] - 1s 2ms/step - loss: 0.3675 - accuracy: 0.8374\n",
      "Epoch 47/150\n",
      "304/304 [==============================] - 0s 1ms/step - loss: 0.3690 - accuracy: 0.8345\n",
      "Epoch 48/150\n",
      "304/304 [==============================] - 0s 1ms/step - loss: 0.3677 - accuracy: 0.8376\n",
      "Epoch 49/150\n",
      "304/304 [==============================] - 0s 1ms/step - loss: 0.3648 - accuracy: 0.8354\n",
      "Epoch 50/150\n",
      "304/304 [==============================] - 0s 2ms/step - loss: 0.3638 - accuracy: 0.8400\n",
      "Epoch 51/150\n",
      "304/304 [==============================] - 0s 1ms/step - loss: 0.3619 - accuracy: 0.8391\n",
      "Epoch 52/150\n",
      "304/304 [==============================] - 0s 1ms/step - loss: 0.3634 - accuracy: 0.8380\n",
      "Epoch 53/150\n",
      "304/304 [==============================] - 0s 1ms/step - loss: 0.3614 - accuracy: 0.8386\n",
      "Epoch 54/150\n",
      "304/304 [==============================] - 0s 1ms/step - loss: 0.3596 - accuracy: 0.8378\n",
      "Epoch 55/150\n",
      "304/304 [==============================] - 0s 1ms/step - loss: 0.3618 - accuracy: 0.8398\n",
      "Epoch 56/150\n",
      "304/304 [==============================] - 0s 2ms/step - loss: 0.3599 - accuracy: 0.8428\n",
      "Epoch 57/150\n",
      "304/304 [==============================] - 0s 1ms/step - loss: 0.3598 - accuracy: 0.8395\n",
      "Epoch 58/150\n",
      "304/304 [==============================] - 0s 1ms/step - loss: 0.3559 - accuracy: 0.8427\n",
      "Epoch 59/150\n",
      "304/304 [==============================] - 0s 1ms/step - loss: 0.3553 - accuracy: 0.8438\n",
      "Epoch 60/150\n",
      "304/304 [==============================] - 0s 1ms/step - loss: 0.3559 - accuracy: 0.8422\n",
      "Epoch 61/150\n",
      "304/304 [==============================] - 0s 1ms/step - loss: 0.3565 - accuracy: 0.8422\n",
      "Epoch 62/150\n",
      "304/304 [==============================] - 0s 2ms/step - loss: 0.3541 - accuracy: 0.8405\n",
      "Epoch 63/150\n",
      "304/304 [==============================] - 0s 1ms/step - loss: 0.3514 - accuracy: 0.8462\n",
      "Epoch 64/150\n",
      "304/304 [==============================] - 0s 2ms/step - loss: 0.3516 - accuracy: 0.8466\n",
      "Epoch 65/150\n",
      "304/304 [==============================] - 0s 1ms/step - loss: 0.3514 - accuracy: 0.8449\n",
      "Epoch 66/150\n",
      "304/304 [==============================] - 0s 1ms/step - loss: 0.3506 - accuracy: 0.8444\n",
      "Epoch 67/150\n",
      "304/304 [==============================] - 0s 1ms/step - loss: 0.3515 - accuracy: 0.8443\n",
      "Epoch 68/150\n",
      "304/304 [==============================] - 0s 1ms/step - loss: 0.3477 - accuracy: 0.8465\n",
      "Epoch 69/150\n",
      "304/304 [==============================] - 0s 1ms/step - loss: 0.3476 - accuracy: 0.8466\n",
      "Epoch 70/150\n",
      "304/304 [==============================] - 0s 1ms/step - loss: 0.3483 - accuracy: 0.8489\n",
      "Epoch 71/150\n",
      "304/304 [==============================] - 0s 1ms/step - loss: 0.3468 - accuracy: 0.8461\n",
      "Epoch 72/150\n",
      "304/304 [==============================] - 0s 949us/step - loss: 0.3450 - accuracy: 0.8468\n",
      "Epoch 73/150\n",
      "304/304 [==============================] - 0s 1ms/step - loss: 0.3458 - accuracy: 0.8455\n",
      "Epoch 74/150\n",
      "304/304 [==============================] - 0s 1ms/step - loss: 0.3466 - accuracy: 0.8469\n",
      "Epoch 75/150\n",
      "304/304 [==============================] - 0s 1ms/step - loss: 0.3425 - accuracy: 0.8480\n",
      "Epoch 76/150\n",
      "304/304 [==============================] - 0s 1ms/step - loss: 0.3431 - accuracy: 0.8490\n",
      "Epoch 77/150\n",
      "304/304 [==============================] - 0s 1ms/step - loss: 0.3415 - accuracy: 0.8509\n",
      "Epoch 78/150\n",
      "304/304 [==============================] - 0s 1ms/step - loss: 0.3431 - accuracy: 0.8493\n",
      "Epoch 79/150\n",
      "304/304 [==============================] - 0s 1ms/step - loss: 0.3408 - accuracy: 0.8492\n",
      "Epoch 80/150\n",
      "304/304 [==============================] - 0s 1ms/step - loss: 0.3386 - accuracy: 0.8547\n",
      "Epoch 81/150\n",
      "304/304 [==============================] - 0s 1ms/step - loss: 0.3384 - accuracy: 0.8526\n",
      "Epoch 82/150\n",
      "304/304 [==============================] - 0s 990us/step - loss: 0.3375 - accuracy: 0.8521\n",
      "Epoch 83/150\n",
      "304/304 [==============================] - 0s 1ms/step - loss: 0.3375 - accuracy: 0.8497\n",
      "Epoch 84/150\n",
      "304/304 [==============================] - 0s 1ms/step - loss: 0.3362 - accuracy: 0.8534\n",
      "Epoch 85/150\n",
      "304/304 [==============================] - 0s 1ms/step - loss: 0.3365 - accuracy: 0.8535\n",
      "Epoch 86/150\n",
      "304/304 [==============================] - 0s 1ms/step - loss: 0.3339 - accuracy: 0.8529\n",
      "Epoch 87/150\n",
      "304/304 [==============================] - 0s 1ms/step - loss: 0.3358 - accuracy: 0.8523\n",
      "Epoch 88/150\n",
      "304/304 [==============================] - 0s 1ms/step - loss: 0.3311 - accuracy: 0.8566\n",
      "Epoch 89/150\n",
      "304/304 [==============================] - 0s 1ms/step - loss: 0.3309 - accuracy: 0.8559\n",
      "Epoch 90/150\n",
      "304/304 [==============================] - 0s 1ms/step - loss: 0.3314 - accuracy: 0.8532\n",
      "Epoch 91/150\n",
      "304/304 [==============================] - 1s 2ms/step - loss: 0.3292 - accuracy: 0.8598\n",
      "Epoch 92/150\n",
      "304/304 [==============================] - 0s 998us/step - loss: 0.3298 - accuracy: 0.8548\n",
      "Epoch 93/150\n",
      "304/304 [==============================] - 0s 988us/step - loss: 0.3288 - accuracy: 0.8550\n",
      "Epoch 94/150\n",
      "304/304 [==============================] - 0s 983us/step - loss: 0.3267 - accuracy: 0.8571\n",
      "Epoch 95/150\n",
      "304/304 [==============================] - 0s 968us/step - loss: 0.3281 - accuracy: 0.8584\n",
      "Epoch 96/150\n",
      "304/304 [==============================] - 0s 931us/step - loss: 0.3274 - accuracy: 0.8578\n",
      "Epoch 97/150\n",
      "304/304 [==============================] - 0s 1ms/step - loss: 0.3270 - accuracy: 0.8600\n",
      "Epoch 98/150\n",
      "304/304 [==============================] - 0s 1ms/step - loss: 0.3238 - accuracy: 0.8587\n",
      "Epoch 99/150\n",
      "304/304 [==============================] - 0s 1ms/step - loss: 0.3236 - accuracy: 0.8602\n",
      "Epoch 100/150\n",
      "304/304 [==============================] - 0s 1ms/step - loss: 0.3233 - accuracy: 0.8605\n",
      "Epoch 101/150\n",
      "304/304 [==============================] - 0s 1ms/step - loss: 0.3207 - accuracy: 0.8601\n",
      "Epoch 102/150\n",
      "304/304 [==============================] - 0s 1ms/step - loss: 0.3224 - accuracy: 0.8613\n",
      "Epoch 103/150\n",
      "304/304 [==============================] - 0s 1ms/step - loss: 0.3201 - accuracy: 0.8610\n",
      "Epoch 104/150\n",
      "304/304 [==============================] - 0s 1ms/step - loss: 0.3204 - accuracy: 0.8649\n",
      "Epoch 105/150\n",
      "304/304 [==============================] - 0s 1ms/step - loss: 0.3208 - accuracy: 0.8626\n",
      "Epoch 106/150\n",
      "304/304 [==============================] - 0s 1ms/step - loss: 0.3206 - accuracy: 0.8645\n",
      "Epoch 107/150\n",
      "304/304 [==============================] - 0s 1ms/step - loss: 0.3183 - accuracy: 0.8631\n",
      "Epoch 108/150\n",
      "304/304 [==============================] - 0s 2ms/step - loss: 0.3170 - accuracy: 0.8656\n",
      "Epoch 109/150\n",
      "304/304 [==============================] - 0s 1ms/step - loss: 0.3151 - accuracy: 0.8655\n",
      "Epoch 110/150\n",
      "304/304 [==============================] - 0s 1ms/step - loss: 0.3154 - accuracy: 0.8682\n",
      "Epoch 111/150\n",
      "304/304 [==============================] - 0s 1ms/step - loss: 0.3155 - accuracy: 0.8625\n",
      "Epoch 112/150\n",
      "304/304 [==============================] - 0s 1ms/step - loss: 0.3156 - accuracy: 0.8653\n",
      "Epoch 113/150\n",
      "304/304 [==============================] - 0s 1ms/step - loss: 0.3133 - accuracy: 0.8641\n",
      "Epoch 114/150\n",
      "304/304 [==============================] - 0s 1ms/step - loss: 0.3125 - accuracy: 0.8668\n",
      "Epoch 115/150\n",
      "304/304 [==============================] - 0s 1ms/step - loss: 0.3140 - accuracy: 0.8669\n",
      "Epoch 116/150\n",
      "304/304 [==============================] - 0s 1ms/step - loss: 0.3098 - accuracy: 0.8708\n",
      "Epoch 117/150\n",
      "304/304 [==============================] - 0s 1ms/step - loss: 0.3111 - accuracy: 0.8681\n",
      "Epoch 118/150\n",
      "304/304 [==============================] - 0s 1ms/step - loss: 0.3102 - accuracy: 0.8683\n",
      "Epoch 119/150\n",
      "304/304 [==============================] - 0s 1ms/step - loss: 0.3078 - accuracy: 0.8709\n",
      "Epoch 120/150\n",
      "304/304 [==============================] - 0s 977us/step - loss: 0.3083 - accuracy: 0.8714\n",
      "Epoch 121/150\n",
      "304/304 [==============================] - 0s 1ms/step - loss: 0.3066 - accuracy: 0.8692\n",
      "Epoch 122/150\n",
      "304/304 [==============================] - 0s 1ms/step - loss: 0.3074 - accuracy: 0.8720\n",
      "Epoch 123/150\n",
      "304/304 [==============================] - 0s 957us/step - loss: 0.3041 - accuracy: 0.8718\n",
      "Epoch 124/150\n",
      "304/304 [==============================] - 0s 1ms/step - loss: 0.3061 - accuracy: 0.8735\n",
      "Epoch 125/150\n",
      "304/304 [==============================] - 0s 964us/step - loss: 0.3055 - accuracy: 0.8722\n",
      "Epoch 126/150\n",
      "304/304 [==============================] - 0s 1ms/step - loss: 0.3033 - accuracy: 0.8739\n",
      "Epoch 127/150\n",
      "304/304 [==============================] - 0s 976us/step - loss: 0.3033 - accuracy: 0.8751\n",
      "Epoch 128/150\n",
      "304/304 [==============================] - 0s 983us/step - loss: 0.3051 - accuracy: 0.8712\n",
      "Epoch 129/150\n",
      "304/304 [==============================] - 0s 995us/step - loss: 0.3024 - accuracy: 0.8731\n",
      "Epoch 130/150\n",
      "304/304 [==============================] - 0s 1ms/step - loss: 0.3036 - accuracy: 0.8734\n",
      "Epoch 131/150\n",
      "304/304 [==============================] - 0s 1ms/step - loss: 0.3009 - accuracy: 0.8750\n",
      "Epoch 132/150\n",
      "304/304 [==============================] - 0s 1ms/step - loss: 0.2995 - accuracy: 0.8765\n",
      "Epoch 133/150\n",
      "304/304 [==============================] - 0s 1ms/step - loss: 0.3000 - accuracy: 0.8765\n",
      "Epoch 134/150\n",
      "304/304 [==============================] - 0s 1ms/step - loss: 0.2984 - accuracy: 0.8761\n",
      "Epoch 135/150\n",
      "304/304 [==============================] - 0s 992us/step - loss: 0.2967 - accuracy: 0.8786\n",
      "Epoch 136/150\n",
      "304/304 [==============================] - 0s 1ms/step - loss: 0.2949 - accuracy: 0.8801\n",
      "Epoch 137/150\n",
      "304/304 [==============================] - 0s 1ms/step - loss: 0.2956 - accuracy: 0.8782\n",
      "Epoch 138/150\n",
      "304/304 [==============================] - 0s 1ms/step - loss: 0.2951 - accuracy: 0.8753\n",
      "Epoch 139/150\n",
      "304/304 [==============================] - 0s 1ms/step - loss: 0.2932 - accuracy: 0.8762\n",
      "Epoch 140/150\n",
      "304/304 [==============================] - 0s 1ms/step - loss: 0.2958 - accuracy: 0.8770\n",
      "Epoch 141/150\n",
      "304/304 [==============================] - 0s 1ms/step - loss: 0.2927 - accuracy: 0.8798\n",
      "Epoch 142/150\n",
      "304/304 [==============================] - 0s 980us/step - loss: 0.2931 - accuracy: 0.8777\n",
      "Epoch 143/150\n",
      "304/304 [==============================] - 0s 1ms/step - loss: 0.2909 - accuracy: 0.8794\n",
      "Epoch 144/150\n",
      "304/304 [==============================] - 0s 946us/step - loss: 0.2908 - accuracy: 0.8818\n",
      "Epoch 145/150\n",
      "304/304 [==============================] - 0s 1ms/step - loss: 0.2922 - accuracy: 0.8797\n",
      "Epoch 146/150\n",
      "304/304 [==============================] - 0s 1ms/step - loss: 0.2925 - accuracy: 0.8789\n",
      "Epoch 147/150\n",
      "304/304 [==============================] - 0s 1ms/step - loss: 0.2890 - accuracy: 0.8824\n",
      "Epoch 148/150\n",
      "304/304 [==============================] - 0s 996us/step - loss: 0.2878 - accuracy: 0.8807\n",
      "Epoch 149/150\n",
      "304/304 [==============================] - 0s 1ms/step - loss: 0.2879 - accuracy: 0.8794\n",
      "Epoch 150/150\n",
      "304/304 [==============================] - 0s 1ms/step - loss: 0.2901 - accuracy: 0.8798\n"
     ]
    },
    {
     "data": {
      "text/plain": [
       "<keras.callbacks.History at 0x2b84fbdad30>"
      ]
     },
     "execution_count": 98,
     "metadata": {},
     "output_type": "execute_result"
    }
   ],
   "source": [
    "model_4.fit(x= X_res, y= y_res, epochs=150)"
   ]
  },
  {
   "cell_type": "markdown",
   "id": "35302ff4",
   "metadata": {},
   "source": [
    "#### 5. Model with RMSprop Optimizer"
   ]
  },
  {
   "cell_type": "code",
   "execution_count": 99,
   "id": "14d0fce8",
   "metadata": {},
   "outputs": [],
   "source": [
    "model_5 = tf.keras.models.Sequential()"
   ]
  },
  {
   "cell_type": "code",
   "execution_count": 100,
   "id": "45a4d6ac",
   "metadata": {},
   "outputs": [],
   "source": [
    "model_5.add(tf.keras.layers.Dense(units=128, activation='relu', input_shape=(8,)))"
   ]
  },
  {
   "cell_type": "code",
   "execution_count": 101,
   "id": "b3be4e32",
   "metadata": {},
   "outputs": [],
   "source": [
    "model_5.add(tf.keras.layers.Dense(units=64, activation='relu'))"
   ]
  },
  {
   "cell_type": "code",
   "execution_count": 102,
   "id": "cc9d53c2",
   "metadata": {},
   "outputs": [],
   "source": [
    "model_5.add(tf.keras.layers.Dense(units=32, activation='relu'))"
   ]
  },
  {
   "cell_type": "code",
   "execution_count": 103,
   "id": "61c73ede",
   "metadata": {},
   "outputs": [],
   "source": [
    "model_5.add(tf.keras.layers.Dense(units=1, activation = 'sigmoid'))"
   ]
  },
  {
   "cell_type": "code",
   "execution_count": 104,
   "id": "60de0d47",
   "metadata": {},
   "outputs": [],
   "source": [
    "model_5.compile(optimizer = tf.keras.optimizers.RMSprop(learning_rate=0.1), \n",
    "                loss = 'binary_crossentropy', \n",
    "                metrics = ['accuracy'])"
   ]
  },
  {
   "cell_type": "code",
   "execution_count": 105,
   "id": "4b8cc19e",
   "metadata": {},
   "outputs": [
    {
     "name": "stdout",
     "output_type": "stream",
     "text": [
      "Model: \"sequential_4\"\n",
      "_________________________________________________________________\n",
      " Layer (type)                Output Shape              Param #   \n",
      "=================================================================\n",
      " dense_16 (Dense)            (None, 128)               1152      \n",
      "                                                                 \n",
      " dense_17 (Dense)            (None, 64)                8256      \n",
      "                                                                 \n",
      " dense_18 (Dense)            (None, 32)                2080      \n",
      "                                                                 \n",
      " dense_19 (Dense)            (None, 1)                 33        \n",
      "                                                                 \n",
      "=================================================================\n",
      "Total params: 11,521\n",
      "Trainable params: 11,521\n",
      "Non-trainable params: 0\n",
      "_________________________________________________________________\n"
     ]
    }
   ],
   "source": [
    "model_5.summary()"
   ]
  },
  {
   "cell_type": "code",
   "execution_count": 106,
   "id": "7d4cb8d5",
   "metadata": {},
   "outputs": [
    {
     "name": "stdout",
     "output_type": "stream",
     "text": [
      "Epoch 1/150\n",
      "304/304 [==============================] - 1s 1ms/step - loss: 0.7063 - accuracy: 0.7454\n",
      "Epoch 2/150\n",
      "304/304 [==============================] - 0s 1ms/step - loss: 0.4640 - accuracy: 0.7867\n",
      "Epoch 3/150\n",
      "304/304 [==============================] - 0s 1ms/step - loss: 0.4588 - accuracy: 0.7988\n",
      "Epoch 4/150\n",
      "304/304 [==============================] - 0s 1ms/step - loss: 0.4508 - accuracy: 0.7900\n",
      "Epoch 5/150\n",
      "304/304 [==============================] - 0s 1ms/step - loss: 0.4456 - accuracy: 0.7957\n",
      "Epoch 6/150\n",
      "304/304 [==============================] - 0s 1ms/step - loss: 0.4445 - accuracy: 0.7983\n",
      "Epoch 7/150\n",
      "304/304 [==============================] - 0s 1ms/step - loss: 0.4405 - accuracy: 0.8001\n",
      "Epoch 8/150\n",
      "304/304 [==============================] - 1s 2ms/step - loss: 0.4456 - accuracy: 0.8026\n",
      "Epoch 9/150\n",
      "304/304 [==============================] - 0s 1ms/step - loss: 0.4396 - accuracy: 0.8072\n",
      "Epoch 10/150\n",
      "304/304 [==============================] - 0s 2ms/step - loss: 0.4354 - accuracy: 0.8037\n",
      "Epoch 11/150\n",
      "304/304 [==============================] - 0s 1ms/step - loss: 0.4401 - accuracy: 0.8002\n",
      "Epoch 12/150\n",
      "304/304 [==============================] - 0s 1ms/step - loss: 0.4478 - accuracy: 0.8017\n",
      "Epoch 13/150\n",
      "304/304 [==============================] - 0s 1ms/step - loss: 0.4394 - accuracy: 0.8063\n",
      "Epoch 14/150\n",
      "304/304 [==============================] - 0s 1ms/step - loss: 0.4524 - accuracy: 0.8034\n",
      "Epoch 15/150\n",
      "304/304 [==============================] - 0s 1ms/step - loss: 0.4385 - accuracy: 0.7982\n",
      "Epoch 16/150\n",
      "304/304 [==============================] - 0s 1ms/step - loss: 0.4374 - accuracy: 0.8090\n",
      "Epoch 17/150\n",
      "304/304 [==============================] - 0s 1ms/step - loss: 0.4397 - accuracy: 0.7983\n",
      "Epoch 18/150\n",
      "304/304 [==============================] - 0s 1ms/step - loss: 0.4358 - accuracy: 0.8104\n",
      "Epoch 19/150\n",
      "304/304 [==============================] - 0s 1ms/step - loss: 0.4464 - accuracy: 0.8016\n",
      "Epoch 20/150\n",
      "304/304 [==============================] - 0s 1ms/step - loss: 0.4385 - accuracy: 0.8049\n",
      "Epoch 21/150\n",
      "304/304 [==============================] - 0s 1ms/step - loss: 0.4473 - accuracy: 0.7925\n",
      "Epoch 22/150\n",
      "304/304 [==============================] - 0s 1ms/step - loss: 0.4426 - accuracy: 0.7986\n",
      "Epoch 23/150\n",
      "304/304 [==============================] - 0s 1ms/step - loss: 0.4366 - accuracy: 0.8102\n",
      "Epoch 24/150\n",
      "304/304 [==============================] - 0s 1ms/step - loss: 0.4427 - accuracy: 0.8061\n",
      "Epoch 25/150\n",
      "304/304 [==============================] - 0s 1ms/step - loss: 0.4550 - accuracy: 0.8023\n",
      "Epoch 26/150\n",
      "304/304 [==============================] - 0s 1ms/step - loss: 0.4359 - accuracy: 0.8043\n",
      "Epoch 27/150\n",
      "304/304 [==============================] - 1s 2ms/step - loss: 0.4368 - accuracy: 0.8081\n",
      "Epoch 28/150\n",
      "304/304 [==============================] - 0s 1ms/step - loss: 0.4403 - accuracy: 0.8038\n",
      "Epoch 29/150\n",
      "304/304 [==============================] - 0s 1ms/step - loss: 0.4555 - accuracy: 0.8021\n",
      "Epoch 30/150\n",
      "304/304 [==============================] - 0s 1ms/step - loss: 0.4412 - accuracy: 0.8019\n",
      "Epoch 31/150\n",
      "304/304 [==============================] - 0s 1ms/step - loss: 0.4518 - accuracy: 0.8000\n",
      "Epoch 32/150\n",
      "304/304 [==============================] - 0s 1ms/step - loss: 0.4704 - accuracy: 0.8007\n",
      "Epoch 33/150\n",
      "304/304 [==============================] - 0s 1ms/step - loss: 0.4597 - accuracy: 0.7989\n",
      "Epoch 34/150\n",
      "304/304 [==============================] - 1s 2ms/step - loss: 0.4498 - accuracy: 0.8025\n",
      "Epoch 35/150\n",
      "304/304 [==============================] - 0s 1ms/step - loss: 0.4428 - accuracy: 0.7984\n",
      "Epoch 36/150\n",
      "304/304 [==============================] - 0s 1ms/step - loss: 0.4397 - accuracy: 0.8059\n",
      "Epoch 37/150\n",
      "304/304 [==============================] - 0s 1ms/step - loss: 0.4408 - accuracy: 0.8045\n",
      "Epoch 38/150\n",
      "304/304 [==============================] - 0s 1ms/step - loss: 0.4534 - accuracy: 0.8109\n",
      "Epoch 39/150\n",
      "304/304 [==============================] - 1s 2ms/step - loss: 0.4436 - accuracy: 0.8050\n",
      "Epoch 40/150\n",
      "304/304 [==============================] - 1s 3ms/step - loss: 0.4558 - accuracy: 0.7986\n",
      "Epoch 41/150\n",
      "304/304 [==============================] - 1s 2ms/step - loss: 0.4505 - accuracy: 0.7955\n",
      "Epoch 42/150\n",
      "304/304 [==============================] - 1s 2ms/step - loss: 0.4516 - accuracy: 0.8037\n",
      "Epoch 43/150\n",
      "304/304 [==============================] - 1s 2ms/step - loss: 0.4528 - accuracy: 0.7940\n",
      "Epoch 44/150\n",
      "304/304 [==============================] - 0s 1ms/step - loss: 0.4455 - accuracy: 0.8043\n",
      "Epoch 45/150\n",
      "304/304 [==============================] - 0s 1ms/step - loss: 0.4523 - accuracy: 0.8037\n",
      "Epoch 46/150\n",
      "304/304 [==============================] - 0s 1ms/step - loss: 0.4488 - accuracy: 0.8070\n",
      "Epoch 47/150\n",
      "304/304 [==============================] - 0s 1ms/step - loss: 0.4621 - accuracy: 0.8066\n",
      "Epoch 48/150\n",
      "304/304 [==============================] - 0s 1ms/step - loss: 0.4714 - accuracy: 0.8045\n",
      "Epoch 49/150\n",
      "304/304 [==============================] - 0s 1ms/step - loss: 0.4791 - accuracy: 0.7948\n",
      "Epoch 50/150\n",
      "304/304 [==============================] - 0s 1ms/step - loss: 0.4550 - accuracy: 0.8024\n",
      "Epoch 51/150\n",
      "304/304 [==============================] - 1s 2ms/step - loss: 0.5018 - accuracy: 0.7830\n",
      "Epoch 52/150\n",
      "304/304 [==============================] - 1s 2ms/step - loss: 0.4818 - accuracy: 0.7901\n",
      "Epoch 53/150\n",
      "304/304 [==============================] - 1s 2ms/step - loss: 0.4533 - accuracy: 0.8047\n",
      "Epoch 54/150\n",
      "304/304 [==============================] - 1s 2ms/step - loss: 0.4876 - accuracy: 0.7877\n",
      "Epoch 55/150\n",
      "304/304 [==============================] - 1s 2ms/step - loss: 0.5294 - accuracy: 0.7625\n",
      "Epoch 56/150\n",
      "304/304 [==============================] - 1s 2ms/step - loss: 0.5055 - accuracy: 0.7857\n",
      "Epoch 57/150\n",
      "304/304 [==============================] - 1s 2ms/step - loss: 0.4764 - accuracy: 0.7992\n",
      "Epoch 58/150\n",
      "304/304 [==============================] - 1s 2ms/step - loss: 0.5296 - accuracy: 0.7656\n",
      "Epoch 59/150\n",
      "304/304 [==============================] - 1s 2ms/step - loss: 0.5369 - accuracy: 0.7560\n",
      "Epoch 60/150\n",
      "304/304 [==============================] - 1s 2ms/step - loss: 0.5013 - accuracy: 0.7812\n",
      "Epoch 61/150\n",
      "304/304 [==============================] - 1s 2ms/step - loss: 0.4621 - accuracy: 0.7974\n",
      "Epoch 62/150\n",
      "304/304 [==============================] - 1s 2ms/step - loss: 0.4887 - accuracy: 0.7854\n",
      "Epoch 63/150\n",
      "304/304 [==============================] - 0s 2ms/step - loss: 0.4776 - accuracy: 0.7995\n",
      "Epoch 64/150\n",
      "304/304 [==============================] - 0s 1ms/step - loss: 0.4898 - accuracy: 0.7958\n",
      "Epoch 65/150\n",
      "304/304 [==============================] - 0s 1ms/step - loss: 0.4919 - accuracy: 0.7892\n",
      "Epoch 66/150\n",
      "304/304 [==============================] - 0s 1ms/step - loss: 0.4948 - accuracy: 0.7913\n",
      "Epoch 67/150\n",
      "304/304 [==============================] - 0s 1ms/step - loss: 0.4753 - accuracy: 0.7861\n",
      "Epoch 68/150\n",
      "304/304 [==============================] - 0s 1ms/step - loss: 0.4838 - accuracy: 0.7851\n",
      "Epoch 69/150\n",
      "304/304 [==============================] - 0s 1ms/step - loss: 0.4740 - accuracy: 0.7901\n",
      "Epoch 70/150\n",
      "304/304 [==============================] - 0s 1ms/step - loss: 0.4833 - accuracy: 0.7887\n",
      "Epoch 71/150\n",
      "304/304 [==============================] - 0s 1ms/step - loss: 0.4566 - accuracy: 0.7980\n",
      "Epoch 72/150\n",
      "304/304 [==============================] - 0s 2ms/step - loss: 0.4556 - accuracy: 0.7987\n",
      "Epoch 73/150\n",
      "304/304 [==============================] - 0s 1ms/step - loss: 0.4596 - accuracy: 0.7975\n",
      "Epoch 74/150\n",
      "304/304 [==============================] - 0s 1ms/step - loss: 0.5359 - accuracy: 0.7497\n",
      "Epoch 75/150\n",
      "304/304 [==============================] - 1s 2ms/step - loss: 0.4934 - accuracy: 0.7856\n",
      "Epoch 76/150\n",
      "304/304 [==============================] - 0s 1ms/step - loss: 0.4767 - accuracy: 0.7903\n",
      "Epoch 77/150\n",
      "304/304 [==============================] - 0s 1ms/step - loss: 0.4861 - accuracy: 0.7889\n",
      "Epoch 78/150\n",
      "304/304 [==============================] - 0s 1ms/step - loss: 0.4804 - accuracy: 0.7914\n",
      "Epoch 79/150\n",
      "304/304 [==============================] - 0s 1ms/step - loss: 0.4811 - accuracy: 0.7841\n",
      "Epoch 80/150\n",
      "304/304 [==============================] - 1s 3ms/step - loss: 0.4653 - accuracy: 0.7911\n",
      "Epoch 81/150\n",
      "304/304 [==============================] - 1s 3ms/step - loss: 0.4767 - accuracy: 0.8048\n",
      "Epoch 82/150\n",
      "304/304 [==============================] - 1s 2ms/step - loss: 0.4778 - accuracy: 0.7991\n",
      "Epoch 83/150\n",
      "304/304 [==============================] - 0s 1ms/step - loss: 0.4712 - accuracy: 0.7912\n",
      "Epoch 84/150\n",
      "304/304 [==============================] - 0s 1ms/step - loss: 0.4585 - accuracy: 0.7958\n",
      "Epoch 85/150\n",
      "304/304 [==============================] - 0s 1ms/step - loss: 0.4559 - accuracy: 0.7967\n",
      "Epoch 86/150\n",
      "304/304 [==============================] - 0s 1ms/step - loss: 0.4460 - accuracy: 0.8006\n",
      "Epoch 87/150\n",
      "304/304 [==============================] - 0s 1ms/step - loss: 0.4552 - accuracy: 0.7993\n",
      "Epoch 88/150\n",
      "304/304 [==============================] - 0s 1ms/step - loss: 0.4532 - accuracy: 0.7967\n",
      "Epoch 89/150\n",
      "304/304 [==============================] - 0s 1ms/step - loss: 0.4540 - accuracy: 0.7954\n",
      "Epoch 90/150\n",
      "304/304 [==============================] - 0s 1ms/step - loss: 0.4559 - accuracy: 0.8005\n",
      "Epoch 91/150\n",
      "304/304 [==============================] - 0s 1ms/step - loss: 0.4511 - accuracy: 0.8018\n",
      "Epoch 92/150\n",
      "304/304 [==============================] - 0s 1ms/step - loss: 0.4618 - accuracy: 0.8030\n",
      "Epoch 93/150\n",
      "304/304 [==============================] - 0s 1ms/step - loss: 0.4793 - accuracy: 0.7967\n",
      "Epoch 94/150\n",
      "304/304 [==============================] - 0s 1ms/step - loss: 0.4769 - accuracy: 0.8021\n",
      "Epoch 95/150\n",
      "304/304 [==============================] - 0s 1ms/step - loss: 0.4671 - accuracy: 0.8002\n",
      "Epoch 96/150\n",
      "304/304 [==============================] - 0s 1ms/step - loss: 0.4729 - accuracy: 0.7897\n",
      "Epoch 97/150\n",
      "304/304 [==============================] - 0s 1ms/step - loss: 0.5166 - accuracy: 0.7791\n",
      "Epoch 98/150\n",
      "304/304 [==============================] - 0s 1ms/step - loss: 0.4849 - accuracy: 0.7988\n",
      "Epoch 99/150\n",
      "304/304 [==============================] - 0s 1ms/step - loss: 0.4785 - accuracy: 0.8066\n",
      "Epoch 100/150\n",
      "304/304 [==============================] - 0s 1ms/step - loss: 0.4513 - accuracy: 0.8023\n",
      "Epoch 101/150\n",
      "304/304 [==============================] - 0s 1ms/step - loss: 0.4469 - accuracy: 0.8037\n",
      "Epoch 102/150\n",
      "304/304 [==============================] - 0s 1ms/step - loss: 0.4976 - accuracy: 0.7855\n",
      "Epoch 103/150\n",
      "304/304 [==============================] - 0s 1ms/step - loss: 0.4598 - accuracy: 0.8000\n",
      "Epoch 104/150\n",
      "304/304 [==============================] - 1s 2ms/step - loss: 0.4555 - accuracy: 0.8045\n",
      "Epoch 105/150\n",
      "304/304 [==============================] - 0s 2ms/step - loss: 0.4450 - accuracy: 0.8083\n",
      "Epoch 106/150\n",
      "304/304 [==============================] - 1s 2ms/step - loss: 0.4587 - accuracy: 0.8099\n",
      "Epoch 107/150\n",
      "304/304 [==============================] - 0s 1ms/step - loss: 0.4644 - accuracy: 0.8020\n",
      "Epoch 108/150\n",
      "304/304 [==============================] - 0s 1ms/step - loss: 0.4641 - accuracy: 0.8079\n",
      "Epoch 109/150\n",
      "304/304 [==============================] - 0s 1ms/step - loss: 0.4589 - accuracy: 0.7999\n",
      "Epoch 110/150\n",
      "304/304 [==============================] - 0s 1ms/step - loss: 0.4577 - accuracy: 0.8041\n",
      "Epoch 111/150\n",
      "304/304 [==============================] - 0s 1ms/step - loss: 0.4597 - accuracy: 0.8032\n",
      "Epoch 112/150\n",
      "304/304 [==============================] - 0s 2ms/step - loss: 0.4634 - accuracy: 0.8008\n",
      "Epoch 113/150\n",
      "304/304 [==============================] - 0s 1ms/step - loss: 0.4695 - accuracy: 0.8000\n",
      "Epoch 114/150\n",
      "304/304 [==============================] - 1s 2ms/step - loss: 0.4739 - accuracy: 0.7922\n",
      "Epoch 115/150\n",
      "304/304 [==============================] - 0s 1ms/step - loss: 0.4487 - accuracy: 0.8067\n",
      "Epoch 116/150\n",
      "304/304 [==============================] - 0s 1ms/step - loss: 0.4504 - accuracy: 0.8048\n",
      "Epoch 117/150\n",
      "304/304 [==============================] - 0s 2ms/step - loss: 0.4538 - accuracy: 0.7965\n",
      "Epoch 118/150\n",
      "304/304 [==============================] - 0s 1ms/step - loss: 0.4554 - accuracy: 0.7960\n",
      "Epoch 119/150\n",
      "304/304 [==============================] - 0s 1ms/step - loss: 0.4595 - accuracy: 0.8011\n",
      "Epoch 120/150\n",
      "304/304 [==============================] - 0s 1ms/step - loss: 0.4487 - accuracy: 0.7984\n",
      "Epoch 121/150\n",
      "304/304 [==============================] - 0s 1ms/step - loss: 0.4449 - accuracy: 0.8020\n",
      "Epoch 122/150\n",
      "304/304 [==============================] - 0s 1ms/step - loss: 0.4527 - accuracy: 0.7963\n",
      "Epoch 123/150\n",
      "304/304 [==============================] - 0s 1ms/step - loss: 0.4460 - accuracy: 0.7937\n",
      "Epoch 124/150\n",
      "304/304 [==============================] - 0s 1ms/step - loss: 0.4498 - accuracy: 0.8016\n",
      "Epoch 125/150\n",
      "304/304 [==============================] - 0s 1ms/step - loss: 0.4511 - accuracy: 0.7979\n",
      "Epoch 126/150\n",
      "304/304 [==============================] - 0s 1ms/step - loss: 0.4461 - accuracy: 0.7979\n",
      "Epoch 127/150\n",
      "304/304 [==============================] - 0s 1ms/step - loss: 0.4507 - accuracy: 0.8016\n",
      "Epoch 128/150\n",
      "304/304 [==============================] - 0s 1ms/step - loss: 0.4496 - accuracy: 0.8006\n",
      "Epoch 129/150\n",
      "304/304 [==============================] - 0s 1ms/step - loss: 0.4460 - accuracy: 0.7939\n",
      "Epoch 130/150\n",
      "304/304 [==============================] - 0s 1ms/step - loss: 0.4472 - accuracy: 0.8018\n",
      "Epoch 131/150\n",
      "304/304 [==============================] - 0s 1ms/step - loss: 0.4492 - accuracy: 0.7999\n",
      "Epoch 132/150\n",
      "304/304 [==============================] - 0s 1ms/step - loss: 0.4527 - accuracy: 0.7969\n",
      "Epoch 133/150\n",
      "304/304 [==============================] - 0s 1ms/step - loss: 0.4518 - accuracy: 0.8029\n",
      "Epoch 134/150\n",
      "304/304 [==============================] - 0s 1ms/step - loss: 0.4450 - accuracy: 0.8018\n",
      "Epoch 135/150\n",
      "304/304 [==============================] - 0s 1ms/step - loss: 0.4509 - accuracy: 0.8026\n",
      "Epoch 136/150\n",
      "304/304 [==============================] - 0s 1ms/step - loss: 0.4418 - accuracy: 0.8011\n",
      "Epoch 137/150\n",
      "304/304 [==============================] - 0s 1ms/step - loss: 0.4532 - accuracy: 0.8002\n",
      "Epoch 138/150\n",
      "304/304 [==============================] - 0s 1ms/step - loss: 0.4441 - accuracy: 0.8021\n",
      "Epoch 139/150\n",
      "304/304 [==============================] - 0s 1ms/step - loss: 0.4450 - accuracy: 0.8034\n",
      "Epoch 140/150\n",
      "304/304 [==============================] - 0s 1ms/step - loss: 0.4474 - accuracy: 0.7989\n",
      "Epoch 141/150\n",
      "304/304 [==============================] - 0s 1ms/step - loss: 0.4626 - accuracy: 0.8030\n",
      "Epoch 142/150\n",
      "304/304 [==============================] - 0s 1ms/step - loss: 0.4539 - accuracy: 0.7980\n",
      "Epoch 143/150\n",
      "304/304 [==============================] - 0s 1ms/step - loss: 0.4513 - accuracy: 0.8064\n",
      "Epoch 144/150\n",
      "304/304 [==============================] - 0s 1ms/step - loss: 0.4567 - accuracy: 0.8064\n",
      "Epoch 145/150\n",
      "304/304 [==============================] - 0s 1ms/step - loss: 0.4518 - accuracy: 0.8017\n",
      "Epoch 146/150\n",
      "304/304 [==============================] - 0s 1ms/step - loss: 0.4460 - accuracy: 0.8070\n",
      "Epoch 147/150\n",
      "304/304 [==============================] - 0s 1ms/step - loss: 0.4529 - accuracy: 0.8005\n",
      "Epoch 148/150\n",
      "304/304 [==============================] - 0s 1ms/step - loss: 0.4531 - accuracy: 0.8069\n",
      "Epoch 149/150\n",
      "304/304 [==============================] - 1s 2ms/step - loss: 0.4504 - accuracy: 0.8030\n",
      "Epoch 150/150\n",
      "304/304 [==============================] - 0s 1ms/step - loss: 0.4474 - accuracy: 0.8090\n"
     ]
    },
    {
     "data": {
      "text/plain": [
       "<keras.callbacks.History at 0x2b84fce6fa0>"
      ]
     },
     "execution_count": 106,
     "metadata": {},
     "output_type": "execute_result"
    }
   ],
   "source": [
    "model_5.fit(x= X_res, y= y_res, epochs=150)"
   ]
  },
  {
   "cell_type": "markdown",
   "id": "172779e1",
   "metadata": {},
   "source": [
    "### Evaluating the models"
   ]
  },
  {
   "cell_type": "code",
   "execution_count": 107,
   "id": "2af8d9b2",
   "metadata": {},
   "outputs": [
    {
     "name": "stdout",
     "output_type": "stream",
     "text": [
      "Evaluate on test data - Nadam Optimizer\n",
      "48/48 [==============================] - 0s 808us/step - loss: 0.4742 - accuracy: 0.7378\n",
      "Test Loss:  0.47423994541168213 \n",
      "\n",
      "Test Accuracy:  0.7377690672874451\n"
     ]
    }
   ],
   "source": [
    "print(\"Evaluate on test data - Nadam Optimizer\")\n",
    "test_loss, test_acc = model_1.evaluate(X_test, y_test)\n",
    "print(\"Test Loss: \", test_loss, \"\\n\")\n",
    "print(\"Test Accuracy: \", test_acc)"
   ]
  },
  {
   "cell_type": "code",
   "execution_count": 108,
   "id": "5e9905e5",
   "metadata": {},
   "outputs": [
    {
     "name": "stdout",
     "output_type": "stream",
     "text": [
      "Evaluate on test data - Adamax Optimizer\n",
      "48/48 [==============================] - 0s 922us/step - loss: 0.4202 - accuracy: 0.7854\n",
      "Test Loss:  0.4201503396034241 \n",
      "\n",
      "Test Accuracy:  0.7853881120681763\n"
     ]
    }
   ],
   "source": [
    "print(\"Evaluate on test data - Adamax Optimizer\")\n",
    "test_loss_2, test_acc_2 = model_2.evaluate(X_test, y_test)\n",
    "print(\"Test Loss: \", test_loss_2, \"\\n\")\n",
    "print(\"Test Accuracy: \", test_acc_2)"
   ]
  },
  {
   "cell_type": "code",
   "execution_count": 109,
   "id": "a7bd1873",
   "metadata": {},
   "outputs": [
    {
     "name": "stdout",
     "output_type": "stream",
     "text": [
      "Evaluate on test data - Adam Optimizer\n",
      "48/48 [==============================] - 0s 717us/step - loss: 0.5518 - accuracy: 0.7215\n",
      "Test Loss:  0.5517846345901489 \n",
      "\n",
      "Test Accuracy:  0.7214611768722534\n"
     ]
    }
   ],
   "source": [
    "print(\"Evaluate on test data - Adam Optimizer\")\n",
    "test_loss_3, test_acc_3 = model_3.evaluate(X_test, y_test)\n",
    "print(\"Test Loss: \", test_loss_3, \"\\n\")\n",
    "print(\"Test Accuracy: \", test_acc_3)"
   ]
  },
  {
   "cell_type": "code",
   "execution_count": 110,
   "id": "509df77d",
   "metadata": {},
   "outputs": [
    {
     "name": "stdout",
     "output_type": "stream",
     "text": [
      "Evaluate on test data - SGD Optimizer\n",
      "48/48 [==============================] - 0s 995us/step - loss: 0.3531 - accuracy: 0.8474\n",
      "Test Loss:  0.3530927896499634 \n",
      "\n",
      "Test Accuracy:  0.8473581075668335\n"
     ]
    }
   ],
   "source": [
    "print(\"Evaluate on test data - SGD Optimizer\")\n",
    "test_loss_4, test_acc_4 = model_4.evaluate(X_test, y_test)\n",
    "print(\"Test Loss: \", test_loss_4, \"\\n\")\n",
    "print(\"Test Accuracy: \", test_acc_4)"
   ]
  },
  {
   "cell_type": "code",
   "execution_count": 111,
   "id": "2996f9ca",
   "metadata": {},
   "outputs": [
    {
     "name": "stdout",
     "output_type": "stream",
     "text": [
      "Evaluate on test data - RMSprop Optimizer\n",
      "48/48 [==============================] - 0s 1ms/step - loss: 0.3693 - accuracy: 0.7339\n",
      "Test Loss:  0.3693225681781769 \n",
      "\n",
      "Test Accuracy:  0.7338551878929138\n"
     ]
    }
   ],
   "source": [
    "print(\"Evaluate on test data - RMSprop Optimizer\")\n",
    "test_loss_5, test_acc_5 = model_5.evaluate(X_test, y_test)\n",
    "print(\"Test Loss: \", test_loss_5, \"\\n\")\n",
    "print(\"Test Accuracy: \", test_acc_5)"
   ]
  },
  {
   "cell_type": "code",
   "execution_count": 112,
   "id": "fddf56c6",
   "metadata": {},
   "outputs": [],
   "source": [
    "y_pred = []"
   ]
  },
  {
   "cell_type": "code",
   "execution_count": 113,
   "id": "a3d4aaee",
   "metadata": {},
   "outputs": [
    {
     "data": {
      "text/plain": [
       "array([[1.3947129e-02],\n",
       "       [1.0492840e-04],\n",
       "       [2.9559970e-02],\n",
       "       [1.3224244e-01],\n",
       "       [6.4268607e-01],\n",
       "       [2.4557710e-02],\n",
       "       [5.4501116e-02],\n",
       "       [1.6113189e-01],\n",
       "       [5.4812431e-04],\n",
       "       [3.3172965e-04]], dtype=float32)"
      ]
     },
     "execution_count": 113,
     "metadata": {},
     "output_type": "execute_result"
    }
   ],
   "source": [
    "yp = model_4.predict(X_test)\n",
    "yp[:10]"
   ]
  },
  {
   "cell_type": "code",
   "execution_count": 114,
   "id": "a96e1e08",
   "metadata": {},
   "outputs": [],
   "source": [
    "y_pred = []\n",
    "for element in yp:\n",
    "    if element > 0.5:\n",
    "        y_pred.append(1)\n",
    "    else:\n",
    "        y_pred.append(0)"
   ]
  },
  {
   "cell_type": "code",
   "execution_count": 115,
   "id": "8eb8683f",
   "metadata": {},
   "outputs": [
    {
     "data": {
      "text/plain": [
       "[0, 0, 0, 0, 1, 0, 0, 0, 0, 0]"
      ]
     },
     "execution_count": 115,
     "metadata": {},
     "output_type": "execute_result"
    }
   ],
   "source": [
    "y_pred[:10]"
   ]
  },
  {
   "cell_type": "code",
   "execution_count": 116,
   "id": "9ee02cf7",
   "metadata": {},
   "outputs": [
    {
     "data": {
      "text/plain": [
       "4688    0\n",
       "4478    0\n",
       "3849    0\n",
       "4355    0\n",
       "3826    0\n",
       "3951    0\n",
       "3396    0\n",
       "465     0\n",
       "410     0\n",
       "1632    0\n",
       "Name: stroke, dtype: int64"
      ]
     },
     "execution_count": 116,
     "metadata": {},
     "output_type": "execute_result"
    }
   ],
   "source": [
    "y_test[:10]"
   ]
  },
  {
   "cell_type": "code",
   "execution_count": 117,
   "id": "1932bf45",
   "metadata": {},
   "outputs": [
    {
     "name": "stdout",
     "output_type": "stream",
     "text": [
      "              precision    recall  f1-score   support\n",
      "\n",
      "           0       0.97      0.87      0.91      1444\n",
      "           1       0.19      0.52      0.28        89\n",
      "\n",
      "    accuracy                           0.85      1533\n",
      "   macro avg       0.58      0.69      0.60      1533\n",
      "weighted avg       0.92      0.85      0.88      1533\n",
      "\n"
     ]
    }
   ],
   "source": [
    "from sklearn.metrics import confusion_matrix,classification_report\n",
    "print(classification_report(y_test,y_pred))"
   ]
  },
  {
   "cell_type": "markdown",
   "id": "9d2e02d0",
   "metadata": {},
   "source": [
    "### Saving the best model"
   ]
  },
  {
   "cell_type": "code",
   "execution_count": 118,
   "id": "27f6c64e",
   "metadata": {},
   "outputs": [],
   "source": [
    "Keras_file = \"Strokes_Predictor.h5\""
   ]
  },
  {
   "cell_type": "code",
   "execution_count": 119,
   "id": "61de2026",
   "metadata": {},
   "outputs": [],
   "source": [
    "tf.keras.models.save_model(model_4, Keras_file)"
   ]
  },
  {
   "cell_type": "code",
   "execution_count": 120,
   "id": "0c014932",
   "metadata": {},
   "outputs": [
    {
     "name": "stdout",
     "output_type": "stream",
     "text": [
      "INFO:tensorflow:Assets written to: C:\\Users\\nehak\\AppData\\Local\\Temp\\tmpw79ud21a\\assets\n"
     ]
    },
    {
     "name": "stderr",
     "output_type": "stream",
     "text": [
      "WARNING:absl:Buffer deduplication procedure will be skipped when flatbuffer library is not properly loaded\n"
     ]
    },
    {
     "data": {
      "text/plain": [
       "48320"
      ]
     },
     "execution_count": 120,
     "metadata": {},
     "output_type": "execute_result"
    }
   ],
   "source": [
    "model = tf.keras.models.load_model('Strokes_Predictor.h5')\n",
    "converter = tf.lite.TFLiteConverter.from_keras_model(model)\n",
    "tflite_model = converter.convert()\n",
    "open(\"converted_model.tflite\", \"wb\").write(tflite_model)"
   ]
  },
  {
   "cell_type": "code",
   "execution_count": 121,
   "id": "b68d3a4f",
   "metadata": {},
   "outputs": [
    {
     "data": {
      "text/html": [
       "<div>\n",
       "<style scoped>\n",
       "    .dataframe tbody tr th:only-of-type {\n",
       "        vertical-align: middle;\n",
       "    }\n",
       "\n",
       "    .dataframe tbody tr th {\n",
       "        vertical-align: top;\n",
       "    }\n",
       "\n",
       "    .dataframe thead th {\n",
       "        text-align: right;\n",
       "    }\n",
       "</style>\n",
       "<table border=\"1\" class=\"dataframe\">\n",
       "  <thead>\n",
       "    <tr style=\"text-align: right;\">\n",
       "      <th></th>\n",
       "      <th>age</th>\n",
       "      <th>avg_glucose_level</th>\n",
       "      <th>heart_disease</th>\n",
       "      <th>hypertension</th>\n",
       "      <th>No</th>\n",
       "      <th>formerly smoked</th>\n",
       "      <th>Self-employed</th>\n",
       "      <th>bmi</th>\n",
       "    </tr>\n",
       "  </thead>\n",
       "  <tbody>\n",
       "    <tr>\n",
       "      <th>0</th>\n",
       "      <td>34</td>\n",
       "      <td>130</td>\n",
       "      <td>0</td>\n",
       "      <td>1</td>\n",
       "      <td>1</td>\n",
       "      <td>0</td>\n",
       "      <td>1</td>\n",
       "      <td>59</td>\n",
       "    </tr>\n",
       "  </tbody>\n",
       "</table>\n",
       "</div>"
      ],
      "text/plain": [
       "   age  avg_glucose_level  heart_disease  hypertension  No  formerly smoked  \\\n",
       "0   34                130              0             1   1                0   \n",
       "\n",
       "   Self-employed  bmi  \n",
       "0              1   59  "
      ]
     },
     "execution_count": 121,
     "metadata": {},
     "output_type": "execute_result"
    }
   ],
   "source": [
    "x= ['age','avg_glucose_level','heart_disease','hypertension','No','formerly smoked','Self-employed','bmi']\n",
    "data = [34,130,0,1,1,0,1,59]\n",
    "paitentid_HM = pd.DataFrame([data],columns = x)\n",
    "paitentid_HM.head()"
   ]
  },
  {
   "cell_type": "code",
   "execution_count": 122,
   "id": "559eeb5b",
   "metadata": {},
   "outputs": [
    {
     "name": "stdout",
     "output_type": "stream",
     "text": [
      "[[0.]]\n"
     ]
    }
   ],
   "source": [
    "predictions_diabetes = model_4.predict(paitentid_HM)\n",
    "print(predictions_diabetes)"
   ]
  }
 ],
 "metadata": {
  "kernelspec": {
   "display_name": "Python 3 (ipykernel)",
   "language": "python",
   "name": "python3"
  },
  "language_info": {
   "codemirror_mode": {
    "name": "ipython",
    "version": 3
   },
   "file_extension": ".py",
   "mimetype": "text/x-python",
   "name": "python",
   "nbconvert_exporter": "python",
   "pygments_lexer": "ipython3",
   "version": "3.9.12"
  }
 },
 "nbformat": 4,
 "nbformat_minor": 5
}
